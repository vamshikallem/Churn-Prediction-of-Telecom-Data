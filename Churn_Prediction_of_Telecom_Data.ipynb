{
  "nbformat": 4,
  "nbformat_minor": 0,
  "metadata": {
    "colab": {
      "name": "Churn Prediction of Telecom Data.ipynb",
      "provenance": [],
      "collapsed_sections": []
    },
    "kernelspec": {
      "display_name": "Python 3",
      "language": "python",
      "name": "python3"
    },
    "language_info": {
      "codemirror_mode": {
        "name": "ipython",
        "version": 3
      },
      "file_extension": ".py",
      "mimetype": "text/x-python",
      "name": "python",
      "nbconvert_exporter": "python",
      "pygments_lexer": "ipython3",
      "version": "3.7.1"
    }
  },
  "cells": [
    {
      "cell_type": "markdown",
      "metadata": {
        "colab_type": "text",
        "id": "9Ov-9i57ot9Z"
      },
      "source": [
        "# Churn Data Analysis In Telecommunications\n",
        "\n",
        "Source: https://www.kaggle.com/becksddf/churn-in-telecoms-dataset \n",
        "\n",
        "\n",
        "Initially, we install all the required libraries."
      ]
    },
    {
      "cell_type": "code",
      "metadata": {
        "colab_type": "code",
        "id": "0K8523M-ot9b",
        "scrolled": true,
        "colab": {
          "base_uri": "https://localhost:8080/",
          "height": 221
        },
        "outputId": "07b57f9c-42c8-4c97-cd7e-955614d08b88"
      },
      "source": [
        "!pip install missingno\n",
        "from scipy import stats\n",
        "import pandas as pd\n",
        "import numpy as np\n",
        "import seaborn as sns\n",
        "from matplotlib import pyplot as plt\n",
        "from matplotlib.pyplot import pie, axis, show\n"
      ],
      "execution_count": null,
      "outputs": [
        {
          "output_type": "stream",
          "text": [
            "Requirement already satisfied: missingno in /usr/local/lib/python3.6/dist-packages (0.4.2)\n",
            "Requirement already satisfied: seaborn in /usr/local/lib/python3.6/dist-packages (from missingno) (0.10.1)\n",
            "Requirement already satisfied: matplotlib in /usr/local/lib/python3.6/dist-packages (from missingno) (3.2.1)\n",
            "Requirement already satisfied: scipy in /usr/local/lib/python3.6/dist-packages (from missingno) (1.4.1)\n",
            "Requirement already satisfied: numpy in /usr/local/lib/python3.6/dist-packages (from missingno) (1.18.4)\n",
            "Requirement already satisfied: pandas>=0.22.0 in /usr/local/lib/python3.6/dist-packages (from seaborn->missingno) (1.0.3)\n",
            "Requirement already satisfied: cycler>=0.10 in /usr/local/lib/python3.6/dist-packages (from matplotlib->missingno) (0.10.0)\n",
            "Requirement already satisfied: python-dateutil>=2.1 in /usr/local/lib/python3.6/dist-packages (from matplotlib->missingno) (2.8.1)\n",
            "Requirement already satisfied: kiwisolver>=1.0.1 in /usr/local/lib/python3.6/dist-packages (from matplotlib->missingno) (1.2.0)\n",
            "Requirement already satisfied: pyparsing!=2.0.4,!=2.1.2,!=2.1.6,>=2.0.1 in /usr/local/lib/python3.6/dist-packages (from matplotlib->missingno) (2.4.7)\n",
            "Requirement already satisfied: pytz>=2017.2 in /usr/local/lib/python3.6/dist-packages (from pandas>=0.22.0->seaborn->missingno) (2018.9)\n",
            "Requirement already satisfied: six in /usr/local/lib/python3.6/dist-packages (from cycler>=0.10->matplotlib->missingno) (1.12.0)\n"
          ],
          "name": "stdout"
        }
      ]
    },
    {
      "cell_type": "markdown",
      "metadata": {
        "colab_type": "text",
        "id": "sQ4P_4NLot9g"
      },
      "source": [
        "Then, we load the csv file into a dataframe 'df'."
      ]
    },
    {
      "cell_type": "code",
      "metadata": {
        "colab_type": "code",
        "id": "krxJd8hmot9h",
        "colab": {}
      },
      "source": [
        "df = pd.read_csv(\"bigml_59c28831336c6604c800002a.csv\")"
      ],
      "execution_count": null,
      "outputs": []
    },
    {
      "cell_type": "markdown",
      "metadata": {
        "colab_type": "text",
        "id": "oKtLMI64ot9k"
      },
      "source": [
        "df.head is used to display the first ten rows of the dataframe."
      ]
    },
    {
      "cell_type": "code",
      "metadata": {
        "colab_type": "code",
        "id": "P3wGPsxEot9k",
        "colab": {
          "base_uri": "https://localhost:8080/",
          "height": 583
        },
        "outputId": "7a0b733f-a9d6-4272-aaf9-a40230d0e4bf"
      },
      "source": [
        "df.head(10)"
      ],
      "execution_count": null,
      "outputs": [
        {
          "output_type": "execute_result",
          "data": {
            "text/html": [
              "<div>\n",
              "<style scoped>\n",
              "    .dataframe tbody tr th:only-of-type {\n",
              "        vertical-align: middle;\n",
              "    }\n",
              "\n",
              "    .dataframe tbody tr th {\n",
              "        vertical-align: top;\n",
              "    }\n",
              "\n",
              "    .dataframe thead th {\n",
              "        text-align: right;\n",
              "    }\n",
              "</style>\n",
              "<table border=\"1\" class=\"dataframe\">\n",
              "  <thead>\n",
              "    <tr style=\"text-align: right;\">\n",
              "      <th></th>\n",
              "      <th>state</th>\n",
              "      <th>account length</th>\n",
              "      <th>area code</th>\n",
              "      <th>phone number</th>\n",
              "      <th>international plan</th>\n",
              "      <th>voice mail plan</th>\n",
              "      <th>number vmail messages</th>\n",
              "      <th>total day minutes</th>\n",
              "      <th>total day calls</th>\n",
              "      <th>total day charge</th>\n",
              "      <th>total eve minutes</th>\n",
              "      <th>total eve calls</th>\n",
              "      <th>total eve charge</th>\n",
              "      <th>total night minutes</th>\n",
              "      <th>total night calls</th>\n",
              "      <th>total night charge</th>\n",
              "      <th>total intl minutes</th>\n",
              "      <th>total intl calls</th>\n",
              "      <th>total intl charge</th>\n",
              "      <th>customer service calls</th>\n",
              "      <th>churn</th>\n",
              "    </tr>\n",
              "  </thead>\n",
              "  <tbody>\n",
              "    <tr>\n",
              "      <th>0</th>\n",
              "      <td>KS</td>\n",
              "      <td>128</td>\n",
              "      <td>415</td>\n",
              "      <td>382-4657</td>\n",
              "      <td>no</td>\n",
              "      <td>yes</td>\n",
              "      <td>25</td>\n",
              "      <td>265.1</td>\n",
              "      <td>110</td>\n",
              "      <td>45.07</td>\n",
              "      <td>197.4</td>\n",
              "      <td>99</td>\n",
              "      <td>16.78</td>\n",
              "      <td>244.7</td>\n",
              "      <td>91</td>\n",
              "      <td>11.01</td>\n",
              "      <td>10.0</td>\n",
              "      <td>3</td>\n",
              "      <td>2.70</td>\n",
              "      <td>1</td>\n",
              "      <td>False</td>\n",
              "    </tr>\n",
              "    <tr>\n",
              "      <th>1</th>\n",
              "      <td>OH</td>\n",
              "      <td>107</td>\n",
              "      <td>415</td>\n",
              "      <td>371-7191</td>\n",
              "      <td>no</td>\n",
              "      <td>yes</td>\n",
              "      <td>26</td>\n",
              "      <td>161.6</td>\n",
              "      <td>123</td>\n",
              "      <td>27.47</td>\n",
              "      <td>195.5</td>\n",
              "      <td>103</td>\n",
              "      <td>16.62</td>\n",
              "      <td>254.4</td>\n",
              "      <td>103</td>\n",
              "      <td>11.45</td>\n",
              "      <td>13.7</td>\n",
              "      <td>3</td>\n",
              "      <td>3.70</td>\n",
              "      <td>1</td>\n",
              "      <td>False</td>\n",
              "    </tr>\n",
              "    <tr>\n",
              "      <th>2</th>\n",
              "      <td>NJ</td>\n",
              "      <td>137</td>\n",
              "      <td>415</td>\n",
              "      <td>358-1921</td>\n",
              "      <td>no</td>\n",
              "      <td>no</td>\n",
              "      <td>0</td>\n",
              "      <td>243.4</td>\n",
              "      <td>114</td>\n",
              "      <td>41.38</td>\n",
              "      <td>121.2</td>\n",
              "      <td>110</td>\n",
              "      <td>10.30</td>\n",
              "      <td>162.6</td>\n",
              "      <td>104</td>\n",
              "      <td>7.32</td>\n",
              "      <td>12.2</td>\n",
              "      <td>5</td>\n",
              "      <td>3.29</td>\n",
              "      <td>0</td>\n",
              "      <td>False</td>\n",
              "    </tr>\n",
              "    <tr>\n",
              "      <th>3</th>\n",
              "      <td>OH</td>\n",
              "      <td>84</td>\n",
              "      <td>408</td>\n",
              "      <td>375-9999</td>\n",
              "      <td>yes</td>\n",
              "      <td>no</td>\n",
              "      <td>0</td>\n",
              "      <td>299.4</td>\n",
              "      <td>71</td>\n",
              "      <td>50.90</td>\n",
              "      <td>61.9</td>\n",
              "      <td>88</td>\n",
              "      <td>5.26</td>\n",
              "      <td>196.9</td>\n",
              "      <td>89</td>\n",
              "      <td>8.86</td>\n",
              "      <td>6.6</td>\n",
              "      <td>7</td>\n",
              "      <td>1.78</td>\n",
              "      <td>2</td>\n",
              "      <td>False</td>\n",
              "    </tr>\n",
              "    <tr>\n",
              "      <th>4</th>\n",
              "      <td>OK</td>\n",
              "      <td>75</td>\n",
              "      <td>415</td>\n",
              "      <td>330-6626</td>\n",
              "      <td>yes</td>\n",
              "      <td>no</td>\n",
              "      <td>0</td>\n",
              "      <td>166.7</td>\n",
              "      <td>113</td>\n",
              "      <td>28.34</td>\n",
              "      <td>148.3</td>\n",
              "      <td>122</td>\n",
              "      <td>12.61</td>\n",
              "      <td>186.9</td>\n",
              "      <td>121</td>\n",
              "      <td>8.41</td>\n",
              "      <td>10.1</td>\n",
              "      <td>3</td>\n",
              "      <td>2.73</td>\n",
              "      <td>3</td>\n",
              "      <td>False</td>\n",
              "    </tr>\n",
              "    <tr>\n",
              "      <th>5</th>\n",
              "      <td>AL</td>\n",
              "      <td>118</td>\n",
              "      <td>510</td>\n",
              "      <td>391-8027</td>\n",
              "      <td>yes</td>\n",
              "      <td>no</td>\n",
              "      <td>0</td>\n",
              "      <td>223.4</td>\n",
              "      <td>98</td>\n",
              "      <td>37.98</td>\n",
              "      <td>220.6</td>\n",
              "      <td>101</td>\n",
              "      <td>18.75</td>\n",
              "      <td>203.9</td>\n",
              "      <td>118</td>\n",
              "      <td>9.18</td>\n",
              "      <td>6.3</td>\n",
              "      <td>6</td>\n",
              "      <td>1.70</td>\n",
              "      <td>0</td>\n",
              "      <td>False</td>\n",
              "    </tr>\n",
              "    <tr>\n",
              "      <th>6</th>\n",
              "      <td>MA</td>\n",
              "      <td>121</td>\n",
              "      <td>510</td>\n",
              "      <td>355-9993</td>\n",
              "      <td>no</td>\n",
              "      <td>yes</td>\n",
              "      <td>24</td>\n",
              "      <td>218.2</td>\n",
              "      <td>88</td>\n",
              "      <td>37.09</td>\n",
              "      <td>348.5</td>\n",
              "      <td>108</td>\n",
              "      <td>29.62</td>\n",
              "      <td>212.6</td>\n",
              "      <td>118</td>\n",
              "      <td>9.57</td>\n",
              "      <td>7.5</td>\n",
              "      <td>7</td>\n",
              "      <td>2.03</td>\n",
              "      <td>3</td>\n",
              "      <td>False</td>\n",
              "    </tr>\n",
              "    <tr>\n",
              "      <th>7</th>\n",
              "      <td>MO</td>\n",
              "      <td>147</td>\n",
              "      <td>415</td>\n",
              "      <td>329-9001</td>\n",
              "      <td>yes</td>\n",
              "      <td>no</td>\n",
              "      <td>0</td>\n",
              "      <td>157.0</td>\n",
              "      <td>79</td>\n",
              "      <td>26.69</td>\n",
              "      <td>103.1</td>\n",
              "      <td>94</td>\n",
              "      <td>8.76</td>\n",
              "      <td>211.8</td>\n",
              "      <td>96</td>\n",
              "      <td>9.53</td>\n",
              "      <td>7.1</td>\n",
              "      <td>6</td>\n",
              "      <td>1.92</td>\n",
              "      <td>0</td>\n",
              "      <td>False</td>\n",
              "    </tr>\n",
              "    <tr>\n",
              "      <th>8</th>\n",
              "      <td>LA</td>\n",
              "      <td>117</td>\n",
              "      <td>408</td>\n",
              "      <td>335-4719</td>\n",
              "      <td>no</td>\n",
              "      <td>no</td>\n",
              "      <td>0</td>\n",
              "      <td>184.5</td>\n",
              "      <td>97</td>\n",
              "      <td>31.37</td>\n",
              "      <td>351.6</td>\n",
              "      <td>80</td>\n",
              "      <td>29.89</td>\n",
              "      <td>215.8</td>\n",
              "      <td>90</td>\n",
              "      <td>9.71</td>\n",
              "      <td>8.7</td>\n",
              "      <td>4</td>\n",
              "      <td>2.35</td>\n",
              "      <td>1</td>\n",
              "      <td>False</td>\n",
              "    </tr>\n",
              "    <tr>\n",
              "      <th>9</th>\n",
              "      <td>WV</td>\n",
              "      <td>141</td>\n",
              "      <td>415</td>\n",
              "      <td>330-8173</td>\n",
              "      <td>yes</td>\n",
              "      <td>yes</td>\n",
              "      <td>37</td>\n",
              "      <td>258.6</td>\n",
              "      <td>84</td>\n",
              "      <td>43.96</td>\n",
              "      <td>222.0</td>\n",
              "      <td>111</td>\n",
              "      <td>18.87</td>\n",
              "      <td>326.4</td>\n",
              "      <td>97</td>\n",
              "      <td>14.69</td>\n",
              "      <td>11.2</td>\n",
              "      <td>5</td>\n",
              "      <td>3.02</td>\n",
              "      <td>0</td>\n",
              "      <td>False</td>\n",
              "    </tr>\n",
              "  </tbody>\n",
              "</table>\n",
              "</div>"
            ],
            "text/plain": [
              "  state  account length  ...  customer service calls  churn\n",
              "0    KS             128  ...                       1  False\n",
              "1    OH             107  ...                       1  False\n",
              "2    NJ             137  ...                       0  False\n",
              "3    OH              84  ...                       2  False\n",
              "4    OK              75  ...                       3  False\n",
              "5    AL             118  ...                       0  False\n",
              "6    MA             121  ...                       3  False\n",
              "7    MO             147  ...                       0  False\n",
              "8    LA             117  ...                       1  False\n",
              "9    WV             141  ...                       0  False\n",
              "\n",
              "[10 rows x 21 columns]"
            ]
          },
          "metadata": {
            "tags": []
          },
          "execution_count": 466
        }
      ]
    },
    {
      "cell_type": "markdown",
      "metadata": {
        "colab_type": "text",
        "id": "TweOdFzAot9n"
      },
      "source": [
        "df.describe() is used to analyze the characeristics of the columns in the dataframe."
      ]
    },
    {
      "cell_type": "code",
      "metadata": {
        "colab_type": "code",
        "id": "T7Vb91Mwot9o",
        "colab": {
          "base_uri": "https://localhost:8080/",
          "height": 351
        },
        "outputId": "cdaec7f6-bbc5-4496-bd12-b9b79a7218b3"
      },
      "source": [
        "df.describe()"
      ],
      "execution_count": null,
      "outputs": [
        {
          "output_type": "execute_result",
          "data": {
            "text/html": [
              "<div>\n",
              "<style scoped>\n",
              "    .dataframe tbody tr th:only-of-type {\n",
              "        vertical-align: middle;\n",
              "    }\n",
              "\n",
              "    .dataframe tbody tr th {\n",
              "        vertical-align: top;\n",
              "    }\n",
              "\n",
              "    .dataframe thead th {\n",
              "        text-align: right;\n",
              "    }\n",
              "</style>\n",
              "<table border=\"1\" class=\"dataframe\">\n",
              "  <thead>\n",
              "    <tr style=\"text-align: right;\">\n",
              "      <th></th>\n",
              "      <th>account length</th>\n",
              "      <th>area code</th>\n",
              "      <th>number vmail messages</th>\n",
              "      <th>total day minutes</th>\n",
              "      <th>total day calls</th>\n",
              "      <th>total day charge</th>\n",
              "      <th>total eve minutes</th>\n",
              "      <th>total eve calls</th>\n",
              "      <th>total eve charge</th>\n",
              "      <th>total night minutes</th>\n",
              "      <th>total night calls</th>\n",
              "      <th>total night charge</th>\n",
              "      <th>total intl minutes</th>\n",
              "      <th>total intl calls</th>\n",
              "      <th>total intl charge</th>\n",
              "      <th>customer service calls</th>\n",
              "    </tr>\n",
              "  </thead>\n",
              "  <tbody>\n",
              "    <tr>\n",
              "      <th>count</th>\n",
              "      <td>3333.000000</td>\n",
              "      <td>3333.000000</td>\n",
              "      <td>3333.000000</td>\n",
              "      <td>3333.000000</td>\n",
              "      <td>3333.000000</td>\n",
              "      <td>3333.000000</td>\n",
              "      <td>3333.000000</td>\n",
              "      <td>3333.000000</td>\n",
              "      <td>3333.000000</td>\n",
              "      <td>3333.000000</td>\n",
              "      <td>3333.000000</td>\n",
              "      <td>3333.000000</td>\n",
              "      <td>3333.000000</td>\n",
              "      <td>3333.000000</td>\n",
              "      <td>3333.000000</td>\n",
              "      <td>3333.000000</td>\n",
              "    </tr>\n",
              "    <tr>\n",
              "      <th>mean</th>\n",
              "      <td>101.064806</td>\n",
              "      <td>437.182418</td>\n",
              "      <td>8.099010</td>\n",
              "      <td>179.775098</td>\n",
              "      <td>100.435644</td>\n",
              "      <td>30.562307</td>\n",
              "      <td>200.980348</td>\n",
              "      <td>100.114311</td>\n",
              "      <td>17.083540</td>\n",
              "      <td>200.872037</td>\n",
              "      <td>100.107711</td>\n",
              "      <td>9.039325</td>\n",
              "      <td>10.237294</td>\n",
              "      <td>4.479448</td>\n",
              "      <td>2.764581</td>\n",
              "      <td>1.562856</td>\n",
              "    </tr>\n",
              "    <tr>\n",
              "      <th>std</th>\n",
              "      <td>39.822106</td>\n",
              "      <td>42.371290</td>\n",
              "      <td>13.688365</td>\n",
              "      <td>54.467389</td>\n",
              "      <td>20.069084</td>\n",
              "      <td>9.259435</td>\n",
              "      <td>50.713844</td>\n",
              "      <td>19.922625</td>\n",
              "      <td>4.310668</td>\n",
              "      <td>50.573847</td>\n",
              "      <td>19.568609</td>\n",
              "      <td>2.275873</td>\n",
              "      <td>2.791840</td>\n",
              "      <td>2.461214</td>\n",
              "      <td>0.753773</td>\n",
              "      <td>1.315491</td>\n",
              "    </tr>\n",
              "    <tr>\n",
              "      <th>min</th>\n",
              "      <td>1.000000</td>\n",
              "      <td>408.000000</td>\n",
              "      <td>0.000000</td>\n",
              "      <td>0.000000</td>\n",
              "      <td>0.000000</td>\n",
              "      <td>0.000000</td>\n",
              "      <td>0.000000</td>\n",
              "      <td>0.000000</td>\n",
              "      <td>0.000000</td>\n",
              "      <td>23.200000</td>\n",
              "      <td>33.000000</td>\n",
              "      <td>1.040000</td>\n",
              "      <td>0.000000</td>\n",
              "      <td>0.000000</td>\n",
              "      <td>0.000000</td>\n",
              "      <td>0.000000</td>\n",
              "    </tr>\n",
              "    <tr>\n",
              "      <th>25%</th>\n",
              "      <td>74.000000</td>\n",
              "      <td>408.000000</td>\n",
              "      <td>0.000000</td>\n",
              "      <td>143.700000</td>\n",
              "      <td>87.000000</td>\n",
              "      <td>24.430000</td>\n",
              "      <td>166.600000</td>\n",
              "      <td>87.000000</td>\n",
              "      <td>14.160000</td>\n",
              "      <td>167.000000</td>\n",
              "      <td>87.000000</td>\n",
              "      <td>7.520000</td>\n",
              "      <td>8.500000</td>\n",
              "      <td>3.000000</td>\n",
              "      <td>2.300000</td>\n",
              "      <td>1.000000</td>\n",
              "    </tr>\n",
              "    <tr>\n",
              "      <th>50%</th>\n",
              "      <td>101.000000</td>\n",
              "      <td>415.000000</td>\n",
              "      <td>0.000000</td>\n",
              "      <td>179.400000</td>\n",
              "      <td>101.000000</td>\n",
              "      <td>30.500000</td>\n",
              "      <td>201.400000</td>\n",
              "      <td>100.000000</td>\n",
              "      <td>17.120000</td>\n",
              "      <td>201.200000</td>\n",
              "      <td>100.000000</td>\n",
              "      <td>9.050000</td>\n",
              "      <td>10.300000</td>\n",
              "      <td>4.000000</td>\n",
              "      <td>2.780000</td>\n",
              "      <td>1.000000</td>\n",
              "    </tr>\n",
              "    <tr>\n",
              "      <th>75%</th>\n",
              "      <td>127.000000</td>\n",
              "      <td>510.000000</td>\n",
              "      <td>20.000000</td>\n",
              "      <td>216.400000</td>\n",
              "      <td>114.000000</td>\n",
              "      <td>36.790000</td>\n",
              "      <td>235.300000</td>\n",
              "      <td>114.000000</td>\n",
              "      <td>20.000000</td>\n",
              "      <td>235.300000</td>\n",
              "      <td>113.000000</td>\n",
              "      <td>10.590000</td>\n",
              "      <td>12.100000</td>\n",
              "      <td>6.000000</td>\n",
              "      <td>3.270000</td>\n",
              "      <td>2.000000</td>\n",
              "    </tr>\n",
              "    <tr>\n",
              "      <th>max</th>\n",
              "      <td>243.000000</td>\n",
              "      <td>510.000000</td>\n",
              "      <td>51.000000</td>\n",
              "      <td>350.800000</td>\n",
              "      <td>165.000000</td>\n",
              "      <td>59.640000</td>\n",
              "      <td>363.700000</td>\n",
              "      <td>170.000000</td>\n",
              "      <td>30.910000</td>\n",
              "      <td>395.000000</td>\n",
              "      <td>175.000000</td>\n",
              "      <td>17.770000</td>\n",
              "      <td>20.000000</td>\n",
              "      <td>20.000000</td>\n",
              "      <td>5.400000</td>\n",
              "      <td>9.000000</td>\n",
              "    </tr>\n",
              "  </tbody>\n",
              "</table>\n",
              "</div>"
            ],
            "text/plain": [
              "       account length    area code  ...  total intl charge  customer service calls\n",
              "count     3333.000000  3333.000000  ...        3333.000000             3333.000000\n",
              "mean       101.064806   437.182418  ...           2.764581                1.562856\n",
              "std         39.822106    42.371290  ...           0.753773                1.315491\n",
              "min          1.000000   408.000000  ...           0.000000                0.000000\n",
              "25%         74.000000   408.000000  ...           2.300000                1.000000\n",
              "50%        101.000000   415.000000  ...           2.780000                1.000000\n",
              "75%        127.000000   510.000000  ...           3.270000                2.000000\n",
              "max        243.000000   510.000000  ...           5.400000                9.000000\n",
              "\n",
              "[8 rows x 16 columns]"
            ]
          },
          "metadata": {
            "tags": []
          },
          "execution_count": 467
        }
      ]
    },
    {
      "cell_type": "markdown",
      "metadata": {
        "colab_type": "text",
        "id": "cK8BoKlUot9r"
      },
      "source": [
        "df.info() is used to observe the datatypes of the columns in the dataset. From this we can observe that there are 8 float columns, 8 int columns, 4 object columns and 1 bool type column."
      ]
    },
    {
      "cell_type": "code",
      "metadata": {
        "colab_type": "code",
        "id": "AEmrzpE1ot9s",
        "colab": {
          "base_uri": "https://localhost:8080/",
          "height": 493
        },
        "outputId": "599b5d49-dd53-4b9c-b90f-ae6c475cdc20"
      },
      "source": [
        "df.info()"
      ],
      "execution_count": null,
      "outputs": [
        {
          "output_type": "stream",
          "text": [
            "<class 'pandas.core.frame.DataFrame'>\n",
            "RangeIndex: 3333 entries, 0 to 3332\n",
            "Data columns (total 21 columns):\n",
            " #   Column                  Non-Null Count  Dtype  \n",
            "---  ------                  --------------  -----  \n",
            " 0   state                   3333 non-null   object \n",
            " 1   account length          3333 non-null   int64  \n",
            " 2   area code               3333 non-null   int64  \n",
            " 3   phone number            3333 non-null   object \n",
            " 4   international plan      3333 non-null   object \n",
            " 5   voice mail plan         3333 non-null   object \n",
            " 6   number vmail messages   3333 non-null   int64  \n",
            " 7   total day minutes       3333 non-null   float64\n",
            " 8   total day calls         3333 non-null   int64  \n",
            " 9   total day charge        3333 non-null   float64\n",
            " 10  total eve minutes       3333 non-null   float64\n",
            " 11  total eve calls         3333 non-null   int64  \n",
            " 12  total eve charge        3333 non-null   float64\n",
            " 13  total night minutes     3333 non-null   float64\n",
            " 14  total night calls       3333 non-null   int64  \n",
            " 15  total night charge      3333 non-null   float64\n",
            " 16  total intl minutes      3333 non-null   float64\n",
            " 17  total intl calls        3333 non-null   int64  \n",
            " 18  total intl charge       3333 non-null   float64\n",
            " 19  customer service calls  3333 non-null   int64  \n",
            " 20  churn                   3333 non-null   bool   \n",
            "dtypes: bool(1), float64(8), int64(8), object(4)\n",
            "memory usage: 524.2+ KB\n"
          ],
          "name": "stdout"
        }
      ]
    },
    {
      "cell_type": "code",
      "metadata": {
        "colab_type": "code",
        "id": "zgozTvSjot9u",
        "colab": {
          "base_uri": "https://localhost:8080/",
          "height": 391
        },
        "outputId": "f9e9c3c1-9dc4-48d3-e786-1fad4f869c5c"
      },
      "source": [
        "df.dtypes"
      ],
      "execution_count": null,
      "outputs": [
        {
          "output_type": "execute_result",
          "data": {
            "text/plain": [
              "state                      object\n",
              "account length              int64\n",
              "area code                   int64\n",
              "phone number               object\n",
              "international plan         object\n",
              "voice mail plan            object\n",
              "number vmail messages       int64\n",
              "total day minutes         float64\n",
              "total day calls             int64\n",
              "total day charge          float64\n",
              "total eve minutes         float64\n",
              "total eve calls             int64\n",
              "total eve charge          float64\n",
              "total night minutes       float64\n",
              "total night calls           int64\n",
              "total night charge        float64\n",
              "total intl minutes        float64\n",
              "total intl calls            int64\n",
              "total intl charge         float64\n",
              "customer service calls      int64\n",
              "churn                        bool\n",
              "dtype: object"
            ]
          },
          "metadata": {
            "tags": []
          },
          "execution_count": 469
        }
      ]
    },
    {
      "cell_type": "markdown",
      "metadata": {
        "colab_type": "text",
        "id": "bBWbsDSJot9y"
      },
      "source": [
        "Here, the data type of the area code is initially int. But, we are changing the data type of area code column to object as area code should be unique.\n",
        "Then, we are converting churn column data type into int."
      ]
    },
    {
      "cell_type": "code",
      "metadata": {
        "colab_type": "code",
        "id": "Ig68nolEot9y",
        "colab": {}
      },
      "source": [
        "df['area code'] = df['area code'].astype('object')\n",
        "df['churn']=df['churn'].astype('int')\n",
        "df['international plan'] = df['international plan'].astype('category')\n",
        "\n",
        "\n"
      ],
      "execution_count": null,
      "outputs": []
    },
    {
      "cell_type": "markdown",
      "metadata": {
        "colab_type": "text",
        "id": "S-3uV3FCot90"
      },
      "source": [
        "Here, we are checking for the unique values."
      ]
    },
    {
      "cell_type": "code",
      "metadata": {
        "colab_type": "code",
        "id": "Tepzq4eVot91",
        "colab": {
          "base_uri": "https://localhost:8080/",
          "height": 173
        },
        "outputId": "a2b122a5-38f8-47bb-db1a-3156b086fca1"
      },
      "source": [
        "df.describe(include=['O'])"
      ],
      "execution_count": null,
      "outputs": [
        {
          "output_type": "execute_result",
          "data": {
            "text/html": [
              "<div>\n",
              "<style scoped>\n",
              "    .dataframe tbody tr th:only-of-type {\n",
              "        vertical-align: middle;\n",
              "    }\n",
              "\n",
              "    .dataframe tbody tr th {\n",
              "        vertical-align: top;\n",
              "    }\n",
              "\n",
              "    .dataframe thead th {\n",
              "        text-align: right;\n",
              "    }\n",
              "</style>\n",
              "<table border=\"1\" class=\"dataframe\">\n",
              "  <thead>\n",
              "    <tr style=\"text-align: right;\">\n",
              "      <th></th>\n",
              "      <th>state</th>\n",
              "      <th>area code</th>\n",
              "      <th>phone number</th>\n",
              "      <th>voice mail plan</th>\n",
              "    </tr>\n",
              "  </thead>\n",
              "  <tbody>\n",
              "    <tr>\n",
              "      <th>count</th>\n",
              "      <td>3333</td>\n",
              "      <td>3333</td>\n",
              "      <td>3333</td>\n",
              "      <td>3333</td>\n",
              "    </tr>\n",
              "    <tr>\n",
              "      <th>unique</th>\n",
              "      <td>51</td>\n",
              "      <td>3</td>\n",
              "      <td>3333</td>\n",
              "      <td>2</td>\n",
              "    </tr>\n",
              "    <tr>\n",
              "      <th>top</th>\n",
              "      <td>WV</td>\n",
              "      <td>415</td>\n",
              "      <td>353-5557</td>\n",
              "      <td>no</td>\n",
              "    </tr>\n",
              "    <tr>\n",
              "      <th>freq</th>\n",
              "      <td>106</td>\n",
              "      <td>1655</td>\n",
              "      <td>1</td>\n",
              "      <td>2411</td>\n",
              "    </tr>\n",
              "  </tbody>\n",
              "</table>\n",
              "</div>"
            ],
            "text/plain": [
              "       state  area code phone number voice mail plan\n",
              "count   3333       3333         3333            3333\n",
              "unique    51          3         3333               2\n",
              "top       WV        415     353-5557              no\n",
              "freq     106       1655            1            2411"
            ]
          },
          "metadata": {
            "tags": []
          },
          "execution_count": 471
        }
      ]
    },
    {
      "cell_type": "markdown",
      "metadata": {
        "colab_type": "text",
        "id": "o_1Hz5cmot94"
      },
      "source": [
        "Here, we are dropping the phone number column as the phone number for each user is unique and is not relevant for our analysis on the churn."
      ]
    },
    {
      "cell_type": "code",
      "metadata": {
        "colab_type": "code",
        "id": "xL-5TplHot95",
        "colab": {
          "base_uri": "https://localhost:8080/",
          "height": 473
        },
        "outputId": "edb3369b-b38d-4ddd-d5bb-2ebf4f55b66d"
      },
      "source": [
        "df.drop([\"phone number\"], axis = 1,)"
      ],
      "execution_count": null,
      "outputs": [
        {
          "output_type": "execute_result",
          "data": {
            "text/html": [
              "<div>\n",
              "<style scoped>\n",
              "    .dataframe tbody tr th:only-of-type {\n",
              "        vertical-align: middle;\n",
              "    }\n",
              "\n",
              "    .dataframe tbody tr th {\n",
              "        vertical-align: top;\n",
              "    }\n",
              "\n",
              "    .dataframe thead th {\n",
              "        text-align: right;\n",
              "    }\n",
              "</style>\n",
              "<table border=\"1\" class=\"dataframe\">\n",
              "  <thead>\n",
              "    <tr style=\"text-align: right;\">\n",
              "      <th></th>\n",
              "      <th>state</th>\n",
              "      <th>account length</th>\n",
              "      <th>area code</th>\n",
              "      <th>international plan</th>\n",
              "      <th>voice mail plan</th>\n",
              "      <th>number vmail messages</th>\n",
              "      <th>total day minutes</th>\n",
              "      <th>total day calls</th>\n",
              "      <th>total day charge</th>\n",
              "      <th>total eve minutes</th>\n",
              "      <th>total eve calls</th>\n",
              "      <th>total eve charge</th>\n",
              "      <th>total night minutes</th>\n",
              "      <th>total night calls</th>\n",
              "      <th>total night charge</th>\n",
              "      <th>total intl minutes</th>\n",
              "      <th>total intl calls</th>\n",
              "      <th>total intl charge</th>\n",
              "      <th>customer service calls</th>\n",
              "      <th>churn</th>\n",
              "    </tr>\n",
              "  </thead>\n",
              "  <tbody>\n",
              "    <tr>\n",
              "      <th>0</th>\n",
              "      <td>KS</td>\n",
              "      <td>128</td>\n",
              "      <td>415</td>\n",
              "      <td>no</td>\n",
              "      <td>yes</td>\n",
              "      <td>25</td>\n",
              "      <td>265.1</td>\n",
              "      <td>110</td>\n",
              "      <td>45.07</td>\n",
              "      <td>197.4</td>\n",
              "      <td>99</td>\n",
              "      <td>16.78</td>\n",
              "      <td>244.7</td>\n",
              "      <td>91</td>\n",
              "      <td>11.01</td>\n",
              "      <td>10.0</td>\n",
              "      <td>3</td>\n",
              "      <td>2.70</td>\n",
              "      <td>1</td>\n",
              "      <td>0</td>\n",
              "    </tr>\n",
              "    <tr>\n",
              "      <th>1</th>\n",
              "      <td>OH</td>\n",
              "      <td>107</td>\n",
              "      <td>415</td>\n",
              "      <td>no</td>\n",
              "      <td>yes</td>\n",
              "      <td>26</td>\n",
              "      <td>161.6</td>\n",
              "      <td>123</td>\n",
              "      <td>27.47</td>\n",
              "      <td>195.5</td>\n",
              "      <td>103</td>\n",
              "      <td>16.62</td>\n",
              "      <td>254.4</td>\n",
              "      <td>103</td>\n",
              "      <td>11.45</td>\n",
              "      <td>13.7</td>\n",
              "      <td>3</td>\n",
              "      <td>3.70</td>\n",
              "      <td>1</td>\n",
              "      <td>0</td>\n",
              "    </tr>\n",
              "    <tr>\n",
              "      <th>2</th>\n",
              "      <td>NJ</td>\n",
              "      <td>137</td>\n",
              "      <td>415</td>\n",
              "      <td>no</td>\n",
              "      <td>no</td>\n",
              "      <td>0</td>\n",
              "      <td>243.4</td>\n",
              "      <td>114</td>\n",
              "      <td>41.38</td>\n",
              "      <td>121.2</td>\n",
              "      <td>110</td>\n",
              "      <td>10.30</td>\n",
              "      <td>162.6</td>\n",
              "      <td>104</td>\n",
              "      <td>7.32</td>\n",
              "      <td>12.2</td>\n",
              "      <td>5</td>\n",
              "      <td>3.29</td>\n",
              "      <td>0</td>\n",
              "      <td>0</td>\n",
              "    </tr>\n",
              "    <tr>\n",
              "      <th>3</th>\n",
              "      <td>OH</td>\n",
              "      <td>84</td>\n",
              "      <td>408</td>\n",
              "      <td>yes</td>\n",
              "      <td>no</td>\n",
              "      <td>0</td>\n",
              "      <td>299.4</td>\n",
              "      <td>71</td>\n",
              "      <td>50.90</td>\n",
              "      <td>61.9</td>\n",
              "      <td>88</td>\n",
              "      <td>5.26</td>\n",
              "      <td>196.9</td>\n",
              "      <td>89</td>\n",
              "      <td>8.86</td>\n",
              "      <td>6.6</td>\n",
              "      <td>7</td>\n",
              "      <td>1.78</td>\n",
              "      <td>2</td>\n",
              "      <td>0</td>\n",
              "    </tr>\n",
              "    <tr>\n",
              "      <th>4</th>\n",
              "      <td>OK</td>\n",
              "      <td>75</td>\n",
              "      <td>415</td>\n",
              "      <td>yes</td>\n",
              "      <td>no</td>\n",
              "      <td>0</td>\n",
              "      <td>166.7</td>\n",
              "      <td>113</td>\n",
              "      <td>28.34</td>\n",
              "      <td>148.3</td>\n",
              "      <td>122</td>\n",
              "      <td>12.61</td>\n",
              "      <td>186.9</td>\n",
              "      <td>121</td>\n",
              "      <td>8.41</td>\n",
              "      <td>10.1</td>\n",
              "      <td>3</td>\n",
              "      <td>2.73</td>\n",
              "      <td>3</td>\n",
              "      <td>0</td>\n",
              "    </tr>\n",
              "    <tr>\n",
              "      <th>...</th>\n",
              "      <td>...</td>\n",
              "      <td>...</td>\n",
              "      <td>...</td>\n",
              "      <td>...</td>\n",
              "      <td>...</td>\n",
              "      <td>...</td>\n",
              "      <td>...</td>\n",
              "      <td>...</td>\n",
              "      <td>...</td>\n",
              "      <td>...</td>\n",
              "      <td>...</td>\n",
              "      <td>...</td>\n",
              "      <td>...</td>\n",
              "      <td>...</td>\n",
              "      <td>...</td>\n",
              "      <td>...</td>\n",
              "      <td>...</td>\n",
              "      <td>...</td>\n",
              "      <td>...</td>\n",
              "      <td>...</td>\n",
              "    </tr>\n",
              "    <tr>\n",
              "      <th>3328</th>\n",
              "      <td>AZ</td>\n",
              "      <td>192</td>\n",
              "      <td>415</td>\n",
              "      <td>no</td>\n",
              "      <td>yes</td>\n",
              "      <td>36</td>\n",
              "      <td>156.2</td>\n",
              "      <td>77</td>\n",
              "      <td>26.55</td>\n",
              "      <td>215.5</td>\n",
              "      <td>126</td>\n",
              "      <td>18.32</td>\n",
              "      <td>279.1</td>\n",
              "      <td>83</td>\n",
              "      <td>12.56</td>\n",
              "      <td>9.9</td>\n",
              "      <td>6</td>\n",
              "      <td>2.67</td>\n",
              "      <td>2</td>\n",
              "      <td>0</td>\n",
              "    </tr>\n",
              "    <tr>\n",
              "      <th>3329</th>\n",
              "      <td>WV</td>\n",
              "      <td>68</td>\n",
              "      <td>415</td>\n",
              "      <td>no</td>\n",
              "      <td>no</td>\n",
              "      <td>0</td>\n",
              "      <td>231.1</td>\n",
              "      <td>57</td>\n",
              "      <td>39.29</td>\n",
              "      <td>153.4</td>\n",
              "      <td>55</td>\n",
              "      <td>13.04</td>\n",
              "      <td>191.3</td>\n",
              "      <td>123</td>\n",
              "      <td>8.61</td>\n",
              "      <td>9.6</td>\n",
              "      <td>4</td>\n",
              "      <td>2.59</td>\n",
              "      <td>3</td>\n",
              "      <td>0</td>\n",
              "    </tr>\n",
              "    <tr>\n",
              "      <th>3330</th>\n",
              "      <td>RI</td>\n",
              "      <td>28</td>\n",
              "      <td>510</td>\n",
              "      <td>no</td>\n",
              "      <td>no</td>\n",
              "      <td>0</td>\n",
              "      <td>180.8</td>\n",
              "      <td>109</td>\n",
              "      <td>30.74</td>\n",
              "      <td>288.8</td>\n",
              "      <td>58</td>\n",
              "      <td>24.55</td>\n",
              "      <td>191.9</td>\n",
              "      <td>91</td>\n",
              "      <td>8.64</td>\n",
              "      <td>14.1</td>\n",
              "      <td>6</td>\n",
              "      <td>3.81</td>\n",
              "      <td>2</td>\n",
              "      <td>0</td>\n",
              "    </tr>\n",
              "    <tr>\n",
              "      <th>3331</th>\n",
              "      <td>CT</td>\n",
              "      <td>184</td>\n",
              "      <td>510</td>\n",
              "      <td>yes</td>\n",
              "      <td>no</td>\n",
              "      <td>0</td>\n",
              "      <td>213.8</td>\n",
              "      <td>105</td>\n",
              "      <td>36.35</td>\n",
              "      <td>159.6</td>\n",
              "      <td>84</td>\n",
              "      <td>13.57</td>\n",
              "      <td>139.2</td>\n",
              "      <td>137</td>\n",
              "      <td>6.26</td>\n",
              "      <td>5.0</td>\n",
              "      <td>10</td>\n",
              "      <td>1.35</td>\n",
              "      <td>2</td>\n",
              "      <td>0</td>\n",
              "    </tr>\n",
              "    <tr>\n",
              "      <th>3332</th>\n",
              "      <td>TN</td>\n",
              "      <td>74</td>\n",
              "      <td>415</td>\n",
              "      <td>no</td>\n",
              "      <td>yes</td>\n",
              "      <td>25</td>\n",
              "      <td>234.4</td>\n",
              "      <td>113</td>\n",
              "      <td>39.85</td>\n",
              "      <td>265.9</td>\n",
              "      <td>82</td>\n",
              "      <td>22.60</td>\n",
              "      <td>241.4</td>\n",
              "      <td>77</td>\n",
              "      <td>10.86</td>\n",
              "      <td>13.7</td>\n",
              "      <td>4</td>\n",
              "      <td>3.70</td>\n",
              "      <td>0</td>\n",
              "      <td>0</td>\n",
              "    </tr>\n",
              "  </tbody>\n",
              "</table>\n",
              "<p>3333 rows × 20 columns</p>\n",
              "</div>"
            ],
            "text/plain": [
              "     state  account length  ... customer service calls churn\n",
              "0       KS             128  ...                      1     0\n",
              "1       OH             107  ...                      1     0\n",
              "2       NJ             137  ...                      0     0\n",
              "3       OH              84  ...                      2     0\n",
              "4       OK              75  ...                      3     0\n",
              "...    ...             ...  ...                    ...   ...\n",
              "3328    AZ             192  ...                      2     0\n",
              "3329    WV              68  ...                      3     0\n",
              "3330    RI              28  ...                      2     0\n",
              "3331    CT             184  ...                      2     0\n",
              "3332    TN              74  ...                      0     0\n",
              "\n",
              "[3333 rows x 20 columns]"
            ]
          },
          "metadata": {
            "tags": []
          },
          "execution_count": 472
        }
      ]
    },
    {
      "cell_type": "markdown",
      "metadata": {
        "colab_type": "text",
        "id": "3f7GfSWyot98"
      },
      "source": [
        "# Data Cleaning\n",
        "\n",
        "By using df.isnull().sum(), we are checking for any null values in the dataframe. From this, we can observe that there are no null values present in the dataframe."
      ]
    },
    {
      "cell_type": "code",
      "metadata": {
        "colab_type": "code",
        "id": "dEdU3V1cot98",
        "colab": {
          "base_uri": "https://localhost:8080/",
          "height": 391
        },
        "outputId": "6f454405-ace6-4a06-dace-771218c3e75b"
      },
      "source": [
        "df.isnull().sum()"
      ],
      "execution_count": null,
      "outputs": [
        {
          "output_type": "execute_result",
          "data": {
            "text/plain": [
              "state                     0\n",
              "account length            0\n",
              "area code                 0\n",
              "phone number              0\n",
              "international plan        0\n",
              "voice mail plan           0\n",
              "number vmail messages     0\n",
              "total day minutes         0\n",
              "total day calls           0\n",
              "total day charge          0\n",
              "total eve minutes         0\n",
              "total eve calls           0\n",
              "total eve charge          0\n",
              "total night minutes       0\n",
              "total night calls         0\n",
              "total night charge        0\n",
              "total intl minutes        0\n",
              "total intl calls          0\n",
              "total intl charge         0\n",
              "customer service calls    0\n",
              "churn                     0\n",
              "dtype: int64"
            ]
          },
          "metadata": {
            "tags": []
          },
          "execution_count": 473
        }
      ]
    },
    {
      "cell_type": "markdown",
      "metadata": {
        "colab_type": "text",
        "id": "5sLzY9Xxot9-"
      },
      "source": [
        "The above analysis is shown in the form of a graph below."
      ]
    },
    {
      "cell_type": "code",
      "metadata": {
        "colab_type": "code",
        "id": "-erozO_fot9_",
        "colab": {
          "base_uri": "https://localhost:8080/",
          "height": 642
        },
        "outputId": "f697cca6-2093-4681-a92b-8d9ac11fb1fd"
      },
      "source": [
        "import missingno as msno\n",
        "msno.matrix(df)"
      ],
      "execution_count": null,
      "outputs": [
        {
          "output_type": "execute_result",
          "data": {
            "text/plain": [
              "<matplotlib.axes._subplots.AxesSubplot at 0x7f633190a5f8>"
            ]
          },
          "metadata": {
            "tags": []
          },
          "execution_count": 474
        },
        {
          "output_type": "display_data",
          "data": {
            "image/png": "[encoded data removed]",
            "text/plain": [
              "<Figure size 1800x720 with 2 Axes>"
            ]
          },
          "metadata": {
            "tags": [],
            "needs_background": "light"
          }
        }
      ]
    },
    {
      "cell_type": "markdown",
      "metadata": {
        "colab_type": "text",
        "id": "_uTqmzMfot-C"
      },
      "source": [
        "We can observe that there are no null values"
      ]
    },
    {
      "cell_type": "markdown",
      "metadata": {
        "colab_type": "text",
        "id": "R4AJRIu3ot-D"
      },
      "source": [
        "# Analyzing TARGET Column and Various Features"
      ]
    },
    {
      "cell_type": "markdown",
      "metadata": {
        "colab_type": "text",
        "id": "B9PqKmMAot-E"
      },
      "source": [
        "We are using value_counts() to find out the count for each unique value in the churn. We can observe that the rate of people who are trying to churn is less."
      ]
    },
    {
      "cell_type": "code",
      "metadata": {
        "colab_type": "code",
        "id": "lfinoY33ot-E",
        "colab": {
          "base_uri": "https://localhost:8080/",
          "height": 68
        },
        "outputId": "4783262f-1474-492d-aa97-026f0b933e51"
      },
      "source": [
        "df.churn.value_counts()"
      ],
      "execution_count": null,
      "outputs": [
        {
          "output_type": "execute_result",
          "data": {
            "text/plain": [
              "0    2850\n",
              "1     483\n",
              "Name: churn, dtype: int64"
            ]
          },
          "metadata": {
            "tags": []
          },
          "execution_count": 475
        }
      ]
    },
    {
      "cell_type": "markdown",
      "metadata": {
        "colab_type": "text",
        "id": "sTd0snaqot-H"
      },
      "source": [
        "Here, we are calculating the churn percentage and we can observe that the total churn percentage of tth dataframe is 14.491%."
      ]
    },
    {
      "cell_type": "code",
      "metadata": {
        "colab_type": "code",
        "id": "q-4Jn3sKot-H",
        "colab": {
          "base_uri": "https://localhost:8080/",
          "height": 34
        },
        "outputId": "bf818f68-9ada-4465-a68f-5831b02bcb84"
      },
      "source": [
        "churn_percentage = df[\"churn\"].sum() * 100 / df[\"churn\"].shape[0]\n",
        "print(\"Churn percentage is %.3f%%.\" % churn_percentage)"
      ],
      "execution_count": null,
      "outputs": [
        {
          "output_type": "stream",
          "text": [
            "Churn percentage is 14.491%.\n"
          ],
          "name": "stdout"
        }
      ]
    },
    {
      "cell_type": "markdown",
      "metadata": {
        "colab_type": "text",
        "id": "mWXltll3ot-K"
      },
      "source": [
        "We are plotting a bar plot to analyze the churn rate. We can observe that there are only few people trying to churn and maximum customers are not planning to churn."
      ]
    },
    {
      "cell_type": "code",
      "metadata": {
        "colab_type": "code",
        "id": "zGEcxHNkot-L",
        "colab": {
          "base_uri": "https://localhost:8080/",
          "height": 279
        },
        "outputId": "549bc784-9441-4036-fe46-56ed2a3a868e"
      },
      "source": [
        "a=sns.countplot(x='churn',data=df)"
      ],
      "execution_count": null,
      "outputs": [
        {
          "output_type": "display_data",
          "data": {
            "image/png": "[encoded data removed]",
            "text/plain": [
              "<Figure size 432x288 with 1 Axes>"
            ]
          },
          "metadata": {
            "tags": [],
            "needs_background": "light"
          }
        }
      ]
    },
    {
      "cell_type": "code",
      "metadata": {
        "colab_type": "code",
        "id": "zmstAdyAot-N",
        "colab": {
          "base_uri": "https://localhost:8080/",
          "height": 279
        },
        "outputId": "0e3fda07-1802-4cee-ef5a-294176e4325a"
      },
      "source": [
        "a=sns.countplot(x='international plan',data=df)"
      ],
      "execution_count": null,
      "outputs": [
        {
          "output_type": "display_data",
          "data": {
            "image/png": "[encoded data removed]",
            "text/plain": [
              "<Figure size 432x288 with 1 Axes>"
            ]
          },
          "metadata": {
            "tags": [],
            "needs_background": "light"
          }
        }
      ]
    },
    {
      "cell_type": "markdown",
      "metadata": {
        "colab_type": "text",
        "id": "8WSyhJkgot-P"
      },
      "source": [
        "# Correlation between Various Columns\n",
        " Here, we are plotting a correlation map to analyze the correlation between columns."
      ]
    },
    {
      "cell_type": "code",
      "metadata": {
        "colab_type": "code",
        "id": "Z23z6AHqot-Q",
        "colab": {
          "base_uri": "https://localhost:8080/",
          "height": 68
        },
        "outputId": "7c48afbc-fb6d-46b5-a0d8-99deb2fdaffb"
      },
      "source": [
        "!pip install plotly\n",
        "import plotly\n",
        "import plotly.graph_objs as go\n",
        "import plotly.figure_factory as ff\n",
        "from plotly.offline import init_notebook_mode\n",
        "init_notebook_mode(connected=True)\n",
        "from plotly.offline import plot, iplot"
      ],
      "execution_count": null,
      "outputs": [
        {
          "output_type": "stream",
          "text": [
            "Requirement already satisfied: plotly in /usr/local/lib/python3.6/dist-packages (4.4.1)\n",
            "Requirement already satisfied: retrying>=1.3.3 in /usr/local/lib/python3.6/dist-packages (from plotly) (1.3.3)\n",
            "Requirement already satisfied: six in /usr/local/lib/python3.6/dist-packages (from plotly) (1.12.0)\n"
          ],
          "name": "stdout"
        },
        {
          "output_type": "display_data",
          "data": {
            "text/html": [
              "        <script type=\"text/javascript\">\n",
              "        window.PlotlyConfig = {MathJaxConfig: 'local'};\n",
              "        if (window.MathJax) {MathJax.Hub.Config({SVG: {font: \"STIX-Web\"}});}\n",
              "        if (typeof require !== 'undefined') {\n",
              "        require.undef(\"plotly\");\n",
              "        requirejs.config({\n",
              "            paths: {\n",
              "                'plotly': ['https://cdn.plot.ly/plotly-latest.min']\n",
              "            }\n",
              "        });\n",
              "        require(['plotly'], function(Plotly) {\n",
              "            window._Plotly = Plotly;\n",
              "        });\n",
              "        }\n",
              "        </script>\n",
              "        "
            ]
          },
          "metadata": {
            "tags": []
          }
        }
      ]
    },
    {
      "cell_type": "code",
      "metadata": {
        "colab_type": "code",
        "id": "JAvxMSKkot-T",
        "colab": {
          "base_uri": "https://localhost:8080/",
          "height": 817
        },
        "outputId": "dc78d2a4-2f10-40ab-b5ea-97c9231f6531"
      },
      "source": [
        "cr = df.corr()\n",
        "trace = go.Heatmap(z=cr.values.tolist(), x=cr.columns, y=cr.columns)\n",
        "data=[trace]\n",
        "layout = go.Layout(\n",
        "    title='Visualization for pairwise correlation of the columns',\n",
        "    width=1100,\n",
        "    height=800,\n",
        "    yaxis=go.layout.YAxis(automargin=True),\n",
        "    xaxis=dict(tickangle=50),\n",
        "    margin=go.layout.Margin(l=0, r=300, b=300, t=90)\n",
        ")\n",
        "\n",
        "\n",
        "\n",
        "fig = go.Figure(data=data, layout=layout)\n",
        "iplot(fig, filename='heatmap1')"
      ],
      "execution_count": null,
      "outputs": [
        {
          "output_type": "display_data",
          "data": {
            "application/vnd.plotly.v1+json": {
              "config": {
                "linkText": "Export to plot.ly",
                "plotlyServerURL": "https://plot.ly",
                "showLink": false
              },
              "data": [
                {
                  "type": "heatmap",
                  "x": [
                    "account length",
                    "number vmail messages",
                    "total day minutes",
                    "total day calls",
                    "total day charge",
                    "total eve minutes",
                    "total eve calls",
                    "total eve charge",
                    "total night minutes",
                    "total night calls",
                    "total night charge",
                    "total intl minutes",
                    "total intl calls",
                    "total intl charge",
                    "customer service calls",
                    "churn",
                    "cluster"
                  ],
                  "y": [
                    "account length",
                    "number vmail messages",
                    "total day minutes",
                    "total day calls",
                    "total day charge",
                    "total eve minutes",
                    "total eve calls",
                    "total eve charge",
                    "total night minutes",
                    "total night calls",
                    "total night charge",
                    "total intl minutes",
                    "total intl calls",
                    "total intl charge",
                    "customer service calls",
                    "churn",
                    "cluster"
                  ],
                  "z": [
                    [
                      1,
                      -0.0036414032764649946,
                      0.0066830551146201496,
                      0.037237097370123505,
                      0.006679621796723314,
                      -0.006749939765031833,
                      0.020650523888924837,
                      -0.006752632152141144,
                      -0.01000081602553575,
                      -0.012936077383776359,
                      -0.00999639310243303,
                      0.013663931690114161,
                      0.021059055879490248,
                      0.013654998431127989,
                      -0.003758881585051974,
                      0.016035143278994766,
                      0.016612673119529506
                    ],
                    [
                      -0.0036414032764649946,
                      1,
                      0.0021905382083934354,
                      -0.009548067661971636,
                      0.0021908892204711462,
                      0.01678572521279363,
                      -0.005864351294291864,
                      0.0168154752690003,
                      0.006706643696071294,
                      0.007123062912801687,
                      0.006680331100800537,
                      0.0012290704609337014,
                      0.013957338671804617,
                      0.001288259233200605,
                      -0.013262583062484986,
                      -0.08972796983506288,
                      0.025354523830361866
                    ],
                    [
                      0.0066830551146201496,
                      0.0021905382083934354,
                      1,
                      0.006444442774577807,
                      0.9999999466547382,
                      0.006565493251471686,
                      0.016081480930399805,
                      0.006529273923041563,
                      0.002551670209715095,
                      0.021531557237491415,
                      0.002531194861242011,
                      -0.011902466267240876,
                      0.005676864900404522,
                      -0.011850890353764123,
                      -0.013309625992483178,
                      0.20119311877859367,
                      -0.002465342281717235
                    ],
                    [
                      0.037237097370123505,
                      -0.009548067661971636,
                      0.006444442774577807,
                      1,
                      0.006452175395117081,
                      -0.020615694100556206,
                      0.006462113654157009,
                      -0.020630691505562713,
                      0.023542256029458798,
                      -0.019556965357458503,
                      0.023538954634237684,
                      0.02425595852967523,
                      0.004574268228354949,
                      0.024340671131753665,
                      -0.018941930313584193,
                      0.01845931160857679,
                      -0.010679886736552483
                    ],
                    [
                      0.006679621796723314,
                      0.0021908892204711462,
                      0.9999999466547382,
                      0.006452175395117081,
                      1,
                      0.006571825127307952,
                      0.01608007756006124,
                      0.006535612245942333,
                      0.0025508900793185423,
                      0.021530783615626627,
                      0.002530402513343331,
                      -0.011904857213441247,
                      0.0056726441118240285,
                      -0.01185330315930121,
                      -0.013313510265702325,
                      0.2011774759311796,
                      -0.0024611370008967796
                    ],
                    [
                      -0.006749939765031833,
                      0.01678572521279363,
                      0.006565493251471686,
                      -0.020615694100556206,
                      0.006571825127307952,
                      1,
                      -0.013822595609319296,
                      0.9999988636319954,
                      -0.01374180800737448,
                      0.00686486263078419,
                      -0.013752422130017643,
                      -0.012165538339438668,
                      0.005610475806840109,
                      -0.012181038353377508,
                      -0.014856681604968103,
                      0.09109739980510857,
                      0.02660993622145609
                    ],
                    [
                      0.020650523888924837,
                      -0.005864351294291864,
                      0.016081480930399805,
                      0.006462113654157009,
                      0.01608007756006124,
                      -0.013822595609319296,
                      1,
                      -0.013785802256480397,
                      -0.0002235700829947082,
                      0.0077097055435638,
                      -0.00018332959241771428,
                      0.005592260705030391,
                      0.01743369206986398,
                      0.005588980332412045,
                      0.00242257469984004,
                      0.009233131913078209,
                      0.012071499401711584
                    ],
                    [
                      -0.006752632152141144,
                      0.0168154752690003,
                      0.006529273923041563,
                      -0.020630691505562713,
                      0.006535612245942333,
                      0.9999988636319954,
                      -0.013785802256480397,
                      1,
                      -0.013729578676714246,
                      0.006880357095504962,
                      -0.013740186074276102,
                      -0.012149816259725426,
                      0.005555124215433599,
                      -0.012165190404728878,
                      -0.014823357001070252,
                      0.09108134186926481,
                      0.026603105078811362
                    ],
                    [
                      -0.01000081602553575,
                      0.006706643696071294,
                      0.002551670209715095,
                      0.023542256029458798,
                      0.0025508900793185423,
                      -0.01374180800737448,
                      -0.0002235700829947082,
                      -0.013729578676714246,
                      1,
                      0.010797997938851089,
                      0.9999991554251072,
                      -0.014562563123309365,
                      -0.011962891759925126,
                      -0.01454259877111583,
                      -0.009306794371014677,
                      0.036728642692660726,
                      0.005133907742873605
                    ],
                    [
                      -0.012936077383776359,
                      0.007123062912801687,
                      0.021531557237491415,
                      -0.019556965357458503,
                      0.021530783615626627,
                      0.00686486263078419,
                      0.0077097055435638,
                      0.006880357095504962,
                      0.010797997938851089,
                      1,
                      0.010779955467609702,
                      -0.013245088793024601,
                      0.0003045795321310694,
                      -0.013298863166953551,
                      -0.012801927331037034,
                      0.006141203007399626,
                      0.0358874747395237
                    ],
                    [
                      -0.00999639310243303,
                      0.006680331100800537,
                      0.002531194861242011,
                      0.023538954634237684,
                      0.002530402513343331,
                      -0.013752422130017643,
                      -0.00018332959241771428,
                      -0.013740186074276102,
                      0.9999991554251072,
                      0.010779955467609702,
                      1,
                      -0.014563349287912102,
                      -0.011936736410410823,
                      -0.014543433319673813,
                      -0.009284273360640992,
                      0.03674245189384593,
                      0.005124897536697014
                    ],
                    [
                      0.013663931690114161,
                      0.0012290704609337014,
                      -0.011902466267240876,
                      0.02425595852967523,
                      -0.011904857213441247,
                      -0.012165538339438668,
                      0.005592260705030391,
                      -0.012149816259725426,
                      -0.014562563123309365,
                      -0.013245088793024601,
                      -0.014563349287912102,
                      1,
                      0.021797844804606663,
                      0.9999914257602199,
                      -0.009875684560385165,
                      0.0657027917423582,
                      0.0015154074553947103
                    ],
                    [
                      0.021059055879490248,
                      0.013957338671804617,
                      0.005676864900404522,
                      0.004574268228354949,
                      0.0056726441118240285,
                      0.005610475806840109,
                      0.01743369206986398,
                      0.005555124215433599,
                      -0.011962891759925126,
                      0.0003045795321310694,
                      -0.011936736410410823,
                      0.021797844804606663,
                      1,
                      0.021988435925460258,
                      -0.017560599224287606,
                      -0.05284433577413775,
                      0.0027318528139195584
                    ],
                    [
                      0.013654998431127989,
                      0.001288259233200605,
                      -0.011850890353764123,
                      0.024340671131753665,
                      -0.01185330315930121,
                      -0.012181038353377508,
                      0.005588980332412045,
                      -0.012165190404728878,
                      -0.01454259877111583,
                      -0.013298863166953551,
                      -0.014543433319673813,
                      0.9999914257602199,
                      0.021988435925460258,
                      1,
                      -0.009884758688518819,
                      0.06576118585230042,
                      0.0014177631215373185
                    ],
                    [
                      -0.003758881585051974,
                      -0.013262583062484986,
                      -0.013309625992483178,
                      -0.018941930313584193,
                      -0.013313510265702325,
                      -0.014856681604968103,
                      0.00242257469984004,
                      -0.014823357001070252,
                      -0.009306794371014677,
                      -0.012801927331037034,
                      -0.009284273360640992,
                      -0.009875684560385165,
                      -0.017560599224287606,
                      -0.009884758688518819,
                      1,
                      0.20874999878379205,
                      -0.0009563461720389967
                    ],
                    [
                      0.016035143278994766,
                      -0.08972796983506288,
                      0.20119311877859367,
                      0.01845931160857679,
                      0.2011774759311796,
                      0.09109739980510857,
                      0.009233131913078209,
                      0.09108134186926481,
                      0.036728642692660726,
                      0.006141203007399626,
                      0.03674245189384593,
                      0.0657027917423582,
                      -0.05284433577413775,
                      0.06576118585230042,
                      0.20874999878379205,
                      1,
                      0.028634683286715264
                    ],
                    [
                      0.016612673119529506,
                      0.025354523830361866,
                      -0.002465342281717235,
                      -0.010679886736552483,
                      -0.0024611370008967796,
                      0.02660993622145609,
                      0.012071499401711584,
                      0.026603105078811362,
                      0.005133907742873605,
                      0.0358874747395237,
                      0.005124897536697014,
                      0.0015154074553947103,
                      0.0027318528139195584,
                      0.0014177631215373185,
                      -0.0009563461720389967,
                      0.028634683286715264,
                      1
                    ]
                  ]
                }
              ],
              "layout": {
                "height": 800,
                "margin": {
                  "b": 300,
                  "l": 0,
                  "r": 300,
                  "t": 90
                },
                "template": {
                  "data": {
                    "bar": [
                      {
                        "error_x": {
                          "color": "#2a3f5f"
                        },
                        "error_y": {
                          "color": "#2a3f5f"
                        },
                        "marker": {
                          "line": {
                            "color": "#E5ECF6",
                            "width": 0.5
                          }
                        },
                        "type": "bar"
                      }
                    ],
                    "barpolar": [
                      {
                        "marker": {
                          "line": {
                            "color": "#E5ECF6",
                            "width": 0.5
                          }
                        },
                        "type": "barpolar"
                      }
                    ],
                    "carpet": [
                      {
                        "aaxis": {
                          "endlinecolor": "#2a3f5f",
                          "gridcolor": "white",
                          "linecolor": "white",
                          "minorgridcolor": "white",
                          "startlinecolor": "#2a3f5f"
                        },
                        "baxis": {
                          "endlinecolor": "#2a3f5f",
                          "gridcolor": "white",
                          "linecolor": "white",
                          "minorgridcolor": "white",
                          "startlinecolor": "#2a3f5f"
                        },
                        "type": "carpet"
                      }
                    ],
                    "choropleth": [
                      {
                        "colorbar": {
                          "outlinewidth": 0,
                          "ticks": ""
                        },
                        "type": "choropleth"
                      }
                    ],
                    "contour": [
                      {
                        "colorbar": {
                          "outlinewidth": 0,
                          "ticks": ""
                        },
                        "colorscale": [
                          [
                            0,
                            "#0d0887"
                          ],
                          [
                            0.1111111111111111,
                            "#46039f"
                          ],
                          [
                            0.2222222222222222,
                            "#7201a8"
                          ],
                          [
                            0.3333333333333333,
                            "#9c179e"
                          ],
                          [
                            0.4444444444444444,
                            "#bd3786"
                          ],
                          [
                            0.5555555555555556,
                            "#d8576b"
                          ],
                          [
                            0.6666666666666666,
                            "#ed7953"
                          ],
                          [
                            0.7777777777777778,
                            "#fb9f3a"
                          ],
                          [
                            0.8888888888888888,
                            "#fdca26"
                          ],
                          [
                            1,
                            "#f0f921"
                          ]
                        ],
                        "type": "contour"
                      }
                    ],
                    "contourcarpet": [
                      {
                        "colorbar": {
                          "outlinewidth": 0,
                          "ticks": ""
                        },
                        "type": "contourcarpet"
                      }
                    ],
                    "heatmap": [
                      {
                        "colorbar": {
                          "outlinewidth": 0,
                          "ticks": ""
                        },
                        "colorscale": [
                          [
                            0,
                            "#0d0887"
                          ],
                          [
                            0.1111111111111111,
                            "#46039f"
                          ],
                          [
                            0.2222222222222222,
                            "#7201a8"
                          ],
                          [
                            0.3333333333333333,
                            "#9c179e"
                          ],
                          [
                            0.4444444444444444,
                            "#bd3786"
                          ],
                          [
                            0.5555555555555556,
                            "#d8576b"
                          ],
                          [
                            0.6666666666666666,
                            "#ed7953"
                          ],
                          [
                            0.7777777777777778,
                            "#fb9f3a"
                          ],
                          [
                            0.8888888888888888,
                            "#fdca26"
                          ],
                          [
                            1,
                            "#f0f921"
                          ]
                        ],
                        "type": "heatmap"
                      }
                    ],
                    "heatmapgl": [
                      {
                        "colorbar": {
                          "outlinewidth": 0,
                          "ticks": ""
                        },
                        "colorscale": [
                          [
                            0,
                            "#0d0887"
                          ],
                          [
                            0.1111111111111111,
                            "#46039f"
                          ],
                          [
                            0.2222222222222222,
                            "#7201a8"
                          ],
                          [
                            0.3333333333333333,
                            "#9c179e"
                          ],
                          [
                            0.4444444444444444,
                            "#bd3786"
                          ],
                          [
                            0.5555555555555556,
                            "#d8576b"
                          ],
                          [
                            0.6666666666666666,
                            "#ed7953"
                          ],
                          [
                            0.7777777777777778,
                            "#fb9f3a"
                          ],
                          [
                            0.8888888888888888,
                            "#fdca26"
                          ],
                          [
                            1,
                            "#f0f921"
                          ]
                        ],
                        "type": "heatmapgl"
                      }
                    ],
                    "histogram": [
                      {
                        "marker": {
                          "colorbar": {
                            "outlinewidth": 0,
                            "ticks": ""
                          }
                        },
                        "type": "histogram"
                      }
                    ],
                    "histogram2d": [
                      {
                        "colorbar": {
                          "outlinewidth": 0,
                          "ticks": ""
                        },
                        "colorscale": [
                          [
                            0,
                            "#0d0887"
                          ],
                          [
                            0.1111111111111111,
                            "#46039f"
                          ],
                          [
                            0.2222222222222222,
                            "#7201a8"
                          ],
                          [
                            0.3333333333333333,
                            "#9c179e"
                          ],
                          [
                            0.4444444444444444,
                            "#bd3786"
                          ],
                          [
                            0.5555555555555556,
                            "#d8576b"
                          ],
                          [
                            0.6666666666666666,
                            "#ed7953"
                          ],
                          [
                            0.7777777777777778,
                            "#fb9f3a"
                          ],
                          [
                            0.8888888888888888,
                            "#fdca26"
                          ],
                          [
                            1,
                            "#f0f921"
                          ]
                        ],
                        "type": "histogram2d"
                      }
                    ],
                    "histogram2dcontour": [
                      {
                        "colorbar": {
                          "outlinewidth": 0,
                          "ticks": ""
                        },
                        "colorscale": [
                          [
                            0,
                            "#0d0887"
                          ],
                          [
                            0.1111111111111111,
                            "#46039f"
                          ],
                          [
                            0.2222222222222222,
                            "#7201a8"
                          ],
                          [
                            0.3333333333333333,
                            "#9c179e"
                          ],
                          [
                            0.4444444444444444,
                            "#bd3786"
                          ],
                          [
                            0.5555555555555556,
                            "#d8576b"
                          ],
                          [
                            0.6666666666666666,
                            "#ed7953"
                          ],
                          [
                            0.7777777777777778,
                            "#fb9f3a"
                          ],
                          [
                            0.8888888888888888,
                            "#fdca26"
                          ],
                          [
                            1,
                            "#f0f921"
                          ]
                        ],
                        "type": "histogram2dcontour"
                      }
                    ],
                    "mesh3d": [
                      {
                        "colorbar": {
                          "outlinewidth": 0,
                          "ticks": ""
                        },
                        "type": "mesh3d"
                      }
                    ],
                    "parcoords": [
                      {
                        "line": {
                          "colorbar": {
                            "outlinewidth": 0,
                            "ticks": ""
                          }
                        },
                        "type": "parcoords"
                      }
                    ],
                    "pie": [
                      {
                        "automargin": true,
                        "type": "pie"
                      }
                    ],
                    "scatter": [
                      {
                        "marker": {
                          "colorbar": {
                            "outlinewidth": 0,
                            "ticks": ""
                          }
                        },
                        "type": "scatter"
                      }
                    ],
                    "scatter3d": [
                      {
                        "line": {
                          "colorbar": {
                            "outlinewidth": 0,
                            "ticks": ""
                          }
                        },
                        "marker": {
                          "colorbar": {
                            "outlinewidth": 0,
                            "ticks": ""
                          }
                        },
                        "type": "scatter3d"
                      }
                    ],
                    "scattercarpet": [
                      {
                        "marker": {
                          "colorbar": {
                            "outlinewidth": 0,
                            "ticks": ""
                          }
                        },
                        "type": "scattercarpet"
                      }
                    ],
                    "scattergeo": [
                      {
                        "marker": {
                          "colorbar": {
                            "outlinewidth": 0,
                            "ticks": ""
                          }
                        },
                        "type": "scattergeo"
                      }
                    ],
                    "scattergl": [
                      {
                        "marker": {
                          "colorbar": {
                            "outlinewidth": 0,
                            "ticks": ""
                          }
                        },
                        "type": "scattergl"
                      }
                    ],
                    "scattermapbox": [
                      {
                        "marker": {
                          "colorbar": {
                            "outlinewidth": 0,
                            "ticks": ""
                          }
                        },
                        "type": "scattermapbox"
                      }
                    ],
                    "scatterpolar": [
                      {
                        "marker": {
                          "colorbar": {
                            "outlinewidth": 0,
                            "ticks": ""
                          }
                        },
                        "type": "scatterpolar"
                      }
                    ],
                    "scatterpolargl": [
                      {
                        "marker": {
                          "colorbar": {
                            "outlinewidth": 0,
                            "ticks": ""
                          }
                        },
                        "type": "scatterpolargl"
                      }
                    ],
                    "scatterternary": [
                      {
                        "marker": {
                          "colorbar": {
                            "outlinewidth": 0,
                            "ticks": ""
                          }
                        },
                        "type": "scatterternary"
                      }
                    ],
                    "surface": [
                      {
                        "colorbar": {
                          "outlinewidth": 0,
                          "ticks": ""
                        },
                        "colorscale": [
                          [
                            0,
                            "#0d0887"
                          ],
                          [
                            0.1111111111111111,
                            "#46039f"
                          ],
                          [
                            0.2222222222222222,
                            "#7201a8"
                          ],
                          [
                            0.3333333333333333,
                            "#9c179e"
                          ],
                          [
                            0.4444444444444444,
                            "#bd3786"
                          ],
                          [
                            0.5555555555555556,
                            "#d8576b"
                          ],
                          [
                            0.6666666666666666,
                            "#ed7953"
                          ],
                          [
                            0.7777777777777778,
                            "#fb9f3a"
                          ],
                          [
                            0.8888888888888888,
                            "#fdca26"
                          ],
                          [
                            1,
                            "#f0f921"
                          ]
                        ],
                        "type": "surface"
                      }
                    ],
                    "table": [
                      {
                        "cells": {
                          "fill": {
                            "color": "#EBF0F8"
                          },
                          "line": {
                            "color": "white"
                          }
                        },
                        "header": {
                          "fill": {
                            "color": "#C8D4E3"
                          },
                          "line": {
                            "color": "white"
                          }
                        },
                        "type": "table"
                      }
                    ]
                  },
                  "layout": {
                    "annotationdefaults": {
                      "arrowcolor": "#2a3f5f",
                      "arrowhead": 0,
                      "arrowwidth": 1
                    },
                    "coloraxis": {
                      "colorbar": {
                        "outlinewidth": 0,
                        "ticks": ""
                      }
                    },
                    "colorscale": {
                      "diverging": [
                        [
                          0,
                          "#8e0152"
                        ],
                        [
                          0.1,
                          "#c51b7d"
                        ],
                        [
                          0.2,
                          "#de77ae"
                        ],
                        [
                          0.3,
                          "#f1b6da"
                        ],
                        [
                          0.4,
                          "#fde0ef"
                        ],
                        [
                          0.5,
                          "#f7f7f7"
                        ],
                        [
                          0.6,
                          "#e6f5d0"
                        ],
                        [
                          0.7,
                          "#b8e186"
                        ],
                        [
                          0.8,
                          "#7fbc41"
                        ],
                        [
                          0.9,
                          "#4d9221"
                        ],
                        [
                          1,
                          "#276419"
                        ]
                      ],
                      "sequential": [
                        [
                          0,
                          "#0d0887"
                        ],
                        [
                          0.1111111111111111,
                          "#46039f"
                        ],
                        [
                          0.2222222222222222,
                          "#7201a8"
                        ],
                        [
                          0.3333333333333333,
                          "#9c179e"
                        ],
                        [
                          0.4444444444444444,
                          "#bd3786"
                        ],
                        [
                          0.5555555555555556,
                          "#d8576b"
                        ],
                        [
                          0.6666666666666666,
                          "#ed7953"
                        ],
                        [
                          0.7777777777777778,
                          "#fb9f3a"
                        ],
                        [
                          0.8888888888888888,
                          "#fdca26"
                        ],
                        [
                          1,
                          "#f0f921"
                        ]
                      ],
                      "sequentialminus": [
                        [
                          0,
                          "#0d0887"
                        ],
                        [
                          0.1111111111111111,
                          "#46039f"
                        ],
                        [
                          0.2222222222222222,
                          "#7201a8"
                        ],
                        [
                          0.3333333333333333,
                          "#9c179e"
                        ],
                        [
                          0.4444444444444444,
                          "#bd3786"
                        ],
                        [
                          0.5555555555555556,
                          "#d8576b"
                        ],
                        [
                          0.6666666666666666,
                          "#ed7953"
                        ],
                        [
                          0.7777777777777778,
                          "#fb9f3a"
                        ],
                        [
                          0.8888888888888888,
                          "#fdca26"
                        ],
                        [
                          1,
                          "#f0f921"
                        ]
                      ]
                    },
                    "colorway": [
                      "#636efa",
                      "#EF553B",
                      "#00cc96",
                      "#ab63fa",
                      "#FFA15A",
                      "#19d3f3",
                      "#FF6692",
                      "#B6E880",
                      "#FF97FF",
                      "#FECB52"
                    ],
                    "font": {
                      "color": "#2a3f5f"
                    },
                    "geo": {
                      "bgcolor": "white",
                      "lakecolor": "white",
                      "landcolor": "#E5ECF6",
                      "showlakes": true,
                      "showland": true,
                      "subunitcolor": "white"
                    },
                    "hoverlabel": {
                      "align": "left"
                    },
                    "hovermode": "closest",
                    "mapbox": {
                      "style": "light"
                    },
                    "paper_bgcolor": "white",
                    "plot_bgcolor": "#E5ECF6",
                    "polar": {
                      "angularaxis": {
                        "gridcolor": "white",
                        "linecolor": "white",
                        "ticks": ""
                      },
                      "bgcolor": "#E5ECF6",
                      "radialaxis": {
                        "gridcolor": "white",
                        "linecolor": "white",
                        "ticks": ""
                      }
                    },
                    "scene": {
                      "xaxis": {
                        "backgroundcolor": "#E5ECF6",
                        "gridcolor": "white",
                        "gridwidth": 2,
                        "linecolor": "white",
                        "showbackground": true,
                        "ticks": "",
                        "zerolinecolor": "white"
                      },
                      "yaxis": {
                        "backgroundcolor": "#E5ECF6",
                        "gridcolor": "white",
                        "gridwidth": 2,
                        "linecolor": "white",
                        "showbackground": true,
                        "ticks": "",
                        "zerolinecolor": "white"
                      },
                      "zaxis": {
                        "backgroundcolor": "#E5ECF6",
                        "gridcolor": "white",
                        "gridwidth": 2,
                        "linecolor": "white",
                        "showbackground": true,
                        "ticks": "",
                        "zerolinecolor": "white"
                      }
                    },
                    "shapedefaults": {
                      "line": {
                        "color": "#2a3f5f"
                      }
                    },
                    "ternary": {
                      "aaxis": {
                        "gridcolor": "white",
                        "linecolor": "white",
                        "ticks": ""
                      },
                      "baxis": {
                        "gridcolor": "white",
                        "linecolor": "white",
                        "ticks": ""
                      },
                      "bgcolor": "#E5ECF6",
                      "caxis": {
                        "gridcolor": "white",
                        "linecolor": "white",
                        "ticks": ""
                      }
                    },
                    "title": {
                      "x": 0.05
                    },
                    "xaxis": {
                      "automargin": true,
                      "gridcolor": "white",
                      "linecolor": "white",
                      "ticks": "",
                      "title": {
                        "standoff": 15
                      },
                      "zerolinecolor": "white",
                      "zerolinewidth": 2
                    },
                    "yaxis": {
                      "automargin": true,
                      "gridcolor": "white",
                      "linecolor": "white",
                      "ticks": "",
                      "title": {
                        "standoff": 15
                      },
                      "zerolinecolor": "white",
                      "zerolinewidth": 2
                    }
                  }
                },
                "title": {
                  "text": "Visualization for pairwise correlation of the columns"
                },
                "width": 1100,
                "xaxis": {
                  "tickangle": 50
                },
                "yaxis": {
                  "automargin": true
                }
              }
            },
            "text/html": [
              "<div>\n",
              "        \n",
              "        \n",
              "            <div id=\"88f7fcbd-6ad9-42df-8762-b3e8f5ac0b10\" class=\"plotly-graph-div\" style=\"height:800px; width:1100px;\"></div>\n",
              "            <script type=\"text/javascript\">\n",
              "                require([\"plotly\"], function(Plotly) {\n",
              "                    window.PLOTLYENV=window.PLOTLYENV || {};\n",
              "                    \n",
              "                if (document.getElementById(\"88f7fcbd-6ad9-42df-8762-b3e8f5ac0b10\")) {\n",
              "                    Plotly.newPlot(\n",
              "                        '88f7fcbd-6ad9-42df-8762-b3e8f5ac0b10',\n",
              "                        [{\"type\": \"heatmap\", \"x\": [\"account length\", \"number vmail messages\", \"total day minutes\", \"total day calls\", \"total day charge\", \"total eve minutes\", \"total eve calls\", \"total eve charge\", \"total night minutes\", \"total night calls\", \"total night charge\", \"total intl minutes\", \"total intl calls\", \"total intl charge\", \"customer service calls\", \"churn\", \"cluster\"], \"y\": [\"account length\", \"number vmail messages\", \"total day minutes\", \"total day calls\", \"total day charge\", \"total eve minutes\", \"total eve calls\", \"total eve charge\", \"total night minutes\", \"total night calls\", \"total night charge\", \"total intl minutes\", \"total intl calls\", \"total intl charge\", \"customer service calls\", \"churn\", \"cluster\"], \"z\": [[1.0, -0.0036414032764649946, 0.0066830551146201496, 0.037237097370123505, 0.006679621796723314, -0.006749939765031833, 0.020650523888924837, -0.006752632152141144, -0.01000081602553575, -0.012936077383776359, -0.00999639310243303, 0.013663931690114161, 0.021059055879490248, 0.013654998431127989, -0.003758881585051974, 0.016035143278994766, 0.016612673119529506], [-0.0036414032764649946, 1.0, 0.0021905382083934354, -0.009548067661971636, 0.0021908892204711462, 0.01678572521279363, -0.005864351294291864, 0.0168154752690003, 0.006706643696071294, 0.007123062912801687, 0.006680331100800537, 0.0012290704609337014, 0.013957338671804617, 0.001288259233200605, -0.013262583062484986, -0.08972796983506288, 0.025354523830361866], [0.0066830551146201496, 0.0021905382083934354, 1.0, 0.006444442774577807, 0.9999999466547382, 0.006565493251471686, 0.016081480930399805, 0.006529273923041563, 0.002551670209715095, 0.021531557237491415, 0.002531194861242011, -0.011902466267240876, 0.005676864900404522, -0.011850890353764123, -0.013309625992483178, 0.20119311877859367, -0.002465342281717235], [0.037237097370123505, -0.009548067661971636, 0.006444442774577807, 1.0, 0.006452175395117081, -0.020615694100556206, 0.006462113654157009, -0.020630691505562713, 0.023542256029458798, -0.019556965357458503, 0.023538954634237684, 0.02425595852967523, 0.004574268228354949, 0.024340671131753665, -0.018941930313584193, 0.01845931160857679, -0.010679886736552483], [0.006679621796723314, 0.0021908892204711462, 0.9999999466547382, 0.006452175395117081, 1.0, 0.006571825127307952, 0.01608007756006124, 0.006535612245942333, 0.0025508900793185423, 0.021530783615626627, 0.002530402513343331, -0.011904857213441247, 0.0056726441118240285, -0.01185330315930121, -0.013313510265702325, 0.2011774759311796, -0.0024611370008967796], [-0.006749939765031833, 0.01678572521279363, 0.006565493251471686, -0.020615694100556206, 0.006571825127307952, 1.0, -0.013822595609319296, 0.9999988636319954, -0.01374180800737448, 0.00686486263078419, -0.013752422130017643, -0.012165538339438668, 0.005610475806840109, -0.012181038353377508, -0.014856681604968103, 0.09109739980510857, 0.02660993622145609], [0.020650523888924837, -0.005864351294291864, 0.016081480930399805, 0.006462113654157009, 0.01608007756006124, -0.013822595609319296, 1.0, -0.013785802256480397, -0.0002235700829947082, 0.0077097055435638, -0.00018332959241771428, 0.005592260705030391, 0.01743369206986398, 0.005588980332412045, 0.00242257469984004, 0.009233131913078209, 0.012071499401711584], [-0.006752632152141144, 0.0168154752690003, 0.006529273923041563, -0.020630691505562713, 0.006535612245942333, 0.9999988636319954, -0.013785802256480397, 1.0, -0.013729578676714246, 0.006880357095504962, -0.013740186074276102, -0.012149816259725426, 0.005555124215433599, -0.012165190404728878, -0.014823357001070252, 0.09108134186926481, 0.026603105078811362], [-0.01000081602553575, 0.006706643696071294, 0.002551670209715095, 0.023542256029458798, 0.0025508900793185423, -0.01374180800737448, -0.0002235700829947082, -0.013729578676714246, 1.0, 0.010797997938851089, 0.9999991554251072, -0.014562563123309365, -0.011962891759925126, -0.01454259877111583, -0.009306794371014677, 0.036728642692660726, 0.005133907742873605], [-0.012936077383776359, 0.007123062912801687, 0.021531557237491415, -0.019556965357458503, 0.021530783615626627, 0.00686486263078419, 0.0077097055435638, 0.006880357095504962, 0.010797997938851089, 1.0, 0.010779955467609702, -0.013245088793024601, 0.0003045795321310694, -0.013298863166953551, -0.012801927331037034, 0.006141203007399626, 0.0358874747395237], [-0.00999639310243303, 0.006680331100800537, 0.002531194861242011, 0.023538954634237684, 0.002530402513343331, -0.013752422130017643, -0.00018332959241771428, -0.013740186074276102, 0.9999991554251072, 0.010779955467609702, 1.0, -0.014563349287912102, -0.011936736410410823, -0.014543433319673813, -0.009284273360640992, 0.03674245189384593, 0.005124897536697014], [0.013663931690114161, 0.0012290704609337014, -0.011902466267240876, 0.02425595852967523, -0.011904857213441247, -0.012165538339438668, 0.005592260705030391, -0.012149816259725426, -0.014562563123309365, -0.013245088793024601, -0.014563349287912102, 1.0, 0.021797844804606663, 0.9999914257602199, -0.009875684560385165, 0.0657027917423582, 0.0015154074553947103], [0.021059055879490248, 0.013957338671804617, 0.005676864900404522, 0.004574268228354949, 0.0056726441118240285, 0.005610475806840109, 0.01743369206986398, 0.005555124215433599, -0.011962891759925126, 0.0003045795321310694, -0.011936736410410823, 0.021797844804606663, 1.0, 0.021988435925460258, -0.017560599224287606, -0.05284433577413775, 0.0027318528139195584], [0.013654998431127989, 0.001288259233200605, -0.011850890353764123, 0.024340671131753665, -0.01185330315930121, -0.012181038353377508, 0.005588980332412045, -0.012165190404728878, -0.01454259877111583, -0.013298863166953551, -0.014543433319673813, 0.9999914257602199, 0.021988435925460258, 1.0, -0.009884758688518819, 0.06576118585230042, 0.0014177631215373185], [-0.003758881585051974, -0.013262583062484986, -0.013309625992483178, -0.018941930313584193, -0.013313510265702325, -0.014856681604968103, 0.00242257469984004, -0.014823357001070252, -0.009306794371014677, -0.012801927331037034, -0.009284273360640992, -0.009875684560385165, -0.017560599224287606, -0.009884758688518819, 1.0, 0.20874999878379205, -0.0009563461720389967], [0.016035143278994766, -0.08972796983506288, 0.20119311877859367, 0.01845931160857679, 0.2011774759311796, 0.09109739980510857, 0.009233131913078209, 0.09108134186926481, 0.036728642692660726, 0.006141203007399626, 0.03674245189384593, 0.0657027917423582, -0.05284433577413775, 0.06576118585230042, 0.20874999878379205, 1.0, 0.028634683286715264], [0.016612673119529506, 0.025354523830361866, -0.002465342281717235, -0.010679886736552483, -0.0024611370008967796, 0.02660993622145609, 0.012071499401711584, 0.026603105078811362, 0.005133907742873605, 0.0358874747395237, 0.005124897536697014, 0.0015154074553947103, 0.0027318528139195584, 0.0014177631215373185, -0.0009563461720389967, 0.028634683286715264, 1.0]]}],\n",
              "                        {\"height\": 800, \"margin\": {\"b\": 300, \"l\": 0, \"r\": 300, \"t\": 90}, \"template\": {\"data\": {\"bar\": [{\"error_x\": {\"color\": \"#2a3f5f\"}, \"error_y\": {\"color\": \"#2a3f5f\"}, \"marker\": {\"line\": {\"color\": \"#E5ECF6\", \"width\": 0.5}}, \"type\": \"bar\"}], \"barpolar\": [{\"marker\": {\"line\": {\"color\": \"#E5ECF6\", \"width\": 0.5}}, \"type\": \"barpolar\"}], \"carpet\": [{\"aaxis\": {\"endlinecolor\": \"#2a3f5f\", \"gridcolor\": \"white\", \"linecolor\": \"white\", \"minorgridcolor\": \"white\", \"startlinecolor\": \"#2a3f5f\"}, \"baxis\": {\"endlinecolor\": \"#2a3f5f\", \"gridcolor\": \"white\", \"linecolor\": \"white\", \"minorgridcolor\": \"white\", \"startlinecolor\": \"#2a3f5f\"}, \"type\": \"carpet\"}], \"choropleth\": [{\"colorbar\": {\"outlinewidth\": 0, \"ticks\": \"\"}, \"type\": \"choropleth\"}], \"contour\": [{\"colorbar\": {\"outlinewidth\": 0, \"ticks\": \"\"}, \"colorscale\": [[0.0, \"#0d0887\"], [0.1111111111111111, \"#46039f\"], [0.2222222222222222, \"#7201a8\"], [0.3333333333333333, \"#9c179e\"], [0.4444444444444444, \"#bd3786\"], [0.5555555555555556, \"#d8576b\"], [0.6666666666666666, \"#ed7953\"], [0.7777777777777778, \"#fb9f3a\"], [0.8888888888888888, \"#fdca26\"], [1.0, \"#f0f921\"]], \"type\": \"contour\"}], \"contourcarpet\": [{\"colorbar\": {\"outlinewidth\": 0, \"ticks\": \"\"}, \"type\": \"contourcarpet\"}], \"heatmap\": [{\"colorbar\": {\"outlinewidth\": 0, \"ticks\": \"\"}, \"colorscale\": [[0.0, \"#0d0887\"], [0.1111111111111111, \"#46039f\"], [0.2222222222222222, \"#7201a8\"], [0.3333333333333333, \"#9c179e\"], [0.4444444444444444, \"#bd3786\"], [0.5555555555555556, \"#d8576b\"], [0.6666666666666666, \"#ed7953\"], [0.7777777777777778, \"#fb9f3a\"], [0.8888888888888888, \"#fdca26\"], [1.0, \"#f0f921\"]], \"type\": \"heatmap\"}], \"heatmapgl\": [{\"colorbar\": {\"outlinewidth\": 0, \"ticks\": \"\"}, \"colorscale\": [[0.0, \"#0d0887\"], [0.1111111111111111, \"#46039f\"], [0.2222222222222222, \"#7201a8\"], [0.3333333333333333, \"#9c179e\"], [0.4444444444444444, \"#bd3786\"], [0.5555555555555556, \"#d8576b\"], [0.6666666666666666, \"#ed7953\"], [0.7777777777777778, \"#fb9f3a\"], [0.8888888888888888, \"#fdca26\"], [1.0, \"#f0f921\"]], \"type\": \"heatmapgl\"}], \"histogram\": [{\"marker\": {\"colorbar\": {\"outlinewidth\": 0, \"ticks\": \"\"}}, \"type\": \"histogram\"}], \"histogram2d\": [{\"colorbar\": {\"outlinewidth\": 0, \"ticks\": \"\"}, \"colorscale\": [[0.0, \"#0d0887\"], [0.1111111111111111, \"#46039f\"], [0.2222222222222222, \"#7201a8\"], [0.3333333333333333, \"#9c179e\"], [0.4444444444444444, \"#bd3786\"], [0.5555555555555556, \"#d8576b\"], [0.6666666666666666, \"#ed7953\"], [0.7777777777777778, \"#fb9f3a\"], [0.8888888888888888, \"#fdca26\"], [1.0, \"#f0f921\"]], \"type\": \"histogram2d\"}], \"histogram2dcontour\": [{\"colorbar\": {\"outlinewidth\": 0, \"ticks\": \"\"}, \"colorscale\": [[0.0, \"#0d0887\"], [0.1111111111111111, \"#46039f\"], [0.2222222222222222, \"#7201a8\"], [0.3333333333333333, \"#9c179e\"], [0.4444444444444444, \"#bd3786\"], [0.5555555555555556, \"#d8576b\"], [0.6666666666666666, \"#ed7953\"], [0.7777777777777778, \"#fb9f3a\"], [0.8888888888888888, \"#fdca26\"], [1.0, \"#f0f921\"]], \"type\": \"histogram2dcontour\"}], \"mesh3d\": [{\"colorbar\": {\"outlinewidth\": 0, \"ticks\": \"\"}, \"type\": \"mesh3d\"}], \"parcoords\": [{\"line\": {\"colorbar\": {\"outlinewidth\": 0, \"ticks\": \"\"}}, \"type\": \"parcoords\"}], \"pie\": [{\"automargin\": true, \"type\": \"pie\"}], \"scatter\": [{\"marker\": {\"colorbar\": {\"outlinewidth\": 0, \"ticks\": \"\"}}, \"type\": \"scatter\"}], \"scatter3d\": [{\"line\": {\"colorbar\": {\"outlinewidth\": 0, \"ticks\": \"\"}}, \"marker\": {\"colorbar\": {\"outlinewidth\": 0, \"ticks\": \"\"}}, \"type\": \"scatter3d\"}], \"scattercarpet\": [{\"marker\": {\"colorbar\": {\"outlinewidth\": 0, \"ticks\": \"\"}}, \"type\": \"scattercarpet\"}], \"scattergeo\": [{\"marker\": {\"colorbar\": {\"outlinewidth\": 0, \"ticks\": \"\"}}, \"type\": \"scattergeo\"}], \"scattergl\": [{\"marker\": {\"colorbar\": {\"outlinewidth\": 0, \"ticks\": \"\"}}, \"type\": \"scattergl\"}], \"scattermapbox\": [{\"marker\": {\"colorbar\": {\"outlinewidth\": 0, \"ticks\": \"\"}}, \"type\": \"scattermapbox\"}], \"scatterpolar\": [{\"marker\": {\"colorbar\": {\"outlinewidth\": 0, \"ticks\": \"\"}}, \"type\": \"scatterpolar\"}], \"scatterpolargl\": [{\"marker\": {\"colorbar\": {\"outlinewidth\": 0, \"ticks\": \"\"}}, \"type\": \"scatterpolargl\"}], \"scatterternary\": [{\"marker\": {\"colorbar\": {\"outlinewidth\": 0, \"ticks\": \"\"}}, \"type\": \"scatterternary\"}], \"surface\": [{\"colorbar\": {\"outlinewidth\": 0, \"ticks\": \"\"}, \"colorscale\": [[0.0, \"#0d0887\"], [0.1111111111111111, \"#46039f\"], [0.2222222222222222, \"#7201a8\"], [0.3333333333333333, \"#9c179e\"], [0.4444444444444444, \"#bd3786\"], [0.5555555555555556, \"#d8576b\"], [0.6666666666666666, \"#ed7953\"], [0.7777777777777778, \"#fb9f3a\"], [0.8888888888888888, \"#fdca26\"], [1.0, \"#f0f921\"]], \"type\": \"surface\"}], \"table\": [{\"cells\": {\"fill\": {\"color\": \"#EBF0F8\"}, \"line\": {\"color\": \"white\"}}, \"header\": {\"fill\": {\"color\": \"#C8D4E3\"}, \"line\": {\"color\": \"white\"}}, \"type\": \"table\"}]}, \"layout\": {\"annotationdefaults\": {\"arrowcolor\": \"#2a3f5f\", \"arrowhead\": 0, \"arrowwidth\": 1}, \"coloraxis\": {\"colorbar\": {\"outlinewidth\": 0, \"ticks\": \"\"}}, \"colorscale\": {\"diverging\": [[0, \"#8e0152\"], [0.1, \"#c51b7d\"], [0.2, \"#de77ae\"], [0.3, \"#f1b6da\"], [0.4, \"#fde0ef\"], [0.5, \"#f7f7f7\"], [0.6, \"#e6f5d0\"], [0.7, \"#b8e186\"], [0.8, \"#7fbc41\"], [0.9, \"#4d9221\"], [1, \"#276419\"]], \"sequential\": [[0.0, \"#0d0887\"], [0.1111111111111111, \"#46039f\"], [0.2222222222222222, \"#7201a8\"], [0.3333333333333333, \"#9c179e\"], [0.4444444444444444, \"#bd3786\"], [0.5555555555555556, \"#d8576b\"], [0.6666666666666666, \"#ed7953\"], [0.7777777777777778, \"#fb9f3a\"], [0.8888888888888888, \"#fdca26\"], [1.0, \"#f0f921\"]], \"sequentialminus\": [[0.0, \"#0d0887\"], [0.1111111111111111, \"#46039f\"], [0.2222222222222222, \"#7201a8\"], [0.3333333333333333, \"#9c179e\"], [0.4444444444444444, \"#bd3786\"], [0.5555555555555556, \"#d8576b\"], [0.6666666666666666, \"#ed7953\"], [0.7777777777777778, \"#fb9f3a\"], [0.8888888888888888, \"#fdca26\"], [1.0, \"#f0f921\"]]}, \"colorway\": [\"#636efa\", \"#EF553B\", \"#00cc96\", \"#ab63fa\", \"#FFA15A\", \"#19d3f3\", \"#FF6692\", \"#B6E880\", \"#FF97FF\", \"#FECB52\"], \"font\": {\"color\": \"#2a3f5f\"}, \"geo\": {\"bgcolor\": \"white\", \"lakecolor\": \"white\", \"landcolor\": \"#E5ECF6\", \"showlakes\": true, \"showland\": true, \"subunitcolor\": \"white\"}, \"hoverlabel\": {\"align\": \"left\"}, \"hovermode\": \"closest\", \"mapbox\": {\"style\": \"light\"}, \"paper_bgcolor\": \"white\", \"plot_bgcolor\": \"#E5ECF6\", \"polar\": {\"angularaxis\": {\"gridcolor\": \"white\", \"linecolor\": \"white\", \"ticks\": \"\"}, \"bgcolor\": \"#E5ECF6\", \"radialaxis\": {\"gridcolor\": \"white\", \"linecolor\": \"white\", \"ticks\": \"\"}}, \"scene\": {\"xaxis\": {\"backgroundcolor\": \"#E5ECF6\", \"gridcolor\": \"white\", \"gridwidth\": 2, \"linecolor\": \"white\", \"showbackground\": true, \"ticks\": \"\", \"zerolinecolor\": \"white\"}, \"yaxis\": {\"backgroundcolor\": \"#E5ECF6\", \"gridcolor\": \"white\", \"gridwidth\": 2, \"linecolor\": \"white\", \"showbackground\": true, \"ticks\": \"\", \"zerolinecolor\": \"white\"}, \"zaxis\": {\"backgroundcolor\": \"#E5ECF6\", \"gridcolor\": \"white\", \"gridwidth\": 2, \"linecolor\": \"white\", \"showbackground\": true, \"ticks\": \"\", \"zerolinecolor\": \"white\"}}, \"shapedefaults\": {\"line\": {\"color\": \"#2a3f5f\"}}, \"ternary\": {\"aaxis\": {\"gridcolor\": \"white\", \"linecolor\": \"white\", \"ticks\": \"\"}, \"baxis\": {\"gridcolor\": \"white\", \"linecolor\": \"white\", \"ticks\": \"\"}, \"bgcolor\": \"#E5ECF6\", \"caxis\": {\"gridcolor\": \"white\", \"linecolor\": \"white\", \"ticks\": \"\"}}, \"title\": {\"x\": 0.05}, \"xaxis\": {\"automargin\": true, \"gridcolor\": \"white\", \"linecolor\": \"white\", \"ticks\": \"\", \"title\": {\"standoff\": 15}, \"zerolinecolor\": \"white\", \"zerolinewidth\": 2}, \"yaxis\": {\"automargin\": true, \"gridcolor\": \"white\", \"linecolor\": \"white\", \"ticks\": \"\", \"title\": {\"standoff\": 15}, \"zerolinecolor\": \"white\", \"zerolinewidth\": 2}}}, \"title\": {\"text\": \"Visualization for pairwise correlation of the columns\"}, \"width\": 1100, \"xaxis\": {\"tickangle\": 50}, \"yaxis\": {\"automargin\": true}},\n",
              "                        {\"responsive\": true}\n",
              "                    ).then(function(){\n",
              "                            \n",
              "var gd = document.getElementById('88f7fcbd-6ad9-42df-8762-b3e8f5ac0b10');\n",
              "var x = new MutationObserver(function (mutations, observer) {{\n",
              "        var display = window.getComputedStyle(gd).display;\n",
              "        if (!display || display === 'none') {{\n",
              "            console.log([gd, 'removed!']);\n",
              "            Plotly.purge(gd);\n",
              "            observer.disconnect();\n",
              "        }}\n",
              "}});\n",
              "\n",
              "// Listen for the removal of the full notebook cells\n",
              "var notebookContainer = gd.closest('#notebook-container');\n",
              "if (notebookContainer) {{\n",
              "    x.observe(notebookContainer, {childList: true});\n",
              "}}\n",
              "\n",
              "// Listen for the clearing of the current output cell\n",
              "var outputEl = gd.closest('.output');\n",
              "if (outputEl) {{\n",
              "    x.observe(outputEl, {childList: true});\n",
              "}}\n",
              "\n",
              "                        })\n",
              "                };\n",
              "                });\n",
              "            </script>\n",
              "        </div>"
            ]
          },
          "metadata": {
            "tags": []
          }
        }
      ]
    },
    {
      "cell_type": "markdown",
      "metadata": {
        "colab_type": "text",
        "id": "MmNKV3x4ot-V"
      },
      "source": [
        "From the above map, we can see that churn has highest correlation with columns total day charge, total day minutes, total eve charge, total eve minutes, total night charge, total night minutes,total intl charge and total intl minutes.\n",
        "\n",
        "The columns that have highest correlation with the churn variable are the total_day_charge, the total_day_minutes and the number of customer service calls.\n",
        "\n",
        "MULTICOLLINEAR VARIABLES Night Mins , Night Charge 0.999999\n",
        "\n",
        "Eve Charge , Eve Mins 1.000000\n",
        "\n",
        "Day Charge , Day Mins 1.000000\n",
        "\n",
        "Intl Charge , Intl Mins 0.999993"
      ]
    },
    {
      "cell_type": "markdown",
      "metadata": {
        "colab_type": "text",
        "id": "LlJQgS7Lot-V"
      },
      "source": [
        "Here, we are using groupby on churn to group data with other columns and then we are using mean() to find out their mean. We can observe that the mean of total day minutes with respect to churn is highest among all the others."
      ]
    },
    {
      "cell_type": "code",
      "metadata": {
        "colab_type": "code",
        "id": "Go27iUfAot-W",
        "colab": {
          "base_uri": "https://localhost:8080/",
          "height": 196
        },
        "outputId": "d7dd4b5d-6888-4010-da9e-d373a3e04765"
      },
      "source": [
        "df.groupby(['churn']).mean()"
      ],
      "execution_count": null,
      "outputs": [
        {
          "output_type": "execute_result",
          "data": {
            "text/html": [
              "<div>\n",
              "<style scoped>\n",
              "    .dataframe tbody tr th:only-of-type {\n",
              "        vertical-align: middle;\n",
              "    }\n",
              "\n",
              "    .dataframe tbody tr th {\n",
              "        vertical-align: top;\n",
              "    }\n",
              "\n",
              "    .dataframe thead th {\n",
              "        text-align: right;\n",
              "    }\n",
              "</style>\n",
              "<table border=\"1\" class=\"dataframe\">\n",
              "  <thead>\n",
              "    <tr style=\"text-align: right;\">\n",
              "      <th></th>\n",
              "      <th>account length</th>\n",
              "      <th>number vmail messages</th>\n",
              "      <th>total day minutes</th>\n",
              "      <th>total day calls</th>\n",
              "      <th>total day charge</th>\n",
              "      <th>total eve minutes</th>\n",
              "      <th>total eve calls</th>\n",
              "      <th>total eve charge</th>\n",
              "      <th>total night minutes</th>\n",
              "      <th>total night calls</th>\n",
              "      <th>total night charge</th>\n",
              "      <th>total intl minutes</th>\n",
              "      <th>total intl calls</th>\n",
              "      <th>total intl charge</th>\n",
              "      <th>customer service calls</th>\n",
              "    </tr>\n",
              "    <tr>\n",
              "      <th>churn</th>\n",
              "      <th></th>\n",
              "      <th></th>\n",
              "      <th></th>\n",
              "      <th></th>\n",
              "      <th></th>\n",
              "      <th></th>\n",
              "      <th></th>\n",
              "      <th></th>\n",
              "      <th></th>\n",
              "      <th></th>\n",
              "      <th></th>\n",
              "      <th></th>\n",
              "      <th></th>\n",
              "      <th></th>\n",
              "      <th></th>\n",
              "    </tr>\n",
              "  </thead>\n",
              "  <tbody>\n",
              "    <tr>\n",
              "      <th>0</th>\n",
              "      <td>100.793684</td>\n",
              "      <td>8.604561</td>\n",
              "      <td>175.175754</td>\n",
              "      <td>100.283158</td>\n",
              "      <td>29.780421</td>\n",
              "      <td>199.043298</td>\n",
              "      <td>100.038596</td>\n",
              "      <td>16.918909</td>\n",
              "      <td>200.133193</td>\n",
              "      <td>100.058246</td>\n",
              "      <td>9.006074</td>\n",
              "      <td>10.158877</td>\n",
              "      <td>4.532982</td>\n",
              "      <td>2.743404</td>\n",
              "      <td>1.449825</td>\n",
              "    </tr>\n",
              "    <tr>\n",
              "      <th>1</th>\n",
              "      <td>102.664596</td>\n",
              "      <td>5.115942</td>\n",
              "      <td>206.914079</td>\n",
              "      <td>101.335404</td>\n",
              "      <td>35.175921</td>\n",
              "      <td>212.410145</td>\n",
              "      <td>100.561077</td>\n",
              "      <td>18.054969</td>\n",
              "      <td>205.231677</td>\n",
              "      <td>100.399586</td>\n",
              "      <td>9.235528</td>\n",
              "      <td>10.700000</td>\n",
              "      <td>4.163561</td>\n",
              "      <td>2.889545</td>\n",
              "      <td>2.229814</td>\n",
              "    </tr>\n",
              "  </tbody>\n",
              "</table>\n",
              "</div>"
            ],
            "text/plain": [
              "       account length  ...  customer service calls\n",
              "churn                  ...                        \n",
              "0          100.793684  ...                1.449825\n",
              "1          102.664596  ...                2.229814\n",
              "\n",
              "[2 rows x 15 columns]"
            ]
          },
          "metadata": {
            "tags": []
          },
          "execution_count": 481
        }
      ]
    },
    {
      "cell_type": "markdown",
      "metadata": {
        "colab_type": "text",
        "id": "64qXvN3aot-Y"
      },
      "source": [
        "Here, we plotting a graph to analyze the churn rate with respect to total day charge column."
      ]
    },
    {
      "cell_type": "code",
      "metadata": {
        "colab_type": "code",
        "id": "_oaHv2mfot-Y",
        "colab": {
          "base_uri": "https://localhost:8080/",
          "height": 514
        },
        "outputId": "ff7dbcb0-0165-4365-a7f4-2c0a7170ef1b"
      },
      "source": [
        "plt.figure(figsize=(14,8))\n",
        "df[df['churn']==1]['total day charge'].hist(bins=40,color = 'red',label = 'churn 1',alpha = 0.6)\n",
        "df[df['churn']==0]['total day charge'].hist(bins = 40,color = 'blue',label = 'churn 0',alpha = 0.6)\n",
        "plt.legend()\n",
        "plt.xlabel('TOTAL DAY CHARGE vs CHURN RATE')"
      ],
      "execution_count": null,
      "outputs": [
        {
          "output_type": "execute_result",
          "data": {
            "text/plain": [
              "Text(0.5, 0, 'TOTAL DAY CHARGE vs CHURN RATE')"
            ]
          },
          "metadata": {
            "tags": []
          },
          "execution_count": 482
        },
        {
          "output_type": "display_data",
          "data": {
            "image/png": "[encoded data removed]",
            "text/plain": [
              "<Figure size 1008x576 with 1 Axes>"
            ]
          },
          "metadata": {
            "tags": [],
            "needs_background": "light"
          }
        }
      ]
    },
    {
      "cell_type": "markdown",
      "metadata": {
        "colab_type": "text",
        "id": "vpM4u51Kot-b"
      },
      "source": [
        "From the above graph, we can observe that the rate of churn is high in customers with high day charges."
      ]
    },
    {
      "cell_type": "markdown",
      "metadata": {
        "colab_type": "text",
        "id": "ypmes1bjot-b"
      },
      "source": [
        "Then, we are plotting another visualization to analyze the churn rate with respect to customer service calls."
      ]
    },
    {
      "cell_type": "code",
      "metadata": {
        "colab_type": "code",
        "id": "fmeslHQ9ot-c",
        "colab": {
          "base_uri": "https://localhost:8080/",
          "height": 514
        },
        "outputId": "08fa5ff4-428c-475b-ff9d-05707cf2bffc"
      },
      "source": [
        "plt.figure(figsize=(14,8))\n",
        "sns.countplot(x='customer service calls',hue = 'churn',data=df,palette='Set1' )"
      ],
      "execution_count": null,
      "outputs": [
        {
          "output_type": "execute_result",
          "data": {
            "text/plain": [
              "<matplotlib.axes._subplots.AxesSubplot at 0x7f632f0bbdd8>"
            ]
          },
          "metadata": {
            "tags": []
          },
          "execution_count": 483
        },
        {
          "output_type": "display_data",
          "data": {
            "image/png": "[encoded data removed]",
            "text/plain": [
              "<Figure size 1008x576 with 1 Axes>"
            ]
          },
          "metadata": {
            "tags": [],
            "needs_background": "light"
          }
        }
      ]
    },
    {
      "cell_type": "markdown",
      "metadata": {
        "colab_type": "text",
        "id": "ts6lQZyWot-e"
      },
      "source": [
        "From the above graph, we can observe that churn is directly proportional to customer service calls. That is, churn is increasing with increase in customer service calls."
      ]
    },
    {
      "cell_type": "markdown",
      "metadata": {
        "colab_type": "text",
        "id": "IxvM2Lziot-f"
      },
      "source": [
        "Here, we are plotting churn with international plan attribute to analyze the churn rate with respect to international plan factor."
      ]
    },
    {
      "cell_type": "code",
      "metadata": {
        "colab_type": "code",
        "id": "4nE5RdMyot-f",
        "colab": {
          "base_uri": "https://localhost:8080/",
          "height": 514
        },
        "outputId": "46553153-0704-49ae-d342-5c96165c13ec"
      },
      "source": [
        "plt.figure(figsize=(14,8))\n",
        "sns.countplot(x ='international plan',hue='churn',data = df,palette='Set2')"
      ],
      "execution_count": null,
      "outputs": [
        {
          "output_type": "execute_result",
          "data": {
            "text/plain": [
              "<matplotlib.axes._subplots.AxesSubplot at 0x7f632f01ca58>"
            ]
          },
          "metadata": {
            "tags": []
          },
          "execution_count": 484
        },
        {
          "output_type": "display_data",
          "data": {
            "image/png": "[encoded data removed]",
            "text/plain": [
              "<Figure size 1008x576 with 1 Axes>"
            ]
          },
          "metadata": {
            "tags": [],
            "needs_background": "light"
          }
        }
      ]
    },
    {
      "cell_type": "markdown",
      "metadata": {
        "colab_type": "text",
        "id": "EfE6FH7vot-i"
      },
      "source": [
        "From the above plot, we can observe that the churn rate is high for customers with international plan when compared to customers with no international plan. "
      ]
    },
    {
      "cell_type": "markdown",
      "metadata": {
        "colab_type": "text",
        "id": "GJaRFIMrot-j"
      },
      "source": [
        "# Checking and clipping outliers"
      ]
    },
    {
      "cell_type": "markdown",
      "metadata": {
        "colab_type": "text",
        "id": "64qPJUypot-k"
      },
      "source": [
        "Now that we analyzed the correlating factors, let us check for the outliers in the respective columns."
      ]
    },
    {
      "cell_type": "code",
      "metadata": {
        "colab_type": "code",
        "id": "3wVRVTP2ot-l",
        "colab": {
          "base_uri": "https://localhost:8080/",
          "height": 296
        },
        "outputId": "3482f758-1639-4f44-b266-19b9ebbda948"
      },
      "source": [
        "sns.boxplot(df['total day charge'])"
      ],
      "execution_count": null,
      "outputs": [
        {
          "output_type": "execute_result",
          "data": {
            "text/plain": [
              "<matplotlib.axes._subplots.AxesSubplot at 0x7f632f09d7b8>"
            ]
          },
          "metadata": {
            "tags": []
          },
          "execution_count": 485
        },
        {
          "output_type": "display_data",
          "data": {
            "image/png": "[encoded data removed]",
            "text/plain": [
              "<Figure size 432x288 with 1 Axes>"
            ]
          },
          "metadata": {
            "tags": [],
            "needs_background": "light"
          }
        }
      ]
    },
    {
      "cell_type": "markdown",
      "metadata": {
        "colab_type": "text",
        "id": "1ACL4Fi-ot-o"
      },
      "source": [
        "From the above plot, we can observe that range of diversity is extreme. That is, even though more data points lie in the average range, there are few datapoints that are at the extreme corners which has an effect on the analysis. Hence, we are removing the outliers to get better results in the analysis."
      ]
    },
    {
      "cell_type": "code",
      "metadata": {
        "colab_type": "code",
        "id": "znweuxgcot-o",
        "colab": {
          "base_uri": "https://localhost:8080/",
          "height": 51
        },
        "outputId": "2e436012-d612-4a16-9854-e983b696d499"
      },
      "source": [
        "print(df['total day charge'].quantile(0.99))\n",
        "print(df['total day charge'].quantile(0.01))"
      ],
      "execution_count": null,
      "outputs": [
        {
          "output_type": "stream",
          "text": [
            "51.876799999999996\n",
            "8.8132\n"
          ],
          "name": "stdout"
        }
      ]
    },
    {
      "cell_type": "markdown",
      "metadata": {
        "colab_type": "text",
        "id": "gioiZk2zot-s"
      },
      "source": [
        "We are plotting the above alterations here by clipping the boundaries."
      ]
    },
    {
      "cell_type": "code",
      "metadata": {
        "colab_type": "code",
        "id": "eOXjZ9p-ot-s",
        "colab": {
          "base_uri": "https://localhost:8080/",
          "height": 296
        },
        "outputId": "9c1fe145-3c34-48f3-96ff-b34bc5c9a15b"
      },
      "source": [
        "df['total day charge'].clip(lower =8.81,upper = 51.87,inplace = True)\n",
        "sns.boxplot(df['total day charge'])"
      ],
      "execution_count": null,
      "outputs": [
        {
          "output_type": "execute_result",
          "data": {
            "text/plain": [
              "<matplotlib.axes._subplots.AxesSubplot at 0x7f63307d9240>"
            ]
          },
          "metadata": {
            "tags": []
          },
          "execution_count": 487
        },
        {
          "output_type": "display_data",
          "data": {
            "image/png": "[encoded data removed]",
            "text/plain": [
              "<Figure size 432x288 with 1 Axes>"
            ]
          },
          "metadata": {
            "tags": [],
            "needs_background": "light"
          }
        }
      ]
    },
    {
      "cell_type": "markdown",
      "metadata": {
        "colab_type": "text",
        "id": "1TWMbsS1ot-u"
      },
      "source": [
        "After removing the outliers, analysis can be better."
      ]
    },
    {
      "cell_type": "markdown",
      "metadata": {
        "colab_type": "text",
        "id": "kZmd1V9bot-v"
      },
      "source": [
        "After plotting total day minutes, we can observe that the majority datapoints are in the middle but there are outliers that are at extremes. Hence, we are removing the outliers."
      ]
    },
    {
      "cell_type": "code",
      "metadata": {
        "colab_type": "code",
        "id": "C1PKDRA9ot-w",
        "colab": {
          "base_uri": "https://localhost:8080/",
          "height": 296
        },
        "outputId": "2612e067-bb49-40b9-f16b-c20498c75ce6"
      },
      "source": [
        "sns.boxplot(df['total day minutes'])"
      ],
      "execution_count": null,
      "outputs": [
        {
          "output_type": "execute_result",
          "data": {
            "text/plain": [
              "<matplotlib.axes._subplots.AxesSubplot at 0x7f632f1ae6d8>"
            ]
          },
          "metadata": {
            "tags": []
          },
          "execution_count": 488
        },
        {
          "output_type": "display_data",
          "data": {
            "image/png": "[encoded data removed]",
            "text/plain": [
              "<Figure size 432x288 with 1 Axes>"
            ]
          },
          "metadata": {
            "tags": [],
            "needs_background": "light"
          }
        }
      ]
    },
    {
      "cell_type": "code",
      "metadata": {
        "colab_type": "code",
        "id": "f9ZppexHot-z",
        "colab": {
          "base_uri": "https://localhost:8080/",
          "height": 51
        },
        "outputId": "da48dd9e-3ba8-49d8-85fd-b5dfe81bbcf3"
      },
      "source": [
        "print(df['total day minutes'].quantile(0.99))\n",
        "print(df['total day minutes'].quantile(0.01))"
      ],
      "execution_count": null,
      "outputs": [
        {
          "output_type": "stream",
          "text": [
            "305.168\n",
            "51.831999999999994\n"
          ],
          "name": "stdout"
        }
      ]
    },
    {
      "cell_type": "code",
      "metadata": {
        "colab_type": "code",
        "id": "dSI0rVFhot-3",
        "colab": {
          "base_uri": "https://localhost:8080/",
          "height": 296
        },
        "outputId": "6f0543f6-7cdd-4994-a6b7-c3f15fc98ee2"
      },
      "source": [
        "df['total day minutes'].clip(lower =51.83,upper = 305.168,inplace = True)\n",
        "sns.boxplot(df['total day minutes'])"
      ],
      "execution_count": null,
      "outputs": [
        {
          "output_type": "execute_result",
          "data": {
            "text/plain": [
              "<matplotlib.axes._subplots.AxesSubplot at 0x7f63302662b0>"
            ]
          },
          "metadata": {
            "tags": []
          },
          "execution_count": 490
        },
        {
          "output_type": "display_data",
          "data": {
            "image/png": "[encoded data removed]",
            "text/plain": [
              "<Figure size 432x288 with 1 Axes>"
            ]
          },
          "metadata": {
            "tags": [],
            "needs_background": "light"
          }
        }
      ]
    },
    {
      "cell_type": "markdown",
      "metadata": {
        "colab_type": "text",
        "id": "aC1pDZYSot-4"
      },
      "source": [
        "The plot range is reduced here to remove the outliers after calculating the average starting and ending range of the plot being 50 and 300 for better analysis results."
      ]
    },
    {
      "cell_type": "markdown",
      "metadata": {
        "colab_type": "text",
        "id": "54AzwVHyot-5"
      },
      "source": [
        "We are perfoming the same process of identifying and removing the outliers on total eve charge column."
      ]
    },
    {
      "cell_type": "code",
      "metadata": {
        "colab_type": "code",
        "id": "jUYAGFgPot-5",
        "colab": {
          "base_uri": "https://localhost:8080/",
          "height": 296
        },
        "outputId": "553055f2-86f5-4747-ca62-a88f9e0f7520"
      },
      "source": [
        "sns.boxplot(df['total eve charge'])"
      ],
      "execution_count": null,
      "outputs": [
        {
          "output_type": "execute_result",
          "data": {
            "text/plain": [
              "<matplotlib.axes._subplots.AxesSubplot at 0x7f6330266f28>"
            ]
          },
          "metadata": {
            "tags": []
          },
          "execution_count": 491
        },
        {
          "output_type": "display_data",
          "data": {
            "image/png": "[encoded data removed]",
            "text/plain": [
              "<Figure size 432x288 with 1 Axes>"
            ]
          },
          "metadata": {
            "tags": [],
            "needs_background": "light"
          }
        }
      ]
    },
    {
      "cell_type": "code",
      "metadata": {
        "colab_type": "code",
        "id": "bT9XcJkxot-7",
        "scrolled": true,
        "colab": {
          "base_uri": "https://localhost:8080/",
          "height": 51
        },
        "outputId": "72cb8802-48c1-428f-e2ec-40b64129ec63"
      },
      "source": [
        "print(df['total eve charge'].quantile(0.99))\n",
        "print(df['total eve charge'].quantile(0.01))"
      ],
      "execution_count": null,
      "outputs": [
        {
          "output_type": "stream",
          "text": [
            "27.113599999999998\n",
            "6.7592\n"
          ],
          "name": "stdout"
        }
      ]
    },
    {
      "cell_type": "code",
      "metadata": {
        "colab_type": "code",
        "id": "w-uWULrtot-9",
        "colab": {
          "base_uri": "https://localhost:8080/",
          "height": 296
        },
        "outputId": "d2ab82c3-8031-4014-ac20-680b07ba42bc"
      },
      "source": [
        "df['total eve charge'].clip(lower =6.7,upper = 27.113,inplace = True)\n",
        "sns.boxplot(df['total eve charge'])"
      ],
      "execution_count": null,
      "outputs": [
        {
          "output_type": "execute_result",
          "data": {
            "text/plain": [
              "<matplotlib.axes._subplots.AxesSubplot at 0x7f6330c0ff28>"
            ]
          },
          "metadata": {
            "tags": []
          },
          "execution_count": 493
        },
        {
          "output_type": "display_data",
          "data": {
            "image/png": "[encoded data removed]",
            "text/plain": [
              "<Figure size 432x288 with 1 Axes>"
            ]
          },
          "metadata": {
            "tags": [],
            "needs_background": "light"
          }
        }
      ]
    },
    {
      "cell_type": "markdown",
      "metadata": {
        "colab_type": "text",
        "id": "y0OlvfAfot-_"
      },
      "source": [
        "After calculating, we can observe that the boundaries are reformed to 7.5 and 27.5 as the extreme data points are removed and average is calculated to be 6.7 and 27.1."
      ]
    },
    {
      "cell_type": "markdown",
      "metadata": {
        "colab_type": "text",
        "id": "ar1NULMsot-_"
      },
      "source": [
        "The same process is applied, outliers are identified and clipped after calculating for total eve minutes column."
      ]
    },
    {
      "cell_type": "code",
      "metadata": {
        "colab_type": "code",
        "id": "AVgsKT6iot_A",
        "colab": {
          "base_uri": "https://localhost:8080/",
          "height": 296
        },
        "outputId": "948e6720-7fb7-4b05-df74-da79592a459d"
      },
      "source": [
        "sns.boxplot(df['total eve minutes'])"
      ],
      "execution_count": null,
      "outputs": [
        {
          "output_type": "execute_result",
          "data": {
            "text/plain": [
              "<matplotlib.axes._subplots.AxesSubplot at 0x7f632f27d240>"
            ]
          },
          "metadata": {
            "tags": []
          },
          "execution_count": 494
        },
        {
          "output_type": "display_data",
          "data": {
            "image/png": "[encoded data removed]",
            "text/plain": [
              "<Figure size 432x288 with 1 Axes>"
            ]
          },
          "metadata": {
            "tags": [],
            "needs_background": "light"
          }
        }
      ]
    },
    {
      "cell_type": "code",
      "metadata": {
        "colab_type": "code",
        "id": "5egjNbFHot_E",
        "scrolled": false,
        "colab": {
          "base_uri": "https://localhost:8080/",
          "height": 51
        },
        "outputId": "d3925e50-a1ea-4aa7-eb22-5bc3e0e5945a"
      },
      "source": [
        "print(df['total eve minutes'].quantile(0.99))\n",
        "print(df['total eve minutes'].quantile(0.01))"
      ],
      "execution_count": null,
      "outputs": [
        {
          "output_type": "stream",
          "text": [
            "318.936\n",
            "79.524\n"
          ],
          "name": "stdout"
        }
      ]
    },
    {
      "cell_type": "code",
      "metadata": {
        "colab_type": "code",
        "id": "_zQBK4tgot_H",
        "scrolled": true,
        "colab": {
          "base_uri": "https://localhost:8080/",
          "height": 296
        },
        "outputId": "877eb69a-1c0c-4351-ac79-14e91682d302"
      },
      "source": [
        "df['total eve minutes'].clip(lower =79.524,upper = 318.936,inplace = True)\n",
        "sns.boxplot(df['total eve minutes'])"
      ],
      "execution_count": null,
      "outputs": [
        {
          "output_type": "execute_result",
          "data": {
            "text/plain": [
              "<matplotlib.axes._subplots.AxesSubplot at 0x7f6330a6cdd8>"
            ]
          },
          "metadata": {
            "tags": []
          },
          "execution_count": 496
        },
        {
          "output_type": "display_data",
          "data": {
            "image/png": "[encoded data removed]",
            "text/plain": [
              "<Figure size 432x288 with 1 Axes>"
            ]
          },
          "metadata": {
            "tags": [],
            "needs_background": "light"
          }
        }
      ]
    },
    {
      "cell_type": "markdown",
      "metadata": {
        "colab_type": "text",
        "id": "TlWaFfKAot_J"
      },
      "source": [
        "The same process is applied, outliers are identified and clipped after calculating for total intl minutes column."
      ]
    },
    {
      "cell_type": "code",
      "metadata": {
        "colab_type": "code",
        "id": "JvVMwAIXot_L",
        "colab": {
          "base_uri": "https://localhost:8080/",
          "height": 296
        },
        "outputId": "1777fde4-b65c-4e29-f140-57d9d4c8f15e"
      },
      "source": [
        "sns.boxplot(df['total intl minutes'])"
      ],
      "execution_count": null,
      "outputs": [
        {
          "output_type": "execute_result",
          "data": {
            "text/plain": [
              "<matplotlib.axes._subplots.AxesSubplot at 0x7f6330c15b38>"
            ]
          },
          "metadata": {
            "tags": []
          },
          "execution_count": 497
        },
        {
          "output_type": "display_data",
          "data": {
            "image/png": "[encoded data removed]",
            "text/plain": [
              "<Figure size 432x288 with 1 Axes>"
            ]
          },
          "metadata": {
            "tags": [],
            "needs_background": "light"
          }
        }
      ]
    },
    {
      "cell_type": "code",
      "metadata": {
        "colab_type": "code",
        "id": "EWicvv2Xot_O",
        "colab": {
          "base_uri": "https://localhost:8080/",
          "height": 51
        },
        "outputId": "6760c76a-3e44-4128-bb1d-7138ce4d46f6"
      },
      "source": [
        "print(df['total intl minutes'].quantile(0.99))\n",
        "print(df['total intl minutes'].quantile(0.01))"
      ],
      "execution_count": null,
      "outputs": [
        {
          "output_type": "stream",
          "text": [
            "16.667999999999985\n",
            "3.332\n"
          ],
          "name": "stdout"
        }
      ]
    },
    {
      "cell_type": "code",
      "metadata": {
        "colab_type": "code",
        "id": "9ydz_WpPot_Q",
        "colab": {
          "base_uri": "https://localhost:8080/",
          "height": 296
        },
        "outputId": "bdf8a6e8-2329-4ca8-ca25-b5e0dd1b1522"
      },
      "source": [
        "df['total intl minutes'].clip(lower =3.332,upper = 16.66,inplace = True)\n",
        "sns.boxplot(df['total intl minutes'])"
      ],
      "execution_count": null,
      "outputs": [
        {
          "output_type": "execute_result",
          "data": {
            "text/plain": [
              "<matplotlib.axes._subplots.AxesSubplot at 0x7f6330ca8be0>"
            ]
          },
          "metadata": {
            "tags": []
          },
          "execution_count": 499
        },
        {
          "output_type": "display_data",
          "data": {
            "image/png": "[encoded data removed]",
            "text/plain": [
              "<Figure size 432x288 with 1 Axes>"
            ]
          },
          "metadata": {
            "tags": [],
            "needs_background": "light"
          }
        }
      ]
    },
    {
      "cell_type": "markdown",
      "metadata": {
        "colab_type": "text",
        "id": "WgXdqdrOot_R"
      },
      "source": [
        "The same process is applied, outliers are identified and clipped after calculating for total intl charge column."
      ]
    },
    {
      "cell_type": "code",
      "metadata": {
        "colab_type": "code",
        "id": "-morz-T0ot_S",
        "colab": {
          "base_uri": "https://localhost:8080/",
          "height": 296
        },
        "outputId": "850e51a9-cf15-4eb5-cd08-13042aafcec3"
      },
      "source": [
        "sns.boxplot(df['total intl charge'])"
      ],
      "execution_count": null,
      "outputs": [
        {
          "output_type": "execute_result",
          "data": {
            "text/plain": [
              "<matplotlib.axes._subplots.AxesSubplot at 0x7f632f4724a8>"
            ]
          },
          "metadata": {
            "tags": []
          },
          "execution_count": 500
        },
        {
          "output_type": "display_data",
          "data": {
            "image/png": "[encoded data removed]",
            "text/plain": [
              "<Figure size 432x288 with 1 Axes>"
            ]
          },
          "metadata": {
            "tags": [],
            "needs_background": "light"
          }
        }
      ]
    },
    {
      "cell_type": "code",
      "metadata": {
        "colab_type": "code",
        "id": "VmeBDIb0ot_V",
        "colab": {
          "base_uri": "https://localhost:8080/",
          "height": 51
        },
        "outputId": "ce85b11b-cfc5-4d65-de53-a11e8b78c700"
      },
      "source": [
        "print(df['total intl charge'].quantile(0.99))\n",
        "print(df['total intl charge'].quantile(0.01))"
      ],
      "execution_count": null,
      "outputs": [
        {
          "output_type": "stream",
          "text": [
            "4.5003999999999955\n",
            "0.8996\n"
          ],
          "name": "stdout"
        }
      ]
    },
    {
      "cell_type": "code",
      "metadata": {
        "colab_type": "code",
        "id": "WmkMMXG0ot_X",
        "colab": {
          "base_uri": "https://localhost:8080/",
          "height": 296
        },
        "outputId": "336ebd10-b47c-4468-9725-058030469402"
      },
      "source": [
        "df['total intl charge'].clip(lower =0.89,upper = 4.50,inplace = True)\n",
        "sns.boxplot(df['total intl charge'])"
      ],
      "execution_count": null,
      "outputs": [
        {
          "output_type": "execute_result",
          "data": {
            "text/plain": [
              "<matplotlib.axes._subplots.AxesSubplot at 0x7f632f353c18>"
            ]
          },
          "metadata": {
            "tags": []
          },
          "execution_count": 502
        },
        {
          "output_type": "display_data",
          "data": {
            "image/png": "[encoded data removed]",
            "text/plain": [
              "<Figure size 432x288 with 1 Axes>"
            ]
          },
          "metadata": {
            "tags": [],
            "needs_background": "light"
          }
        }
      ]
    },
    {
      "cell_type": "code",
      "metadata": {
        "colab_type": "code",
        "id": "WNLjoxgQot_Y",
        "colab": {
          "base_uri": "https://localhost:8080/",
          "height": 296
        },
        "outputId": "0ae568f6-f973-4426-a270-d93855bbf441"
      },
      "source": [
        "sns.boxplot(df['account length'])"
      ],
      "execution_count": null,
      "outputs": [
        {
          "output_type": "execute_result",
          "data": {
            "text/plain": [
              "<matplotlib.axes._subplots.AxesSubplot at 0x7f6330c35c88>"
            ]
          },
          "metadata": {
            "tags": []
          },
          "execution_count": 503
        },
        {
          "output_type": "display_data",
          "data": {
            "image/png": "[encoded data removed]",
            "text/plain": [
              "<Figure size 432x288 with 1 Axes>"
            ]
          },
          "metadata": {
            "tags": [],
            "needs_background": "light"
          }
        }
      ]
    },
    {
      "cell_type": "code",
      "metadata": {
        "colab_type": "code",
        "id": "Y63LVoYPot_a",
        "colab": {
          "base_uri": "https://localhost:8080/",
          "height": 296
        },
        "outputId": "6a6aa0ab-398f-4969-fc54-d4d6c19ea956"
      },
      "source": [
        "df['account length'].clip(upper = 200,inplace = True)\n",
        "sns.boxplot(df['account length'])"
      ],
      "execution_count": null,
      "outputs": [
        {
          "output_type": "execute_result",
          "data": {
            "text/plain": [
              "<matplotlib.axes._subplots.AxesSubplot at 0x7f632f389668>"
            ]
          },
          "metadata": {
            "tags": []
          },
          "execution_count": 504
        },
        {
          "output_type": "display_data",
          "data": {
            "image/png": "[encoded data removed]",
            "text/plain": [
              "<Figure size 432x288 with 1 Axes>"
            ]
          },
          "metadata": {
            "tags": [],
            "needs_background": "light"
          }
        }
      ]
    },
    {
      "cell_type": "code",
      "metadata": {
        "colab_type": "code",
        "id": "ne7ratXLot_d",
        "colab": {
          "base_uri": "https://localhost:8080/",
          "height": 296
        },
        "outputId": "12f6719f-e2c2-4038-d8c8-cdcacee17351"
      },
      "source": [
        "sns.boxplot(df['total night minutes'])"
      ],
      "execution_count": null,
      "outputs": [
        {
          "output_type": "execute_result",
          "data": {
            "text/plain": [
              "<matplotlib.axes._subplots.AxesSubplot at 0x7f632f3b5b70>"
            ]
          },
          "metadata": {
            "tags": []
          },
          "execution_count": 505
        },
        {
          "output_type": "display_data",
          "data": {
            "image/png": "[encoded data removed]",
            "text/plain": [
              "<Figure size 432x288 with 1 Axes>"
            ]
          },
          "metadata": {
            "tags": [],
            "needs_background": "light"
          }
        }
      ]
    },
    {
      "cell_type": "code",
      "metadata": {
        "colab_type": "code",
        "id": "uczm7RXwot_f",
        "colab": {
          "base_uri": "https://localhost:8080/",
          "height": 51
        },
        "outputId": "313dd378-8b09-4842-fa98-f977dbbd23e7"
      },
      "source": [
        "print(df['total night minutes'].quantile(0.99))\n",
        "print(df['total night minutes'].quantile(0.01))"
      ],
      "execution_count": null,
      "outputs": [
        {
          "output_type": "stream",
          "text": [
            "317.4479999999998\n",
            "79.428\n"
          ],
          "name": "stdout"
        }
      ]
    },
    {
      "cell_type": "code",
      "metadata": {
        "colab_type": "code",
        "id": "_jiM8IHTot_h",
        "colab": {
          "base_uri": "https://localhost:8080/",
          "height": 296
        },
        "outputId": "a8bbe5fa-fead-4c1f-cc96-2d77ad846d37"
      },
      "source": [
        "df['total night minutes'].clip(lower =79.428,upper = 317.44,inplace = True)\n",
        "sns.boxplot(df['total night minutes'])"
      ],
      "execution_count": null,
      "outputs": [
        {
          "output_type": "execute_result",
          "data": {
            "text/plain": [
              "<matplotlib.axes._subplots.AxesSubplot at 0x7f6330cffe10>"
            ]
          },
          "metadata": {
            "tags": []
          },
          "execution_count": 507
        },
        {
          "output_type": "display_data",
          "data": {
            "image/png": "[encoded data removed]",
            "text/plain": [
              "<Figure size 432x288 with 1 Axes>"
            ]
          },
          "metadata": {
            "tags": [],
            "needs_background": "light"
          }
        }
      ]
    },
    {
      "cell_type": "code",
      "metadata": {
        "colab_type": "code",
        "id": "qEEx2Xqiot_i",
        "colab": {
          "base_uri": "https://localhost:8080/",
          "height": 296
        },
        "outputId": "b0371732-edb9-4326-980f-ae11385b3122"
      },
      "source": [
        "sns.boxplot(df['total night charge'])"
      ],
      "execution_count": null,
      "outputs": [
        {
          "output_type": "execute_result",
          "data": {
            "text/plain": [
              "<matplotlib.axes._subplots.AxesSubplot at 0x7f6330c89668>"
            ]
          },
          "metadata": {
            "tags": []
          },
          "execution_count": 508
        },
        {
          "output_type": "display_data",
          "data": {
            "image/png": "[encoded data removed]",
            "text/plain": [
              "<Figure size 432x288 with 1 Axes>"
            ]
          },
          "metadata": {
            "tags": [],
            "needs_background": "light"
          }
        }
      ]
    },
    {
      "cell_type": "code",
      "metadata": {
        "colab_type": "code",
        "id": "cD7gLwQ4ot_k",
        "colab": {
          "base_uri": "https://localhost:8080/",
          "height": 51
        },
        "outputId": "aafc3bc1-eb7f-4ebb-8ddf-be22b44fae96"
      },
      "source": [
        "print(df['total night charge'].quantile(0.99))\n",
        "print(df['total night charge'].quantile(0.01))"
      ],
      "execution_count": null,
      "outputs": [
        {
          "output_type": "stream",
          "text": [
            "14.283999999999992\n",
            "3.5764\n"
          ],
          "name": "stdout"
        }
      ]
    },
    {
      "cell_type": "code",
      "metadata": {
        "colab_type": "code",
        "id": "AVYPoL40ot_m",
        "colab": {
          "base_uri": "https://localhost:8080/",
          "height": 296
        },
        "outputId": "a1ef54bc-bcfa-42c7-a1bf-2188d4b300e8"
      },
      "source": [
        "df['total night charge'].clip(lower =3.57,upper =14.28 ,inplace = True)\n",
        "sns.boxplot(df['total night charge'])"
      ],
      "execution_count": null,
      "outputs": [
        {
          "output_type": "execute_result",
          "data": {
            "text/plain": [
              "<matplotlib.axes._subplots.AxesSubplot at 0x7f6330b3e080>"
            ]
          },
          "metadata": {
            "tags": []
          },
          "execution_count": 510
        },
        {
          "output_type": "display_data",
          "data": {
            "image/png": "[encoded data removed]",
            "text/plain": [
              "<Figure size 432x288 with 1 Axes>"
            ]
          },
          "metadata": {
            "tags": [],
            "needs_background": "light"
          }
        }
      ]
    },
    {
      "cell_type": "code",
      "metadata": {
        "colab_type": "code",
        "id": "-F8RrtLbwB7Y",
        "colab": {
          "base_uri": "https://localhost:8080/",
          "height": 153
        },
        "outputId": "29240337-8827-4a03-df11-c8cd29b57b08"
      },
      "source": [
        "df.columns"
      ],
      "execution_count": null,
      "outputs": [
        {
          "output_type": "execute_result",
          "data": {
            "text/plain": [
              "Index(['state', 'account length', 'area code', 'phone number',\n",
              "       'international plan', 'voice mail plan', 'number vmail messages',\n",
              "       'total day minutes', 'total day calls', 'total day charge',\n",
              "       'total eve minutes', 'total eve calls', 'total eve charge',\n",
              "       'total night minutes', 'total night calls', 'total night charge',\n",
              "       'total intl minutes', 'total intl calls', 'total intl charge',\n",
              "       'customer service calls', 'churn'],\n",
              "      dtype='object')"
            ]
          },
          "metadata": {
            "tags": []
          },
          "execution_count": 511
        }
      ]
    },
    {
      "cell_type": "code",
      "metadata": {
        "colab_type": "code",
        "id": "mmqSHp90gHqe",
        "colab": {
          "base_uri": "https://localhost:8080/",
          "height": 343
        },
        "outputId": "a7b40820-c5d7-4402-b3d2-c4b7c559eebf"
      },
      "source": [
        "df.head()"
      ],
      "execution_count": null,
      "outputs": [
        {
          "output_type": "execute_result",
          "data": {
            "text/html": [
              "<div>\n",
              "<style scoped>\n",
              "    .dataframe tbody tr th:only-of-type {\n",
              "        vertical-align: middle;\n",
              "    }\n",
              "\n",
              "    .dataframe tbody tr th {\n",
              "        vertical-align: top;\n",
              "    }\n",
              "\n",
              "    .dataframe thead th {\n",
              "        text-align: right;\n",
              "    }\n",
              "</style>\n",
              "<table border=\"1\" class=\"dataframe\">\n",
              "  <thead>\n",
              "    <tr style=\"text-align: right;\">\n",
              "      <th></th>\n",
              "      <th>state</th>\n",
              "      <th>account length</th>\n",
              "      <th>area code</th>\n",
              "      <th>phone number</th>\n",
              "      <th>international plan</th>\n",
              "      <th>voice mail plan</th>\n",
              "      <th>number vmail messages</th>\n",
              "      <th>total day minutes</th>\n",
              "      <th>total day calls</th>\n",
              "      <th>total day charge</th>\n",
              "      <th>total eve minutes</th>\n",
              "      <th>total eve calls</th>\n",
              "      <th>total eve charge</th>\n",
              "      <th>total night minutes</th>\n",
              "      <th>total night calls</th>\n",
              "      <th>total night charge</th>\n",
              "      <th>total intl minutes</th>\n",
              "      <th>total intl calls</th>\n",
              "      <th>total intl charge</th>\n",
              "      <th>customer service calls</th>\n",
              "      <th>churn</th>\n",
              "    </tr>\n",
              "  </thead>\n",
              "  <tbody>\n",
              "    <tr>\n",
              "      <th>0</th>\n",
              "      <td>KS</td>\n",
              "      <td>128</td>\n",
              "      <td>415</td>\n",
              "      <td>382-4657</td>\n",
              "      <td>no</td>\n",
              "      <td>yes</td>\n",
              "      <td>25</td>\n",
              "      <td>265.1</td>\n",
              "      <td>110</td>\n",
              "      <td>45.07</td>\n",
              "      <td>197.400</td>\n",
              "      <td>99</td>\n",
              "      <td>16.78</td>\n",
              "      <td>244.7</td>\n",
              "      <td>91</td>\n",
              "      <td>11.01</td>\n",
              "      <td>10.0</td>\n",
              "      <td>3</td>\n",
              "      <td>2.70</td>\n",
              "      <td>1</td>\n",
              "      <td>0</td>\n",
              "    </tr>\n",
              "    <tr>\n",
              "      <th>1</th>\n",
              "      <td>OH</td>\n",
              "      <td>107</td>\n",
              "      <td>415</td>\n",
              "      <td>371-7191</td>\n",
              "      <td>no</td>\n",
              "      <td>yes</td>\n",
              "      <td>26</td>\n",
              "      <td>161.6</td>\n",
              "      <td>123</td>\n",
              "      <td>27.47</td>\n",
              "      <td>195.500</td>\n",
              "      <td>103</td>\n",
              "      <td>16.62</td>\n",
              "      <td>254.4</td>\n",
              "      <td>103</td>\n",
              "      <td>11.45</td>\n",
              "      <td>13.7</td>\n",
              "      <td>3</td>\n",
              "      <td>3.70</td>\n",
              "      <td>1</td>\n",
              "      <td>0</td>\n",
              "    </tr>\n",
              "    <tr>\n",
              "      <th>2</th>\n",
              "      <td>NJ</td>\n",
              "      <td>137</td>\n",
              "      <td>415</td>\n",
              "      <td>358-1921</td>\n",
              "      <td>no</td>\n",
              "      <td>no</td>\n",
              "      <td>0</td>\n",
              "      <td>243.4</td>\n",
              "      <td>114</td>\n",
              "      <td>41.38</td>\n",
              "      <td>121.200</td>\n",
              "      <td>110</td>\n",
              "      <td>10.30</td>\n",
              "      <td>162.6</td>\n",
              "      <td>104</td>\n",
              "      <td>7.32</td>\n",
              "      <td>12.2</td>\n",
              "      <td>5</td>\n",
              "      <td>3.29</td>\n",
              "      <td>0</td>\n",
              "      <td>0</td>\n",
              "    </tr>\n",
              "    <tr>\n",
              "      <th>3</th>\n",
              "      <td>OH</td>\n",
              "      <td>84</td>\n",
              "      <td>408</td>\n",
              "      <td>375-9999</td>\n",
              "      <td>yes</td>\n",
              "      <td>no</td>\n",
              "      <td>0</td>\n",
              "      <td>299.4</td>\n",
              "      <td>71</td>\n",
              "      <td>50.90</td>\n",
              "      <td>79.524</td>\n",
              "      <td>88</td>\n",
              "      <td>6.70</td>\n",
              "      <td>196.9</td>\n",
              "      <td>89</td>\n",
              "      <td>8.86</td>\n",
              "      <td>6.6</td>\n",
              "      <td>7</td>\n",
              "      <td>1.78</td>\n",
              "      <td>2</td>\n",
              "      <td>0</td>\n",
              "    </tr>\n",
              "    <tr>\n",
              "      <th>4</th>\n",
              "      <td>OK</td>\n",
              "      <td>75</td>\n",
              "      <td>415</td>\n",
              "      <td>330-6626</td>\n",
              "      <td>yes</td>\n",
              "      <td>no</td>\n",
              "      <td>0</td>\n",
              "      <td>166.7</td>\n",
              "      <td>113</td>\n",
              "      <td>28.34</td>\n",
              "      <td>148.300</td>\n",
              "      <td>122</td>\n",
              "      <td>12.61</td>\n",
              "      <td>186.9</td>\n",
              "      <td>121</td>\n",
              "      <td>8.41</td>\n",
              "      <td>10.1</td>\n",
              "      <td>3</td>\n",
              "      <td>2.73</td>\n",
              "      <td>3</td>\n",
              "      <td>0</td>\n",
              "    </tr>\n",
              "  </tbody>\n",
              "</table>\n",
              "</div>"
            ],
            "text/plain": [
              "  state  account length  ... customer service calls churn\n",
              "0    KS             128  ...                      1     0\n",
              "1    OH             107  ...                      1     0\n",
              "2    NJ             137  ...                      0     0\n",
              "3    OH              84  ...                      2     0\n",
              "4    OK              75  ...                      3     0\n",
              "\n",
              "[5 rows x 21 columns]"
            ]
          },
          "metadata": {
            "tags": []
          },
          "execution_count": 512
        }
      ]
    },
    {
      "cell_type": "markdown",
      "metadata": {
        "colab_type": "text",
        "id": "Pf9ctoCQNFgP"
      },
      "source": [
        "## Model Building:\n",
        "\n",
        "At this point of time I have used three differnt algorithms to perform classification analysis on this data to predict the churn.\n",
        "From the family of regression algorithms I have used logistic regression, KNearestNeighbors algorithm to know how NearestNeighbours would work on this data and Random Forest from Regression trees family. Also performed PCA for the dimensionalty reduction creating two new pca components. Created clusters on the columns like state, area code, phone number as these are unique identification codes and can't be used to feed algorithm. Creating clusters have hleped me detect similarities between these 3 columns and helped me feed it to the model."
      ]
    },
    {
      "cell_type": "markdown",
      "metadata": {
        "colab_type": "text",
        "id": "RhXHvmdLfIcz"
      },
      "source": [
        "Creating two dataframes, X with predictor variables and Y with target varibale Churn."
      ]
    },
    {
      "cell_type": "code",
      "metadata": {
        "colab_type": "code",
        "id": "_-TMccBKfZDZ",
        "colab": {}
      },
      "source": [
        "features = df[['account length','international plan','voice mail plan','number vmail messages','total day calls','total day charge','total eve calls','total eve charge',\n",
        "      'total night calls','total night charge','total intl calls','total intl charge','customer service calls']]"
      ],
      "execution_count": null,
      "outputs": []
    },
    {
      "cell_type": "code",
      "metadata": {
        "colab_type": "code",
        "id": "afquYjTZhCKK",
        "colab": {}
      },
      "source": [
        "target = df[['churn']]"
      ],
      "execution_count": null,
      "outputs": []
    },
    {
      "cell_type": "code",
      "metadata": {
        "colab_type": "code",
        "id": "vI00bIbbOdzB",
        "colab": {
          "base_uri": "https://localhost:8080/",
          "height": 204
        },
        "outputId": "d3bf726a-a458-4e45-8055-df4ecdf4bb60"
      },
      "source": [
        "target.head()"
      ],
      "execution_count": null,
      "outputs": [
        {
          "output_type": "execute_result",
          "data": {
            "text/html": [
              "<div>\n",
              "<style scoped>\n",
              "    .dataframe tbody tr th:only-of-type {\n",
              "        vertical-align: middle;\n",
              "    }\n",
              "\n",
              "    .dataframe tbody tr th {\n",
              "        vertical-align: top;\n",
              "    }\n",
              "\n",
              "    .dataframe thead th {\n",
              "        text-align: right;\n",
              "    }\n",
              "</style>\n",
              "<table border=\"1\" class=\"dataframe\">\n",
              "  <thead>\n",
              "    <tr style=\"text-align: right;\">\n",
              "      <th></th>\n",
              "      <th>churn</th>\n",
              "    </tr>\n",
              "  </thead>\n",
              "  <tbody>\n",
              "    <tr>\n",
              "      <th>0</th>\n",
              "      <td>0</td>\n",
              "    </tr>\n",
              "    <tr>\n",
              "      <th>1</th>\n",
              "      <td>0</td>\n",
              "    </tr>\n",
              "    <tr>\n",
              "      <th>2</th>\n",
              "      <td>0</td>\n",
              "    </tr>\n",
              "    <tr>\n",
              "      <th>3</th>\n",
              "      <td>0</td>\n",
              "    </tr>\n",
              "    <tr>\n",
              "      <th>4</th>\n",
              "      <td>0</td>\n",
              "    </tr>\n",
              "  </tbody>\n",
              "</table>\n",
              "</div>"
            ],
            "text/plain": [
              "   churn\n",
              "0      0\n",
              "1      0\n",
              "2      0\n",
              "3      0\n",
              "4      0"
            ]
          },
          "metadata": {
            "tags": []
          },
          "execution_count": 515
        }
      ]
    },
    {
      "cell_type": "markdown",
      "metadata": {
        "colab_type": "text",
        "id": "G_C9_2-tNV6A"
      },
      "source": [
        "Using pd.get_dummies to covert the categorical(yes/no) columns international plan and voicemail plan to numerical(0/1). It's observed that people with international plan and voicemail plan are more likely to churn."
      ]
    },
    {
      "cell_type": "code",
      "metadata": {
        "colab_type": "code",
        "id": "5HZVn8bg-RDK",
        "colab": {}
      },
      "source": [
        "features = pd.get_dummies(features,columns=['international plan','voice mail plan'],drop_first=True) ## creating dummy variables for categorical "
      ],
      "execution_count": null,
      "outputs": []
    },
    {
      "cell_type": "code",
      "metadata": {
        "colab_type": "code",
        "id": "7ah48PMk-gWn",
        "colab": {
          "base_uri": "https://localhost:8080/",
          "height": 238
        },
        "outputId": "5a62458f-131c-4585-ad2c-32b8cdff1ffe"
      },
      "source": [
        "features.head()"
      ],
      "execution_count": null,
      "outputs": [
        {
          "output_type": "execute_result",
          "data": {
            "text/html": [
              "<div>\n",
              "<style scoped>\n",
              "    .dataframe tbody tr th:only-of-type {\n",
              "        vertical-align: middle;\n",
              "    }\n",
              "\n",
              "    .dataframe tbody tr th {\n",
              "        vertical-align: top;\n",
              "    }\n",
              "\n",
              "    .dataframe thead th {\n",
              "        text-align: right;\n",
              "    }\n",
              "</style>\n",
              "<table border=\"1\" class=\"dataframe\">\n",
              "  <thead>\n",
              "    <tr style=\"text-align: right;\">\n",
              "      <th></th>\n",
              "      <th>account length</th>\n",
              "      <th>number vmail messages</th>\n",
              "      <th>total day calls</th>\n",
              "      <th>total day charge</th>\n",
              "      <th>total eve calls</th>\n",
              "      <th>total eve charge</th>\n",
              "      <th>total night calls</th>\n",
              "      <th>total night charge</th>\n",
              "      <th>total intl calls</th>\n",
              "      <th>total intl charge</th>\n",
              "      <th>customer service calls</th>\n",
              "      <th>international plan_yes</th>\n",
              "      <th>voice mail plan_yes</th>\n",
              "    </tr>\n",
              "  </thead>\n",
              "  <tbody>\n",
              "    <tr>\n",
              "      <th>0</th>\n",
              "      <td>128</td>\n",
              "      <td>25</td>\n",
              "      <td>110</td>\n",
              "      <td>45.07</td>\n",
              "      <td>99</td>\n",
              "      <td>16.78</td>\n",
              "      <td>91</td>\n",
              "      <td>11.01</td>\n",
              "      <td>3</td>\n",
              "      <td>2.70</td>\n",
              "      <td>1</td>\n",
              "      <td>0</td>\n",
              "      <td>1</td>\n",
              "    </tr>\n",
              "    <tr>\n",
              "      <th>1</th>\n",
              "      <td>107</td>\n",
              "      <td>26</td>\n",
              "      <td>123</td>\n",
              "      <td>27.47</td>\n",
              "      <td>103</td>\n",
              "      <td>16.62</td>\n",
              "      <td>103</td>\n",
              "      <td>11.45</td>\n",
              "      <td>3</td>\n",
              "      <td>3.70</td>\n",
              "      <td>1</td>\n",
              "      <td>0</td>\n",
              "      <td>1</td>\n",
              "    </tr>\n",
              "    <tr>\n",
              "      <th>2</th>\n",
              "      <td>137</td>\n",
              "      <td>0</td>\n",
              "      <td>114</td>\n",
              "      <td>41.38</td>\n",
              "      <td>110</td>\n",
              "      <td>10.30</td>\n",
              "      <td>104</td>\n",
              "      <td>7.32</td>\n",
              "      <td>5</td>\n",
              "      <td>3.29</td>\n",
              "      <td>0</td>\n",
              "      <td>0</td>\n",
              "      <td>0</td>\n",
              "    </tr>\n",
              "    <tr>\n",
              "      <th>3</th>\n",
              "      <td>84</td>\n",
              "      <td>0</td>\n",
              "      <td>71</td>\n",
              "      <td>50.90</td>\n",
              "      <td>88</td>\n",
              "      <td>6.70</td>\n",
              "      <td>89</td>\n",
              "      <td>8.86</td>\n",
              "      <td>7</td>\n",
              "      <td>1.78</td>\n",
              "      <td>2</td>\n",
              "      <td>1</td>\n",
              "      <td>0</td>\n",
              "    </tr>\n",
              "    <tr>\n",
              "      <th>4</th>\n",
              "      <td>75</td>\n",
              "      <td>0</td>\n",
              "      <td>113</td>\n",
              "      <td>28.34</td>\n",
              "      <td>122</td>\n",
              "      <td>12.61</td>\n",
              "      <td>121</td>\n",
              "      <td>8.41</td>\n",
              "      <td>3</td>\n",
              "      <td>2.73</td>\n",
              "      <td>3</td>\n",
              "      <td>1</td>\n",
              "      <td>0</td>\n",
              "    </tr>\n",
              "  </tbody>\n",
              "</table>\n",
              "</div>"
            ],
            "text/plain": [
              "   account length  ...  voice mail plan_yes\n",
              "0             128  ...                    1\n",
              "1             107  ...                    1\n",
              "2             137  ...                    0\n",
              "3              84  ...                    0\n",
              "4              75  ...                    0\n",
              "\n",
              "[5 rows x 13 columns]"
            ]
          },
          "metadata": {
            "tags": []
          },
          "execution_count": 517
        }
      ]
    },
    {
      "cell_type": "markdown",
      "metadata": {
        "colab_type": "text",
        "id": "0KUWibrsisjv"
      },
      "source": [
        "Feature Scaling of training data using Min-Max sacling to normalize data i.e, to set all fetaures to one range of scale.\n",
        "\n",
        "                     Xsc = [X-Xmin]/[Xmax-Xmin]\n",
        "                  -data is sclaed to a range of [0-1]\n",
        "                  -the cost of having this range, in contrast to standard deviation is we will end up having smaller standard deviation.\n",
        "\n",
        "\n",
        "\n",
        "\n",
        "\n",
        "\n",
        "\n"
      ]
    },
    {
      "cell_type": "code",
      "metadata": {
        "colab_type": "code",
        "id": "4NrGin_Hiq9y",
        "colab": {}
      },
      "source": [
        "from sklearn.preprocessing import MinMaxScaler"
      ],
      "execution_count": null,
      "outputs": []
    },
    {
      "cell_type": "code",
      "metadata": {
        "colab_type": "code",
        "id": "558Td7_zjsN8",
        "colab": {}
      },
      "source": [
        "scaler=MinMaxScaler()\n",
        "features = pd.DataFrame(scaler.fit_transform(features),columns=features.columns)"
      ],
      "execution_count": null,
      "outputs": []
    },
    {
      "cell_type": "code",
      "metadata": {
        "colab_type": "code",
        "id": "Kj23eqHAlJ-n",
        "colab": {
          "base_uri": "https://localhost:8080/",
          "height": 238
        },
        "outputId": "0c1028b4-2e84-4de2-96ea-9c5ec35a87ec"
      },
      "source": [
        "features.head()"
      ],
      "execution_count": null,
      "outputs": [
        {
          "output_type": "execute_result",
          "data": {
            "text/html": [
              "<div>\n",
              "<style scoped>\n",
              "    .dataframe tbody tr th:only-of-type {\n",
              "        vertical-align: middle;\n",
              "    }\n",
              "\n",
              "    .dataframe tbody tr th {\n",
              "        vertical-align: top;\n",
              "    }\n",
              "\n",
              "    .dataframe thead th {\n",
              "        text-align: right;\n",
              "    }\n",
              "</style>\n",
              "<table border=\"1\" class=\"dataframe\">\n",
              "  <thead>\n",
              "    <tr style=\"text-align: right;\">\n",
              "      <th></th>\n",
              "      <th>account length</th>\n",
              "      <th>number vmail messages</th>\n",
              "      <th>total day calls</th>\n",
              "      <th>total day charge</th>\n",
              "      <th>total eve calls</th>\n",
              "      <th>total eve charge</th>\n",
              "      <th>total night calls</th>\n",
              "      <th>total night charge</th>\n",
              "      <th>total intl calls</th>\n",
              "      <th>total intl charge</th>\n",
              "      <th>customer service calls</th>\n",
              "      <th>international plan_yes</th>\n",
              "      <th>voice mail plan_yes</th>\n",
              "    </tr>\n",
              "  </thead>\n",
              "  <tbody>\n",
              "    <tr>\n",
              "      <th>0</th>\n",
              "      <td>0.638191</td>\n",
              "      <td>0.490196</td>\n",
              "      <td>0.666667</td>\n",
              "      <td>0.842081</td>\n",
              "      <td>0.582353</td>\n",
              "      <td>0.493803</td>\n",
              "      <td>0.408451</td>\n",
              "      <td>0.694678</td>\n",
              "      <td>0.15</td>\n",
              "      <td>0.501385</td>\n",
              "      <td>0.111111</td>\n",
              "      <td>0.0</td>\n",
              "      <td>1.0</td>\n",
              "    </tr>\n",
              "    <tr>\n",
              "      <th>1</th>\n",
              "      <td>0.532663</td>\n",
              "      <td>0.509804</td>\n",
              "      <td>0.745455</td>\n",
              "      <td>0.433349</td>\n",
              "      <td>0.605882</td>\n",
              "      <td>0.485965</td>\n",
              "      <td>0.492958</td>\n",
              "      <td>0.735761</td>\n",
              "      <td>0.15</td>\n",
              "      <td>0.778393</td>\n",
              "      <td>0.111111</td>\n",
              "      <td>0.0</td>\n",
              "      <td>1.0</td>\n",
              "    </tr>\n",
              "    <tr>\n",
              "      <th>2</th>\n",
              "      <td>0.683417</td>\n",
              "      <td>0.000000</td>\n",
              "      <td>0.690909</td>\n",
              "      <td>0.756386</td>\n",
              "      <td>0.647059</td>\n",
              "      <td>0.176358</td>\n",
              "      <td>0.500000</td>\n",
              "      <td>0.350140</td>\n",
              "      <td>0.25</td>\n",
              "      <td>0.664820</td>\n",
              "      <td>0.000000</td>\n",
              "      <td>0.0</td>\n",
              "      <td>0.0</td>\n",
              "    </tr>\n",
              "    <tr>\n",
              "      <th>3</th>\n",
              "      <td>0.417085</td>\n",
              "      <td>0.000000</td>\n",
              "      <td>0.430303</td>\n",
              "      <td>0.977473</td>\n",
              "      <td>0.517647</td>\n",
              "      <td>0.000000</td>\n",
              "      <td>0.394366</td>\n",
              "      <td>0.493931</td>\n",
              "      <td>0.35</td>\n",
              "      <td>0.246537</td>\n",
              "      <td>0.222222</td>\n",
              "      <td>1.0</td>\n",
              "      <td>0.0</td>\n",
              "    </tr>\n",
              "    <tr>\n",
              "      <th>4</th>\n",
              "      <td>0.371859</td>\n",
              "      <td>0.000000</td>\n",
              "      <td>0.684848</td>\n",
              "      <td>0.453553</td>\n",
              "      <td>0.717647</td>\n",
              "      <td>0.289521</td>\n",
              "      <td>0.619718</td>\n",
              "      <td>0.451914</td>\n",
              "      <td>0.15</td>\n",
              "      <td>0.509695</td>\n",
              "      <td>0.333333</td>\n",
              "      <td>1.0</td>\n",
              "      <td>0.0</td>\n",
              "    </tr>\n",
              "  </tbody>\n",
              "</table>\n",
              "</div>"
            ],
            "text/plain": [
              "   account length  ...  voice mail plan_yes\n",
              "0        0.638191  ...                  1.0\n",
              "1        0.532663  ...                  1.0\n",
              "2        0.683417  ...                  0.0\n",
              "3        0.417085  ...                  0.0\n",
              "4        0.371859  ...                  0.0\n",
              "\n",
              "[5 rows x 13 columns]"
            ]
          },
          "metadata": {
            "tags": []
          },
          "execution_count": 520
        }
      ]
    },
    {
      "cell_type": "code",
      "metadata": {
        "colab_type": "code",
        "id": "k51gQZ7IhRBN",
        "colab": {}
      },
      "source": [
        "from sklearn.model_selection import train_test_split"
      ],
      "execution_count": null,
      "outputs": []
    },
    {
      "cell_type": "code",
      "metadata": {
        "colab_type": "code",
        "id": "Fv0g94yxhjLL",
        "colab": {}
      },
      "source": [
        "## Splitting X and Y dataframes into train, test sets using train_test_split\n",
        "features_train, features_test, target_train, target_test = train_test_split(features, target, test_size=0.30, random_state=42)"
      ],
      "execution_count": null,
      "outputs": []
    },
    {
      "cell_type": "markdown",
      "metadata": {
        "colab_type": "text",
        "id": "Ovob1Edfmdo-"
      },
      "source": [
        "## LogisticRegression Model:\n"
      ]
    },
    {
      "cell_type": "code",
      "metadata": {
        "colab_type": "code",
        "id": "MqCg4G-YiK5y",
        "colab": {}
      },
      "source": [
        "from sklearn.linear_model import LogisticRegression"
      ],
      "execution_count": null,
      "outputs": []
    },
    {
      "cell_type": "code",
      "metadata": {
        "colab_type": "code",
        "id": "CopnCsNnljKQ",
        "colab": {
          "base_uri": "https://localhost:8080/",
          "height": 85
        },
        "outputId": "00e25a59-fa1f-4c6e-8412-7a10e6cbbf94"
      },
      "source": [
        "## Fitting LogisticRegression model on features_train and target_train\n",
        "Log_clf = LogisticRegression(random_state=42,class_weight='balanced').fit(features_train, target_train)"
      ],
      "execution_count": null,
      "outputs": [
        {
          "output_type": "stream",
          "text": [
            "/usr/local/lib/python3.6/dist-packages/sklearn/utils/validation.py:760: DataConversionWarning:\n",
            "\n",
            "A column-vector y was passed when a 1d array was expected. Please change the shape of y to (n_samples, ), for example using ravel().\n",
            "\n"
          ],
          "name": "stderr"
        }
      ]
    },
    {
      "cell_type": "markdown",
      "metadata": {
        "colab_type": "text",
        "id": "QlUk6ZSGTEzP"
      },
      "source": [
        "$p=1/1+e^{-(b0+b1x)}$"
      ]
    },
    {
      "cell_type": "code",
      "metadata": {
        "colab_type": "code",
        "id": "cw4zWedel8AN",
        "colab": {
          "base_uri": "https://localhost:8080/",
          "height": 34
        },
        "outputId": "be618255-d69d-4c4e-ea29-a8c3389b916c"
      },
      "source": [
        "Log_clf.intercept_  ## this is the expected mean value of y when x=0"
      ],
      "execution_count": null,
      "outputs": [
        {
          "output_type": "execute_result",
          "data": {
            "text/plain": [
              "array([-4.25233308])"
            ]
          },
          "metadata": {
            "tags": []
          },
          "execution_count": 525
        }
      ]
    },
    {
      "cell_type": "code",
      "metadata": {
        "colab_type": "code",
        "id": "D6L6qG__mKnp",
        "colab": {
          "base_uri": "https://localhost:8080/",
          "height": 68
        },
        "outputId": "ba2cd253-604f-4458-a36e-f801fbfdfb4b"
      },
      "source": [
        "Log_clf.coef_ ## coefficient of each coulmn variable x1,x2,... here we have 16 columns"
      ],
      "execution_count": null,
      "outputs": [
        {
          "output_type": "execute_result",
          "data": {
            "text/plain": [
              "array([[ 0.233547  ,  0.73385057,  0.01755383,  2.77104091,  0.15098638,\n",
              "         1.35901742,  0.02277235,  0.70546853, -1.10227409,  1.0630189 ,\n",
              "         4.48324286,  2.29471579, -1.22710992]])"
            ]
          },
          "metadata": {
            "tags": []
          },
          "execution_count": 526
        }
      ]
    },
    {
      "cell_type": "code",
      "metadata": {
        "colab_type": "code",
        "id": "JiRXzVxbmRfJ",
        "colab": {}
      },
      "source": [
        "## prediction on Train data\n",
        "Log_Train_Pred = Log_clf.predict(features_train)"
      ],
      "execution_count": null,
      "outputs": []
    },
    {
      "cell_type": "code",
      "metadata": {
        "colab_type": "code",
        "id": "dm34wSvhynWh",
        "colab": {}
      },
      "source": [
        "from sklearn.metrics import classification_report,confusion_matrix,accuracy_score"
      ],
      "execution_count": null,
      "outputs": []
    },
    {
      "cell_type": "code",
      "metadata": {
        "colab_type": "code",
        "id": "iUemQHx8yqnn",
        "colab": {
          "base_uri": "https://localhost:8080/",
          "height": 170
        },
        "outputId": "e35ac845-f6a8-49ff-f314-54db3eb17648"
      },
      "source": [
        "print(classification_report(target_train,Log_Train_Pred))"
      ],
      "execution_count": null,
      "outputs": [
        {
          "output_type": "stream",
          "text": [
            "              precision    recall  f1-score   support\n",
            "\n",
            "           0       0.94      0.78      0.85      1993\n",
            "           1       0.36      0.73      0.48       340\n",
            "\n",
            "    accuracy                           0.77      2333\n",
            "   macro avg       0.65      0.75      0.67      2333\n",
            "weighted avg       0.86      0.77      0.80      2333\n",
            "\n"
          ],
          "name": "stdout"
        }
      ]
    },
    {
      "cell_type": "markdown",
      "metadata": {
        "colab_type": "text",
        "id": "RiX3RBIvepcn"
      },
      "source": [
        "Using logisitc regression algorithm prediction on training data is observed to be 77%."
      ]
    },
    {
      "cell_type": "code",
      "metadata": {
        "colab_type": "code",
        "id": "bzE9i7IyyzRv",
        "colab": {}
      },
      "source": [
        "## prediction on Test data\n",
        "Log_Test_Pred = Log_clf.predict(features_test)"
      ],
      "execution_count": null,
      "outputs": []
    },
    {
      "cell_type": "code",
      "metadata": {
        "colab_type": "code",
        "id": "XsV8b0DxzP8i",
        "colab": {
          "base_uri": "https://localhost:8080/",
          "height": 170
        },
        "outputId": "6c40e40f-1ae4-4870-c91b-d60ad1b22231"
      },
      "source": [
        "print(classification_report(target_test,Log_Test_Pred))"
      ],
      "execution_count": null,
      "outputs": [
        {
          "output_type": "stream",
          "text": [
            "              precision    recall  f1-score   support\n",
            "\n",
            "           0       0.96      0.78      0.86       857\n",
            "           1       0.38      0.80      0.51       143\n",
            "\n",
            "    accuracy                           0.78      1000\n",
            "   macro avg       0.67      0.79      0.69      1000\n",
            "weighted avg       0.88      0.78      0.81      1000\n",
            "\n"
          ],
          "name": "stdout"
        }
      ]
    },
    {
      "cell_type": "markdown",
      "metadata": {
        "colab_type": "text",
        "id": "HYoqJ0Z3fFdc"
      },
      "source": [
        "Actually the logistic regression model performed better on tetsing data giving an accuracy of 78%."
      ]
    },
    {
      "cell_type": "markdown",
      "metadata": {
        "colab_type": "text",
        "id": "EOPNZwBn3FWB"
      },
      "source": [
        "# NearestNeighbors:\n",
        "\n",
        "Applying KNearestNeighbors classifer "
      ]
    },
    {
      "cell_type": "code",
      "metadata": {
        "colab_type": "code",
        "id": "Xx-ADY1v3RoF",
        "colab": {}
      },
      "source": [
        "from sklearn.neighbors import KNeighborsClassifier"
      ],
      "execution_count": null,
      "outputs": []
    },
    {
      "cell_type": "code",
      "metadata": {
        "colab_type": "code",
        "id": "UixzVJ8atVIl",
        "colab": {}
      },
      "source": [
        "knn = KNeighborsClassifier()"
      ],
      "execution_count": null,
      "outputs": []
    },
    {
      "cell_type": "markdown",
      "metadata": {
        "colab_type": "text",
        "id": "XeJdVSL0jGHG"
      },
      "source": [
        "Below loop runs KNN classifier by changing n_neighbors ranging from 1 to 10, to know the optimum value of K where the accuracy of the KNN model is highest."
      ]
    },
    {
      "cell_type": "code",
      "metadata": {
        "colab_type": "code",
        "id": "LzMPHGei3GGd",
        "colab": {
          "base_uri": "https://localhost:8080/",
          "height": 629
        },
        "outputId": "0e2fe80b-858b-4fe9-bf29-f6d5cb57fc81"
      },
      "source": [
        "## Calculate optimum value of K \n",
        "Error=[]\n",
        "for i in range(1,10):\n",
        "    knn = KNeighborsClassifier(n_neighbors=i)\n",
        "    knn.fit(features_train,target_train)\n",
        "    pred_i=knn.predict(features_test)\n",
        "    Error.append(accuracy_score(pred_i,target_test))\n",
        "   "
      ],
      "execution_count": null,
      "outputs": [
        {
          "output_type": "stream",
          "text": [
            "/usr/local/lib/python3.6/dist-packages/ipykernel_launcher.py:4: DataConversionWarning:\n",
            "\n",
            "A column-vector y was passed when a 1d array was expected. Please change the shape of y to (n_samples, ), for example using ravel().\n",
            "\n",
            "/usr/local/lib/python3.6/dist-packages/ipykernel_launcher.py:4: DataConversionWarning:\n",
            "\n",
            "A column-vector y was passed when a 1d array was expected. Please change the shape of y to (n_samples, ), for example using ravel().\n",
            "\n",
            "/usr/local/lib/python3.6/dist-packages/ipykernel_launcher.py:4: DataConversionWarning:\n",
            "\n",
            "A column-vector y was passed when a 1d array was expected. Please change the shape of y to (n_samples, ), for example using ravel().\n",
            "\n",
            "/usr/local/lib/python3.6/dist-packages/ipykernel_launcher.py:4: DataConversionWarning:\n",
            "\n",
            "A column-vector y was passed when a 1d array was expected. Please change the shape of y to (n_samples, ), for example using ravel().\n",
            "\n",
            "/usr/local/lib/python3.6/dist-packages/ipykernel_launcher.py:4: DataConversionWarning:\n",
            "\n",
            "A column-vector y was passed when a 1d array was expected. Please change the shape of y to (n_samples, ), for example using ravel().\n",
            "\n",
            "/usr/local/lib/python3.6/dist-packages/ipykernel_launcher.py:4: DataConversionWarning:\n",
            "\n",
            "A column-vector y was passed when a 1d array was expected. Please change the shape of y to (n_samples, ), for example using ravel().\n",
            "\n",
            "/usr/local/lib/python3.6/dist-packages/ipykernel_launcher.py:4: DataConversionWarning:\n",
            "\n",
            "A column-vector y was passed when a 1d array was expected. Please change the shape of y to (n_samples, ), for example using ravel().\n",
            "\n",
            "/usr/local/lib/python3.6/dist-packages/ipykernel_launcher.py:4: DataConversionWarning:\n",
            "\n",
            "A column-vector y was passed when a 1d array was expected. Please change the shape of y to (n_samples, ), for example using ravel().\n",
            "\n",
            "/usr/local/lib/python3.6/dist-packages/ipykernel_launcher.py:4: DataConversionWarning:\n",
            "\n",
            "A column-vector y was passed when a 1d array was expected. Please change the shape of y to (n_samples, ), for example using ravel().\n",
            "\n"
          ],
          "name": "stderr"
        }
      ]
    },
    {
      "cell_type": "code",
      "metadata": {
        "colab_type": "code",
        "id": "H-9sFhv06oFR",
        "colab": {
          "base_uri": "https://localhost:8080/",
          "height": 350
        },
        "outputId": "6adeb4cd-9167-4ea7-a753-8efdf6c68510"
      },
      "source": [
        "plt.figure(figsize=(10,5))\n",
        "plt.plot(range(1,10),Error,markersize = 10)\n",
        "plt.title(\"ERROR  VS K \")\n",
        "plt.ylabel('error')\n",
        "plt.xlabel('K')\n",
        "plt.show()"
      ],
      "execution_count": null,
      "outputs": [
        {
          "output_type": "display_data",
          "data": {
            "image/png": "[encoded data removed]",
            "text/plain": [
              "<Figure size 720x360 with 1 Axes>"
            ]
          },
          "metadata": {
            "tags": [],
            "needs_background": "light"
          }
        }
      ]
    },
    {
      "cell_type": "markdown",
      "metadata": {
        "colab_type": "text",
        "id": "aJvEriAO8gNP"
      },
      "source": [
        "Plot shows optimum value of K is 1."
      ]
    },
    {
      "cell_type": "code",
      "metadata": {
        "colab_type": "code",
        "id": "gT193Mq16yq9",
        "colab": {}
      },
      "source": [
        "knn = KNeighborsClassifier(n_neighbors=1)"
      ],
      "execution_count": null,
      "outputs": []
    },
    {
      "cell_type": "code",
      "metadata": {
        "colab_type": "code",
        "id": "6Eq-zmoL7nzh",
        "colab": {
          "base_uri": "https://localhost:8080/",
          "height": 136
        },
        "outputId": "ff684111-9357-4740-e3a5-c48fe0664dd2"
      },
      "source": [
        "knn.fit(features_train,target_train)"
      ],
      "execution_count": null,
      "outputs": [
        {
          "output_type": "stream",
          "text": [
            "/usr/local/lib/python3.6/dist-packages/ipykernel_launcher.py:1: DataConversionWarning:\n",
            "\n",
            "A column-vector y was passed when a 1d array was expected. Please change the shape of y to (n_samples, ), for example using ravel().\n",
            "\n"
          ],
          "name": "stderr"
        },
        {
          "output_type": "execute_result",
          "data": {
            "text/plain": [
              "KNeighborsClassifier(algorithm='auto', leaf_size=30, metric='minkowski',\n",
              "                     metric_params=None, n_jobs=None, n_neighbors=1, p=2,\n",
              "                     weights='uniform')"
            ]
          },
          "metadata": {
            "tags": []
          },
          "execution_count": 537
        }
      ]
    },
    {
      "cell_type": "code",
      "metadata": {
        "colab_type": "code",
        "id": "ljfuVly-7pzG",
        "colab": {}
      },
      "source": [
        "knn_Train_pred=knn.predict(features_train)"
      ],
      "execution_count": null,
      "outputs": []
    },
    {
      "cell_type": "code",
      "metadata": {
        "colab_type": "code",
        "id": "VIeok9KJ8Fvr",
        "colab": {
          "base_uri": "https://localhost:8080/",
          "height": 170
        },
        "outputId": "2718b907-f347-4933-c76f-2758bcac064a"
      },
      "source": [
        "print(classification_report(target_train,knn_Train_pred))"
      ],
      "execution_count": null,
      "outputs": [
        {
          "output_type": "stream",
          "text": [
            "              precision    recall  f1-score   support\n",
            "\n",
            "           0       1.00      1.00      1.00      1993\n",
            "           1       1.00      1.00      1.00       340\n",
            "\n",
            "    accuracy                           1.00      2333\n",
            "   macro avg       1.00      1.00      1.00      2333\n",
            "weighted avg       1.00      1.00      1.00      2333\n",
            "\n"
          ],
          "name": "stdout"
        }
      ]
    },
    {
      "cell_type": "code",
      "metadata": {
        "colab_type": "code",
        "id": "ZGFmDdHP8OB5",
        "colab": {}
      },
      "source": [
        "knn_Test_pred=knn.predict(features_test)"
      ],
      "execution_count": null,
      "outputs": []
    },
    {
      "cell_type": "code",
      "metadata": {
        "colab_type": "code",
        "id": "1IsWTwya8ZiR",
        "colab": {
          "base_uri": "https://localhost:8080/",
          "height": 170
        },
        "outputId": "594e7ca3-143b-419c-8999-d39e0b9720aa"
      },
      "source": [
        "print(classification_report(target_test,knn_Test_pred))"
      ],
      "execution_count": null,
      "outputs": [
        {
          "output_type": "stream",
          "text": [
            "              precision    recall  f1-score   support\n",
            "\n",
            "           0       0.91      0.93      0.92       857\n",
            "           1       0.51      0.47      0.49       143\n",
            "\n",
            "    accuracy                           0.86      1000\n",
            "   macro avg       0.71      0.70      0.70      1000\n",
            "weighted avg       0.86      0.86      0.86      1000\n",
            "\n"
          ],
          "name": "stdout"
        }
      ]
    },
    {
      "cell_type": "markdown",
      "metadata": {
        "colab_type": "text",
        "id": "qzlS8W3wj0Ml"
      },
      "source": [
        "OverFitting, KNN classifer gives 100% accuarcy when applied on training data and drop in accuracy about 14% is observed when applied on testing data. The problem of overfititng of data is observed in this scenario. \n",
        "\n",
        "Overfitting is not the only problem over here. Class imbalance, hyper parameters tuning are also affecting the performance of model when applied testing data.\n",
        "\n",
        "We can observe there are only 483 rows with churn variable as True where as we have 2850 rows with churn as False. This huge difference makes model poor while predicting new variables with True churn though it's predicting 100% for True churn on training data. Hyper parameter tuning would effect predicitons on training data whcih results in predictions on training data closer to that of testing data."
      ]
    },
    {
      "cell_type": "markdown",
      "metadata": {
        "colab_type": "text",
        "id": "uARaoW0_j4tj"
      },
      "source": [
        "## RandomForest\n",
        "\n",
        "Using class_weight and few other parameters considering the performance of KNN model."
      ]
    },
    {
      "cell_type": "code",
      "metadata": {
        "colab_type": "code",
        "id": "9LmoyG8U8vCA",
        "colab": {}
      },
      "source": [
        "from sklearn.ensemble import RandomForestClassifier"
      ],
      "execution_count": null,
      "outputs": []
    },
    {
      "cell_type": "code",
      "metadata": {
        "colab_type": "code",
        "id": "-Qb4xxEQj7RA",
        "colab": {}
      },
      "source": [
        "RFclf = RandomForestClassifier(n_estimators=300,max_depth=7,min_samples_leaf=5,class_weight='balanced',random_state=42)"
      ],
      "execution_count": null,
      "outputs": []
    },
    {
      "cell_type": "code",
      "metadata": {
        "colab_type": "code",
        "id": "smkS-j-WkA7Z",
        "colab": {
          "base_uri": "https://localhost:8080/",
          "height": 221
        },
        "outputId": "eb8263d4-35c1-4e9b-e4e5-65ce690f3e12"
      },
      "source": [
        "RFclf.fit(features_train,target_train)"
      ],
      "execution_count": null,
      "outputs": [
        {
          "output_type": "stream",
          "text": [
            "/usr/local/lib/python3.6/dist-packages/ipykernel_launcher.py:1: DataConversionWarning:\n",
            "\n",
            "A column-vector y was passed when a 1d array was expected. Please change the shape of y to (n_samples,), for example using ravel().\n",
            "\n"
          ],
          "name": "stderr"
        },
        {
          "output_type": "execute_result",
          "data": {
            "text/plain": [
              "RandomForestClassifier(bootstrap=True, ccp_alpha=0.0, class_weight='balanced',\n",
              "                       criterion='gini', max_depth=7, max_features='auto',\n",
              "                       max_leaf_nodes=None, max_samples=None,\n",
              "                       min_impurity_decrease=0.0, min_impurity_split=None,\n",
              "                       min_samples_leaf=5, min_samples_split=2,\n",
              "                       min_weight_fraction_leaf=0.0, n_estimators=300,\n",
              "                       n_jobs=None, oob_score=False, random_state=42, verbose=0,\n",
              "                       warm_start=False)"
            ]
          },
          "metadata": {
            "tags": []
          },
          "execution_count": 544
        }
      ]
    },
    {
      "cell_type": "code",
      "metadata": {
        "colab_type": "code",
        "id": "8HDr-G3HkHX7",
        "colab": {}
      },
      "source": [
        "RFclf_Train_pred=RFclf.predict(features_train)"
      ],
      "execution_count": null,
      "outputs": []
    },
    {
      "cell_type": "code",
      "metadata": {
        "colab_type": "code",
        "id": "7UkBqVqCkleO",
        "colab": {
          "base_uri": "https://localhost:8080/",
          "height": 170
        },
        "outputId": "b2ce4664-92cc-4b5c-b2b0-b6b2a9577960"
      },
      "source": [
        "print(classification_report(target_train,RFclf_Train_pred))"
      ],
      "execution_count": null,
      "outputs": [
        {
          "output_type": "stream",
          "text": [
            "              precision    recall  f1-score   support\n",
            "\n",
            "           0       0.97      0.97      0.97      1993\n",
            "           1       0.82      0.85      0.84       340\n",
            "\n",
            "    accuracy                           0.95      2333\n",
            "   macro avg       0.90      0.91      0.90      2333\n",
            "weighted avg       0.95      0.95      0.95      2333\n",
            "\n"
          ],
          "name": "stdout"
        }
      ]
    },
    {
      "cell_type": "markdown",
      "metadata": {
        "colab_type": "text",
        "id": "4K4zw751wsLr"
      },
      "source": [
        "As expected parameter tuning has worked. Random forest classifier with out parameters have resulted in 100% training accuracy. Classifier with tuned parameters have reduced performance of training data let's see whether it helps in improving acuuracy of test data."
      ]
    },
    {
      "cell_type": "code",
      "metadata": {
        "colab_type": "code",
        "id": "TU-_5DABkrLt",
        "colab": {}
      },
      "source": [
        "RFclf_Test_pred=RFclf.predict(features_test)"
      ],
      "execution_count": null,
      "outputs": []
    },
    {
      "cell_type": "code",
      "metadata": {
        "colab_type": "code",
        "id": "gQlEHbVjkxYb",
        "colab": {
          "base_uri": "https://localhost:8080/",
          "height": 170
        },
        "outputId": "3cf847e4-9c16-4fd8-aced-b2ce09164365"
      },
      "source": [
        "print(classification_report(target_test,RFclf_Test_pred))"
      ],
      "execution_count": null,
      "outputs": [
        {
          "output_type": "stream",
          "text": [
            "              precision    recall  f1-score   support\n",
            "\n",
            "           0       0.97      0.96      0.97       857\n",
            "           1       0.78      0.83      0.80       143\n",
            "\n",
            "    accuracy                           0.94      1000\n",
            "   macro avg       0.87      0.89      0.88      1000\n",
            "weighted avg       0.94      0.94      0.94      1000\n",
            "\n"
          ],
          "name": "stdout"
        }
      ]
    },
    {
      "cell_type": "markdown",
      "metadata": {
        "colab_type": "text",
        "id": "zRhgFR8-lGtV"
      },
      "source": [
        "By far RandomForest classifier on the normalized data is the best accuracy we have got. This classifier gives 95% prediction acuuracy on the training data and 94% prediction accuracy on testing data."
      ]
    },
    {
      "cell_type": "code",
      "metadata": {
        "colab_type": "code",
        "id": "8eS2104KI1KB",
        "colab": {
          "base_uri": "https://localhost:8080/",
          "height": 476
        },
        "outputId": "5fe852ab-9d0b-466b-9782-385b65fbff28"
      },
      "source": [
        "print('f1-score of LogisticRegression Model',classification_report(target_test,Log_Test_Pred))\n",
        "print('f1-score of KNN Model',classification_report(target_test,knn_Test_pred))\n",
        "print('f1-score of RandomForest Model',classification_report(target_test,RFclf_Test_pred))"
      ],
      "execution_count": null,
      "outputs": [
        {
          "output_type": "stream",
          "text": [
            "f1-score of LogisticRegression Model               precision    recall  f1-score   support\n",
            "\n",
            "           0       0.96      0.78      0.86       857\n",
            "           1       0.38      0.80      0.51       143\n",
            "\n",
            "    accuracy                           0.78      1000\n",
            "   macro avg       0.67      0.79      0.69      1000\n",
            "weighted avg       0.88      0.78      0.81      1000\n",
            "\n",
            "f1-score of KNN Model               precision    recall  f1-score   support\n",
            "\n",
            "           0       0.91      0.93      0.92       857\n",
            "           1       0.51      0.47      0.49       143\n",
            "\n",
            "    accuracy                           0.86      1000\n",
            "   macro avg       0.71      0.70      0.70      1000\n",
            "weighted avg       0.86      0.86      0.86      1000\n",
            "\n",
            "f1-score of RandomForest Model               precision    recall  f1-score   support\n",
            "\n",
            "           0       0.97      0.96      0.97       857\n",
            "           1       0.78      0.83      0.80       143\n",
            "\n",
            "    accuracy                           0.94      1000\n",
            "   macro avg       0.87      0.89      0.88      1000\n",
            "weighted avg       0.94      0.94      0.94      1000\n",
            "\n"
          ],
          "name": "stdout"
        }
      ]
    },
    {
      "cell_type": "markdown",
      "metadata": {
        "colab_type": "text",
        "id": "blqUidv5Ixlu"
      },
      "source": [
        "## Clustering:"
      ]
    },
    {
      "cell_type": "markdown",
      "metadata": {
        "colab_type": "text",
        "id": "eF5zTI_tk8cP"
      },
      "source": [
        "Finding similarities by clustering Columns like state, area code and phone number which are not used in model bulding in previous models will help and train model to learn  from those similarities. Using K_Means clustering to cluster 3 unique identification columns."
      ]
    },
    {
      "cell_type": "code",
      "metadata": {
        "colab_type": "code",
        "id": "gq_G1gZYltAt",
        "colab": {
          "base_uri": "https://localhost:8080/",
          "height": 153
        },
        "outputId": "fb2a3a8c-2187-45be-a458-b76cac7677c2"
      },
      "source": [
        "df.columns"
      ],
      "execution_count": null,
      "outputs": [
        {
          "output_type": "execute_result",
          "data": {
            "text/plain": [
              "Index(['state', 'account length', 'area code', 'phone number',\n",
              "       'international plan', 'voice mail plan', 'number vmail messages',\n",
              "       'total day minutes', 'total day calls', 'total day charge',\n",
              "       'total eve minutes', 'total eve calls', 'total eve charge',\n",
              "       'total night minutes', 'total night calls', 'total night charge',\n",
              "       'total intl minutes', 'total intl calls', 'total intl charge',\n",
              "       'customer service calls', 'churn'],\n",
              "      dtype='object')"
            ]
          },
          "metadata": {
            "tags": []
          },
          "execution_count": 550
        }
      ]
    },
    {
      "cell_type": "code",
      "metadata": {
        "colab_type": "code",
        "id": "GlHXQJ-Cllfs",
        "colab": {}
      },
      "source": [
        " df2=df[['state','area code', 'phone number']] ## creating a dataframe with those three columns."
      ],
      "execution_count": null,
      "outputs": []
    },
    {
      "cell_type": "code",
      "metadata": {
        "colab_type": "code",
        "id": "cQD5s2Ttl1Wi",
        "colab": {
          "base_uri": "https://localhost:8080/",
          "height": 204
        },
        "outputId": "a14c7ecc-1abd-41b9-944b-7fc5ff833951"
      },
      "source": [
        "df2.head()"
      ],
      "execution_count": null,
      "outputs": [
        {
          "output_type": "execute_result",
          "data": {
            "text/html": [
              "<div>\n",
              "<style scoped>\n",
              "    .dataframe tbody tr th:only-of-type {\n",
              "        vertical-align: middle;\n",
              "    }\n",
              "\n",
              "    .dataframe tbody tr th {\n",
              "        vertical-align: top;\n",
              "    }\n",
              "\n",
              "    .dataframe thead th {\n",
              "        text-align: right;\n",
              "    }\n",
              "</style>\n",
              "<table border=\"1\" class=\"dataframe\">\n",
              "  <thead>\n",
              "    <tr style=\"text-align: right;\">\n",
              "      <th></th>\n",
              "      <th>state</th>\n",
              "      <th>area code</th>\n",
              "      <th>phone number</th>\n",
              "    </tr>\n",
              "  </thead>\n",
              "  <tbody>\n",
              "    <tr>\n",
              "      <th>0</th>\n",
              "      <td>KS</td>\n",
              "      <td>415</td>\n",
              "      <td>382-4657</td>\n",
              "    </tr>\n",
              "    <tr>\n",
              "      <th>1</th>\n",
              "      <td>OH</td>\n",
              "      <td>415</td>\n",
              "      <td>371-7191</td>\n",
              "    </tr>\n",
              "    <tr>\n",
              "      <th>2</th>\n",
              "      <td>NJ</td>\n",
              "      <td>415</td>\n",
              "      <td>358-1921</td>\n",
              "    </tr>\n",
              "    <tr>\n",
              "      <th>3</th>\n",
              "      <td>OH</td>\n",
              "      <td>408</td>\n",
              "      <td>375-9999</td>\n",
              "    </tr>\n",
              "    <tr>\n",
              "      <th>4</th>\n",
              "      <td>OK</td>\n",
              "      <td>415</td>\n",
              "      <td>330-6626</td>\n",
              "    </tr>\n",
              "  </tbody>\n",
              "</table>\n",
              "</div>"
            ],
            "text/plain": [
              "  state area code phone number\n",
              "0    KS       415     382-4657\n",
              "1    OH       415     371-7191\n",
              "2    NJ       415     358-1921\n",
              "3    OH       408     375-9999\n",
              "4    OK       415     330-6626"
            ]
          },
          "metadata": {
            "tags": []
          },
          "execution_count": 552
        }
      ]
    },
    {
      "cell_type": "code",
      "metadata": {
        "colab_type": "code",
        "id": "ZGHKORHzl3Bb",
        "colab": {}
      },
      "source": [
        "df3=df2.groupby(['area code','state']).agg('count').reset_index() ## grouping by on areacode and state putting count on howmany phone numbers at that instance."
      ],
      "execution_count": null,
      "outputs": []
    },
    {
      "cell_type": "code",
      "metadata": {
        "colab_type": "code",
        "id": "3_o9Zy1dmOYI",
        "colab": {
          "base_uri": "https://localhost:8080/",
          "height": 419
        },
        "outputId": "68902dae-9180-4186-d269-fa25485a7f15"
      },
      "source": [
        "df3"
      ],
      "execution_count": null,
      "outputs": [
        {
          "output_type": "execute_result",
          "data": {
            "text/html": [
              "<div>\n",
              "<style scoped>\n",
              "    .dataframe tbody tr th:only-of-type {\n",
              "        vertical-align: middle;\n",
              "    }\n",
              "\n",
              "    .dataframe tbody tr th {\n",
              "        vertical-align: top;\n",
              "    }\n",
              "\n",
              "    .dataframe thead th {\n",
              "        text-align: right;\n",
              "    }\n",
              "</style>\n",
              "<table border=\"1\" class=\"dataframe\">\n",
              "  <thead>\n",
              "    <tr style=\"text-align: right;\">\n",
              "      <th></th>\n",
              "      <th>area code</th>\n",
              "      <th>state</th>\n",
              "      <th>phone number</th>\n",
              "    </tr>\n",
              "  </thead>\n",
              "  <tbody>\n",
              "    <tr>\n",
              "      <th>0</th>\n",
              "      <td>408</td>\n",
              "      <td>AK</td>\n",
              "      <td>14</td>\n",
              "    </tr>\n",
              "    <tr>\n",
              "      <th>1</th>\n",
              "      <td>408</td>\n",
              "      <td>AL</td>\n",
              "      <td>25</td>\n",
              "    </tr>\n",
              "    <tr>\n",
              "      <th>2</th>\n",
              "      <td>408</td>\n",
              "      <td>AR</td>\n",
              "      <td>13</td>\n",
              "    </tr>\n",
              "    <tr>\n",
              "      <th>3</th>\n",
              "      <td>408</td>\n",
              "      <td>AZ</td>\n",
              "      <td>15</td>\n",
              "    </tr>\n",
              "    <tr>\n",
              "      <th>4</th>\n",
              "      <td>408</td>\n",
              "      <td>CA</td>\n",
              "      <td>7</td>\n",
              "    </tr>\n",
              "    <tr>\n",
              "      <th>...</th>\n",
              "      <td>...</td>\n",
              "      <td>...</td>\n",
              "      <td>...</td>\n",
              "    </tr>\n",
              "    <tr>\n",
              "      <th>148</th>\n",
              "      <td>510</td>\n",
              "      <td>VT</td>\n",
              "      <td>20</td>\n",
              "    </tr>\n",
              "    <tr>\n",
              "      <th>149</th>\n",
              "      <td>510</td>\n",
              "      <td>WA</td>\n",
              "      <td>17</td>\n",
              "    </tr>\n",
              "    <tr>\n",
              "      <th>150</th>\n",
              "      <td>510</td>\n",
              "      <td>WI</td>\n",
              "      <td>21</td>\n",
              "    </tr>\n",
              "    <tr>\n",
              "      <th>151</th>\n",
              "      <td>510</td>\n",
              "      <td>WV</td>\n",
              "      <td>34</td>\n",
              "    </tr>\n",
              "    <tr>\n",
              "      <th>152</th>\n",
              "      <td>510</td>\n",
              "      <td>WY</td>\n",
              "      <td>19</td>\n",
              "    </tr>\n",
              "  </tbody>\n",
              "</table>\n",
              "<p>153 rows × 3 columns</p>\n",
              "</div>"
            ],
            "text/plain": [
              "     area code state  phone number\n",
              "0          408    AK            14\n",
              "1          408    AL            25\n",
              "2          408    AR            13\n",
              "3          408    AZ            15\n",
              "4          408    CA             7\n",
              "..         ...   ...           ...\n",
              "148        510    VT            20\n",
              "149        510    WA            17\n",
              "150        510    WI            21\n",
              "151        510    WV            34\n",
              "152        510    WY            19\n",
              "\n",
              "[153 rows x 3 columns]"
            ]
          },
          "metadata": {
            "tags": []
          },
          "execution_count": 554
        }
      ]
    },
    {
      "cell_type": "code",
      "metadata": {
        "colab_type": "code",
        "id": "XA-tyTTQmPTE",
        "colab": {}
      },
      "source": [
        "df3['state']=df3['state'].astype('category') "
      ],
      "execution_count": null,
      "outputs": []
    },
    {
      "cell_type": "code",
      "metadata": {
        "colab_type": "code",
        "id": "nztkmi7imodz",
        "colab": {}
      },
      "source": [
        "df3['state'] = df3['state'].cat.codes ## .cat.codes coverts state category to numerical value "
      ],
      "execution_count": null,
      "outputs": []
    },
    {
      "cell_type": "code",
      "metadata": {
        "colab_type": "code",
        "id": "ZPiFbwncmtvV",
        "colab": {}
      },
      "source": [
        "L=df3[['state','area code','phone number']]"
      ],
      "execution_count": null,
      "outputs": []
    },
    {
      "cell_type": "code",
      "metadata": {
        "colab_type": "code",
        "id": "nKmORTGtncrc",
        "colab": {}
      },
      "source": [
        "from sklearn.cluster import KMeans"
      ],
      "execution_count": null,
      "outputs": []
    },
    {
      "cell_type": "markdown",
      "metadata": {
        "colab_type": "text",
        "id": "Lz8NEKnYnadU"
      },
      "source": [
        "Below loop iterates number of clusters ranging from 1 to 10 to know the opitmum value of K."
      ]
    },
    {
      "cell_type": "code",
      "metadata": {
        "colab_type": "code",
        "id": "YIGGy43inqho",
        "colab": {}
      },
      "source": [
        "WCSS = []\n",
        "for i in range(1, 10):\n",
        "    kmeans = KMeans(n_clusters=i,max_iter=300,random_state=42)\n",
        "    kmeans.fit(L)\n",
        "    WCSS.append(kmeans.inertia_) ## this particular syntax hleps us append the sum of suqares with in cluster using kmeans model.\n"
      ],
      "execution_count": null,
      "outputs": []
    },
    {
      "cell_type": "code",
      "metadata": {
        "colab_type": "code",
        "id": "FtHWAnKYn6Ml",
        "colab": {
          "base_uri": "https://localhost:8080/",
          "height": 295
        },
        "outputId": "f409ab1f-256e-48f6-c680-8f96bcd32695"
      },
      "source": [
        "plt.plot(range(1,10),WCSS)\n",
        "plt.title('Elbow curve')\n",
        "plt.xlabel('K')\n",
        "plt.ylabel('WCSS')\n",
        "plt.show()"
      ],
      "execution_count": null,
      "outputs": [
        {
          "output_type": "display_data",
          "data": {
            "image/png": "[encoded data removed]",
            "text/plain": [
              "<Figure size 432x288 with 1 Axes>"
            ]
          },
          "metadata": {
            "tags": [],
            "needs_background": "light"
          }
        }
      ]
    },
    {
      "cell_type": "markdown",
      "metadata": {
        "colab_type": "text",
        "id": "UTKwc5a8ogym"
      },
      "source": [
        "Plotting elbow curve using values of sum of squares for different value of K show the curve begins to flatten between 4 and 5. Righnt now i'm using 5 clusters, which creates 5 different clusters using similarities in 3 columns."
      ]
    },
    {
      "cell_type": "code",
      "metadata": {
        "colab_type": "code",
        "id": "1RDVrbtDoJt9",
        "colab": {}
      },
      "source": [
        "kmeans = KMeans(n_clusters = 5,max_iter=300,random_state = 3565)"
      ],
      "execution_count": null,
      "outputs": []
    },
    {
      "cell_type": "code",
      "metadata": {
        "colab_type": "code",
        "id": "-dRU2YVfoftc",
        "colab": {}
      },
      "source": [
        "Y_kmeans= kmeans.fit_predict(L)"
      ],
      "execution_count": null,
      "outputs": []
    },
    {
      "cell_type": "code",
      "metadata": {
        "colab_type": "code",
        "id": "MuMNSGEmo8ug",
        "colab": {
          "base_uri": "https://localhost:8080/",
          "height": 153
        },
        "outputId": "fb99a9b7-465a-4847-f741-bfce9f9f8fb6"
      },
      "source": [
        "Y_kmeans ## Clusters have been created for on groupby dataframe of areacode and state."
      ],
      "execution_count": null,
      "outputs": [
        {
          "output_type": "execute_result",
          "data": {
            "text/plain": [
              "array([3, 3, 3, 3, 3, 3, 3, 3, 3, 3, 3, 3, 3, 3, 3, 3, 3, 3, 3, 3, 3, 3,\n",
              "       3, 3, 2, 2, 2, 2, 2, 2, 2, 2, 2, 2, 2, 2, 2, 2, 2, 2, 2, 2, 2, 2,\n",
              "       2, 2, 2, 2, 2, 2, 2, 3, 3, 3, 3, 3, 3, 3, 3, 3, 3, 3, 3, 3, 3, 3,\n",
              "       3, 3, 3, 3, 3, 0, 3, 0, 0, 0, 0, 0, 0, 0, 0, 2, 0, 0, 0, 0, 0, 0,\n",
              "       0, 2, 0, 0, 0, 0, 0, 0, 0, 0, 2, 0, 0, 0, 4, 4, 4, 4, 4, 4, 4, 4,\n",
              "       4, 4, 4, 4, 4, 4, 4, 4, 4, 4, 4, 4, 4, 4, 4, 4, 4, 1, 1, 1, 1, 1,\n",
              "       1, 1, 1, 1, 1, 1, 1, 1, 1, 1, 1, 1, 1, 1, 1, 1, 1, 1, 1, 1, 1],\n",
              "      dtype=int32)"
            ]
          },
          "metadata": {
            "tags": []
          },
          "execution_count": 563
        }
      ]
    },
    {
      "cell_type": "code",
      "metadata": {
        "colab_type": "code",
        "id": "7fDyLI8_qITX",
        "colab": {}
      },
      "source": [
        "df4=df2.groupby(['area code','state']).agg('count').reset_index() ## new dataframe stroing the same areacode and state groupby data."
      ],
      "execution_count": null,
      "outputs": []
    },
    {
      "cell_type": "code",
      "metadata": {
        "colab_type": "code",
        "id": "6s5xB2iUpsSJ",
        "colab": {}
      },
      "source": [
        "df4['cluster']=Y_kmeans ## appending cluster column to the dataframe."
      ],
      "execution_count": null,
      "outputs": []
    },
    {
      "cell_type": "code",
      "metadata": {
        "colab_type": "code",
        "id": "aK-P7RIZp06Z",
        "colab": {}
      },
      "source": [
        "df5=pd.merge(df2,df4,on=['area code','state']) ## Merging df2 and df4 on areacode and state would allot cluster to all the rows of df2 dataframe and stroing it as df5."
      ],
      "execution_count": null,
      "outputs": []
    },
    {
      "cell_type": "code",
      "metadata": {
        "colab_type": "code",
        "id": "dYD5AvTxqSIT",
        "colab": {}
      },
      "source": [
        "df['cluster']=df5['cluster'] ## now appending cluster coulmn from df5 to original df."
      ],
      "execution_count": null,
      "outputs": []
    },
    {
      "cell_type": "code",
      "metadata": {
        "colab_type": "code",
        "id": "T1REvPLOqbOV",
        "colab": {
          "base_uri": "https://localhost:8080/",
          "height": 343
        },
        "outputId": "590b6920-cb16-4d7a-f4ab-d53f28828b5e"
      },
      "source": [
        "df.sample(5)"
      ],
      "execution_count": null,
      "outputs": [
        {
          "output_type": "execute_result",
          "data": {
            "text/html": [
              "<div>\n",
              "<style scoped>\n",
              "    .dataframe tbody tr th:only-of-type {\n",
              "        vertical-align: middle;\n",
              "    }\n",
              "\n",
              "    .dataframe tbody tr th {\n",
              "        vertical-align: top;\n",
              "    }\n",
              "\n",
              "    .dataframe thead th {\n",
              "        text-align: right;\n",
              "    }\n",
              "</style>\n",
              "<table border=\"1\" class=\"dataframe\">\n",
              "  <thead>\n",
              "    <tr style=\"text-align: right;\">\n",
              "      <th></th>\n",
              "      <th>state</th>\n",
              "      <th>account length</th>\n",
              "      <th>area code</th>\n",
              "      <th>phone number</th>\n",
              "      <th>international plan</th>\n",
              "      <th>voice mail plan</th>\n",
              "      <th>number vmail messages</th>\n",
              "      <th>total day minutes</th>\n",
              "      <th>total day calls</th>\n",
              "      <th>total day charge</th>\n",
              "      <th>total eve minutes</th>\n",
              "      <th>total eve calls</th>\n",
              "      <th>total eve charge</th>\n",
              "      <th>total night minutes</th>\n",
              "      <th>total night calls</th>\n",
              "      <th>total night charge</th>\n",
              "      <th>total intl minutes</th>\n",
              "      <th>total intl calls</th>\n",
              "      <th>total intl charge</th>\n",
              "      <th>customer service calls</th>\n",
              "      <th>churn</th>\n",
              "      <th>cluster</th>\n",
              "    </tr>\n",
              "  </thead>\n",
              "  <tbody>\n",
              "    <tr>\n",
              "      <th>2699</th>\n",
              "      <td>AL</td>\n",
              "      <td>136</td>\n",
              "      <td>510</td>\n",
              "      <td>352-6732</td>\n",
              "      <td>no</td>\n",
              "      <td>no</td>\n",
              "      <td>0</td>\n",
              "      <td>109.4</td>\n",
              "      <td>91</td>\n",
              "      <td>18.60</td>\n",
              "      <td>207.5</td>\n",
              "      <td>111</td>\n",
              "      <td>17.64</td>\n",
              "      <td>135.0</td>\n",
              "      <td>107</td>\n",
              "      <td>6.08</td>\n",
              "      <td>11.6</td>\n",
              "      <td>5</td>\n",
              "      <td>3.13</td>\n",
              "      <td>0</td>\n",
              "      <td>0</td>\n",
              "      <td>3</td>\n",
              "    </tr>\n",
              "    <tr>\n",
              "      <th>651</th>\n",
              "      <td>CT</td>\n",
              "      <td>105</td>\n",
              "      <td>408</td>\n",
              "      <td>357-2679</td>\n",
              "      <td>no</td>\n",
              "      <td>no</td>\n",
              "      <td>0</td>\n",
              "      <td>213.4</td>\n",
              "      <td>100</td>\n",
              "      <td>36.28</td>\n",
              "      <td>204.9</td>\n",
              "      <td>52</td>\n",
              "      <td>17.42</td>\n",
              "      <td>179.7</td>\n",
              "      <td>93</td>\n",
              "      <td>8.09</td>\n",
              "      <td>9.5</td>\n",
              "      <td>6</td>\n",
              "      <td>2.57</td>\n",
              "      <td>1</td>\n",
              "      <td>0</td>\n",
              "      <td>0</td>\n",
              "    </tr>\n",
              "    <tr>\n",
              "      <th>1070</th>\n",
              "      <td>MN</td>\n",
              "      <td>75</td>\n",
              "      <td>415</td>\n",
              "      <td>379-7779</td>\n",
              "      <td>no</td>\n",
              "      <td>no</td>\n",
              "      <td>0</td>\n",
              "      <td>143.2</td>\n",
              "      <td>92</td>\n",
              "      <td>24.34</td>\n",
              "      <td>209.1</td>\n",
              "      <td>142</td>\n",
              "      <td>17.77</td>\n",
              "      <td>173.0</td>\n",
              "      <td>96</td>\n",
              "      <td>7.79</td>\n",
              "      <td>11.9</td>\n",
              "      <td>9</td>\n",
              "      <td>3.21</td>\n",
              "      <td>1</td>\n",
              "      <td>0</td>\n",
              "      <td>3</td>\n",
              "    </tr>\n",
              "    <tr>\n",
              "      <th>2477</th>\n",
              "      <td>MA</td>\n",
              "      <td>96</td>\n",
              "      <td>415</td>\n",
              "      <td>359-9369</td>\n",
              "      <td>no</td>\n",
              "      <td>no</td>\n",
              "      <td>0</td>\n",
              "      <td>173.9</td>\n",
              "      <td>111</td>\n",
              "      <td>29.56</td>\n",
              "      <td>287.4</td>\n",
              "      <td>105</td>\n",
              "      <td>24.43</td>\n",
              "      <td>204.8</td>\n",
              "      <td>91</td>\n",
              "      <td>9.22</td>\n",
              "      <td>9.1</td>\n",
              "      <td>7</td>\n",
              "      <td>2.46</td>\n",
              "      <td>1</td>\n",
              "      <td>0</td>\n",
              "      <td>0</td>\n",
              "    </tr>\n",
              "    <tr>\n",
              "      <th>176</th>\n",
              "      <td>MN</td>\n",
              "      <td>62</td>\n",
              "      <td>415</td>\n",
              "      <td>409-2111</td>\n",
              "      <td>no</td>\n",
              "      <td>no</td>\n",
              "      <td>0</td>\n",
              "      <td>147.1</td>\n",
              "      <td>91</td>\n",
              "      <td>25.01</td>\n",
              "      <td>190.4</td>\n",
              "      <td>107</td>\n",
              "      <td>16.18</td>\n",
              "      <td>195.2</td>\n",
              "      <td>115</td>\n",
              "      <td>8.78</td>\n",
              "      <td>12.2</td>\n",
              "      <td>3</td>\n",
              "      <td>3.29</td>\n",
              "      <td>0</td>\n",
              "      <td>0</td>\n",
              "      <td>4</td>\n",
              "    </tr>\n",
              "  </tbody>\n",
              "</table>\n",
              "</div>"
            ],
            "text/plain": [
              "     state  account length area code  ... customer service calls churn cluster\n",
              "2699    AL             136       510  ...                      0     0       3\n",
              "651     CT             105       408  ...                      1     0       0\n",
              "1070    MN              75       415  ...                      1     0       3\n",
              "2477    MA              96       415  ...                      1     0       0\n",
              "176     MN              62       415  ...                      0     0       4\n",
              "\n",
              "[5 rows x 22 columns]"
            ]
          },
          "metadata": {
            "tags": []
          },
          "execution_count": 568
        }
      ]
    },
    {
      "cell_type": "markdown",
      "metadata": {
        "colab_type": "text",
        "id": "q8vReS5iwgtG"
      },
      "source": [
        "## PCA"
      ]
    },
    {
      "cell_type": "markdown",
      "metadata": {
        "colab_type": "text",
        "id": "VOezATfvqwW_"
      },
      "source": [
        "Applying Dimensionality reduction on all the numerical columns and creating new components."
      ]
    },
    {
      "cell_type": "code",
      "metadata": {
        "colab_type": "code",
        "id": "9x6_F7b3t-IX",
        "colab": {}
      },
      "source": [
        "pca_df=df[[ 'account length','number vmail messages',\n",
        "       'total day minutes', 'total day calls', 'total day charge',\n",
        "       'total eve minutes', 'total eve calls', 'total eve charge',\n",
        "       'total night minutes', 'total night calls', 'total night charge',\n",
        "       'total intl minutes', 'total intl calls', 'total intl charge',\n",
        "       'customer service calls']]"
      ],
      "execution_count": null,
      "outputs": []
    },
    {
      "cell_type": "code",
      "metadata": {
        "colab_type": "code",
        "id": "9YJQlBdrtTrl",
        "colab": {}
      },
      "source": [
        "PCA_df=pd.DataFrame(scaler.fit_transform(pca_df))"
      ],
      "execution_count": null,
      "outputs": []
    },
    {
      "cell_type": "code",
      "metadata": {
        "colab_type": "code",
        "id": "dCmCF_P_sBE-",
        "colab": {}
      },
      "source": [
        "from sklearn.decomposition import PCA\n",
        "pca = PCA(n_components=15)\n",
        "principalComponents = pca.fit_transform(PCA_df)\n",
        "principalDf = pd.DataFrame(data = principalComponents\n",
        "             , columns = ['principal component 1', 'principal component 2','principal component 3', 'principal component 4','principal component 5',\n",
        "                          'principal component 6', 'principal component 7','principal component 8', 'principal component 9','principal component 10',\n",
        "                          'principal component 11', 'principal component 12','principal component 13', 'principal component 14','principal component 15'])"
      ],
      "execution_count": null,
      "outputs": []
    },
    {
      "cell_type": "code",
      "metadata": {
        "colab_type": "code",
        "id": "Ve8vQp_ItA0L",
        "colab": {
          "base_uri": "https://localhost:8080/",
          "height": 34
        },
        "outputId": "2b4d0c48-b6e1-4645-b44f-da0b597b156e"
      },
      "source": [
        "principalDf.shape"
      ],
      "execution_count": null,
      "outputs": [
        {
          "output_type": "execute_result",
          "data": {
            "text/plain": [
              "(3333, 15)"
            ]
          },
          "metadata": {
            "tags": []
          },
          "execution_count": 572
        }
      ]
    },
    {
      "cell_type": "code",
      "metadata": {
        "colab_type": "code",
        "id": "a7rkWZuZuobg",
        "colab": {
          "base_uri": "https://localhost:8080/",
          "height": 258
        },
        "outputId": "6bf80d7a-f300-4bc2-8559-11639de41f24"
      },
      "source": [
        "principalDf.head()"
      ],
      "execution_count": null,
      "outputs": [
        {
          "output_type": "execute_result",
          "data": {
            "text/html": [
              "<div>\n",
              "<style scoped>\n",
              "    .dataframe tbody tr th:only-of-type {\n",
              "        vertical-align: middle;\n",
              "    }\n",
              "\n",
              "    .dataframe tbody tr th {\n",
              "        vertical-align: top;\n",
              "    }\n",
              "\n",
              "    .dataframe thead th {\n",
              "        text-align: right;\n",
              "    }\n",
              "</style>\n",
              "<table border=\"1\" class=\"dataframe\">\n",
              "  <thead>\n",
              "    <tr style=\"text-align: right;\">\n",
              "      <th></th>\n",
              "      <th>principal component 1</th>\n",
              "      <th>principal component 2</th>\n",
              "      <th>principal component 3</th>\n",
              "      <th>principal component 4</th>\n",
              "      <th>principal component 5</th>\n",
              "      <th>principal component 6</th>\n",
              "      <th>principal component 7</th>\n",
              "      <th>principal component 8</th>\n",
              "      <th>principal component 9</th>\n",
              "      <th>principal component 10</th>\n",
              "      <th>principal component 11</th>\n",
              "      <th>principal component 12</th>\n",
              "      <th>principal component 13</th>\n",
              "      <th>principal component 14</th>\n",
              "      <th>principal component 15</th>\n",
              "    </tr>\n",
              "  </thead>\n",
              "  <tbody>\n",
              "    <tr>\n",
              "      <th>0</th>\n",
              "      <td>0.482446</td>\n",
              "      <td>-0.244075</td>\n",
              "      <td>0.056428</td>\n",
              "      <td>-0.102170</td>\n",
              "      <td>0.315060</td>\n",
              "      <td>0.138723</td>\n",
              "      <td>-0.044230</td>\n",
              "      <td>-0.079468</td>\n",
              "      <td>-0.077282</td>\n",
              "      <td>-0.050188</td>\n",
              "      <td>-0.000956</td>\n",
              "      <td>0.000095</td>\n",
              "      <td>-0.000052</td>\n",
              "      <td>-0.000090</td>\n",
              "      <td>-0.000046</td>\n",
              "    </tr>\n",
              "    <tr>\n",
              "      <th>1</th>\n",
              "      <td>-0.134150</td>\n",
              "      <td>-0.225231</td>\n",
              "      <td>0.107302</td>\n",
              "      <td>-0.428732</td>\n",
              "      <td>0.327878</td>\n",
              "      <td>0.033333</td>\n",
              "      <td>-0.058891</td>\n",
              "      <td>0.006598</td>\n",
              "      <td>-0.064854</td>\n",
              "      <td>-0.136329</td>\n",
              "      <td>-0.021520</td>\n",
              "      <td>-0.000035</td>\n",
              "      <td>-0.000091</td>\n",
              "      <td>0.000137</td>\n",
              "      <td>0.000041</td>\n",
              "    </tr>\n",
              "    <tr>\n",
              "      <th>2</th>\n",
              "      <td>0.194510</td>\n",
              "      <td>-0.147750</td>\n",
              "      <td>-0.630275</td>\n",
              "      <td>-0.059818</td>\n",
              "      <td>-0.109540</td>\n",
              "      <td>0.171244</td>\n",
              "      <td>-0.181306</td>\n",
              "      <td>0.010867</td>\n",
              "      <td>0.025773</td>\n",
              "      <td>-0.062845</td>\n",
              "      <td>-0.041289</td>\n",
              "      <td>0.000925</td>\n",
              "      <td>-0.000053</td>\n",
              "      <td>0.000197</td>\n",
              "      <td>-0.000031</td>\n",
              "    </tr>\n",
              "    <tr>\n",
              "      <th>3</th>\n",
              "      <td>0.546618</td>\n",
              "      <td>-0.519444</td>\n",
              "      <td>-0.573275</td>\n",
              "      <td>0.477306</td>\n",
              "      <td>-0.080491</td>\n",
              "      <td>-0.095121</td>\n",
              "      <td>0.051662</td>\n",
              "      <td>-0.070760</td>\n",
              "      <td>0.101382</td>\n",
              "      <td>0.201315</td>\n",
              "      <td>0.085631</td>\n",
              "      <td>0.000455</td>\n",
              "      <td>0.001893</td>\n",
              "      <td>-0.000015</td>\n",
              "      <td>-0.000043</td>\n",
              "    </tr>\n",
              "    <tr>\n",
              "      <th>4</th>\n",
              "      <td>-0.141377</td>\n",
              "      <td>-0.137928</td>\n",
              "      <td>-0.255874</td>\n",
              "      <td>0.123721</td>\n",
              "      <td>-0.124226</td>\n",
              "      <td>-0.133966</td>\n",
              "      <td>0.137742</td>\n",
              "      <td>0.158108</td>\n",
              "      <td>-0.029571</td>\n",
              "      <td>-0.109820</td>\n",
              "      <td>-0.126728</td>\n",
              "      <td>-0.000531</td>\n",
              "      <td>-0.000203</td>\n",
              "      <td>-0.000041</td>\n",
              "      <td>-0.000009</td>\n",
              "    </tr>\n",
              "  </tbody>\n",
              "</table>\n",
              "</div>"
            ],
            "text/plain": [
              "   principal component 1  ...  principal component 15\n",
              "0               0.482446  ...               -0.000046\n",
              "1              -0.134150  ...                0.000041\n",
              "2               0.194510  ...               -0.000031\n",
              "3               0.546618  ...               -0.000043\n",
              "4              -0.141377  ...               -0.000009\n",
              "\n",
              "[5 rows x 15 columns]"
            ]
          },
          "metadata": {
            "tags": []
          },
          "execution_count": 573
        }
      ]
    },
    {
      "cell_type": "code",
      "metadata": {
        "colab_type": "code",
        "id": "XoG2kk3J7FPi",
        "colab": {}
      },
      "source": [
        "churn_df = pd.read_csv(\"bigml_59c28831336c6604c800002a.csv\") ## reloading dataset as churn_df to append two pca components to churn and intl. plan and vmail plan columns."
      ],
      "execution_count": null,
      "outputs": []
    },
    {
      "cell_type": "code",
      "metadata": {
        "colab_type": "code",
        "id": "7mfK11wA7FUX",
        "colab": {}
      },
      "source": [
        "churn_df.dropna(axis=0,how='all',inplace=True)"
      ],
      "execution_count": null,
      "outputs": []
    },
    {
      "cell_type": "code",
      "metadata": {
        "colab_type": "code",
        "id": "zTqbAvbI7Fe7",
        "colab": {}
      },
      "source": [
        "churn_df = churn_df.reset_index()"
      ],
      "execution_count": null,
      "outputs": []
    },
    {
      "cell_type": "code",
      "metadata": {
        "colab_type": "code",
        "id": "gSF7O1Mi7FNW",
        "colab": {}
      },
      "source": [
        "new_df=pd.DataFrame(principalDf)"
      ],
      "execution_count": null,
      "outputs": []
    },
    {
      "cell_type": "code",
      "metadata": {
        "colab_type": "code",
        "id": "zTUomu9g7FLn",
        "colab": {}
      },
      "source": [
        "new_df['international plan']=churn_df['international plan']"
      ],
      "execution_count": null,
      "outputs": []
    },
    {
      "cell_type": "code",
      "metadata": {
        "colab_type": "code",
        "id": "-BnP6B4x7vvI",
        "colab": {}
      },
      "source": [
        "new_df['voice mail plan']=churn_df['voice mail plan']"
      ],
      "execution_count": null,
      "outputs": []
    },
    {
      "cell_type": "code",
      "metadata": {
        "colab_type": "code",
        "id": "nfD-tNy179KV",
        "colab": {}
      },
      "source": [
        "new_df['cluster']=df5['cluster'] ## appending cluster column to new_df dataframe"
      ],
      "execution_count": null,
      "outputs": []
    },
    {
      "cell_type": "code",
      "metadata": {
        "colab_type": "code",
        "id": "AcGRPs4x3SFC",
        "colab": {}
      },
      "source": [
        "pca_features=new_df[['international plan','voice mail plan','cluster',\n",
        "                     'principal component 1', 'principal component 2','principal component 3', 'principal component 4','principal component 5',\n",
        "                          'principal component 6', 'principal component 7','principal component 8', 'principal component 9','principal component 10',\n",
        "                          'principal component 11', 'principal component 12','principal component 13', 'principal component 14','principal component 15'\n",
        "                     ]]\n",
        "## creating new variable x for trainingg and tetsing"
      ],
      "execution_count": null,
      "outputs": []
    },
    {
      "cell_type": "code",
      "metadata": {
        "colab_type": "code",
        "id": "97oa4lSb8xZE",
        "colab": {}
      },
      "source": [
        "pca_features = pd.get_dummies(pca_features,columns=['international plan','voice mail plan','cluster'],drop_first=True) \n",
        "## creating dummies would convert the categorical columns to numerical by assigning 0 and 1."
      ],
      "execution_count": null,
      "outputs": []
    },
    {
      "cell_type": "code",
      "metadata": {
        "colab_type": "code",
        "id": "yhlybtlM-ZyW",
        "colab": {
          "base_uri": "https://localhost:8080/",
          "height": 255
        },
        "outputId": "8d092ade-9c48-47bc-969d-94834048faa4"
      },
      "source": [
        "pca_features.reset_index"
      ],
      "execution_count": null,
      "outputs": [
        {
          "output_type": "execute_result",
          "data": {
            "text/plain": [
              "<bound method DataFrame.reset_index of       principal component 1  principal component 2  ...  cluster_3  cluster_4\n",
              "0                  0.482446              -0.244075  ...          1          0\n",
              "1                 -0.134150              -0.225231  ...          1          0\n",
              "2                  0.194510              -0.147750  ...          1          0\n",
              "3                  0.546618              -0.519444  ...          1          0\n",
              "4                 -0.141377              -0.137928  ...          1          0\n",
              "...                     ...                    ...  ...        ...        ...\n",
              "3328              -0.060019              -0.272682  ...          0          0\n",
              "3329               0.219225              -0.164527  ...          0          0\n",
              "3330               0.036973               0.390326  ...          0          0\n",
              "3331               0.199520               0.071812  ...          0          0\n",
              "3332               0.336091               0.066800  ...          0          0\n",
              "\n",
              "[3333 rows x 21 columns]>"
            ]
          },
          "metadata": {
            "tags": []
          },
          "execution_count": 583
        }
      ]
    },
    {
      "cell_type": "code",
      "metadata": {
        "colab_type": "code",
        "id": "HpaqLMCR8z-V",
        "colab": {
          "base_uri": "https://localhost:8080/",
          "height": 227
        },
        "outputId": "d58ade1e-fd44-4e98-8f83-144efa4e9ee7"
      },
      "source": [
        "pca_features.sample(4)"
      ],
      "execution_count": null,
      "outputs": [
        {
          "output_type": "execute_result",
          "data": {
            "text/html": [
              "<div>\n",
              "<style scoped>\n",
              "    .dataframe tbody tr th:only-of-type {\n",
              "        vertical-align: middle;\n",
              "    }\n",
              "\n",
              "    .dataframe tbody tr th {\n",
              "        vertical-align: top;\n",
              "    }\n",
              "\n",
              "    .dataframe thead th {\n",
              "        text-align: right;\n",
              "    }\n",
              "</style>\n",
              "<table border=\"1\" class=\"dataframe\">\n",
              "  <thead>\n",
              "    <tr style=\"text-align: right;\">\n",
              "      <th></th>\n",
              "      <th>principal component 1</th>\n",
              "      <th>principal component 2</th>\n",
              "      <th>principal component 3</th>\n",
              "      <th>principal component 4</th>\n",
              "      <th>principal component 5</th>\n",
              "      <th>principal component 6</th>\n",
              "      <th>principal component 7</th>\n",
              "      <th>principal component 8</th>\n",
              "      <th>principal component 9</th>\n",
              "      <th>principal component 10</th>\n",
              "      <th>principal component 11</th>\n",
              "      <th>principal component 12</th>\n",
              "      <th>principal component 13</th>\n",
              "      <th>principal component 14</th>\n",
              "      <th>principal component 15</th>\n",
              "      <th>international plan_yes</th>\n",
              "      <th>voice mail plan_yes</th>\n",
              "      <th>cluster_1</th>\n",
              "      <th>cluster_2</th>\n",
              "      <th>cluster_3</th>\n",
              "      <th>cluster_4</th>\n",
              "    </tr>\n",
              "  </thead>\n",
              "  <tbody>\n",
              "    <tr>\n",
              "      <th>1427</th>\n",
              "      <td>0.332505</td>\n",
              "      <td>0.085923</td>\n",
              "      <td>-0.403748</td>\n",
              "      <td>0.148942</td>\n",
              "      <td>-0.130392</td>\n",
              "      <td>0.372977</td>\n",
              "      <td>0.053413</td>\n",
              "      <td>-0.099817</td>\n",
              "      <td>0.069877</td>\n",
              "      <td>-0.019065</td>\n",
              "      <td>0.023074</td>\n",
              "      <td>0.000490</td>\n",
              "      <td>-0.000104</td>\n",
              "      <td>0.000194</td>\n",
              "      <td>0.000050</td>\n",
              "      <td>0</td>\n",
              "      <td>0</td>\n",
              "      <td>1</td>\n",
              "      <td>0</td>\n",
              "      <td>0</td>\n",
              "      <td>0</td>\n",
              "    </tr>\n",
              "    <tr>\n",
              "      <th>1626</th>\n",
              "      <td>0.136343</td>\n",
              "      <td>0.356040</td>\n",
              "      <td>-0.316785</td>\n",
              "      <td>0.288352</td>\n",
              "      <td>-0.130981</td>\n",
              "      <td>0.239209</td>\n",
              "      <td>-0.057082</td>\n",
              "      <td>-0.130252</td>\n",
              "      <td>-0.042704</td>\n",
              "      <td>-0.071415</td>\n",
              "      <td>0.107127</td>\n",
              "      <td>0.000446</td>\n",
              "      <td>0.000103</td>\n",
              "      <td>-0.000287</td>\n",
              "      <td>0.000025</td>\n",
              "      <td>0</td>\n",
              "      <td>0</td>\n",
              "      <td>0</td>\n",
              "      <td>0</td>\n",
              "      <td>0</td>\n",
              "      <td>0</td>\n",
              "    </tr>\n",
              "    <tr>\n",
              "      <th>912</th>\n",
              "      <td>-0.233212</td>\n",
              "      <td>-0.125273</td>\n",
              "      <td>-0.456365</td>\n",
              "      <td>0.152957</td>\n",
              "      <td>-0.100720</td>\n",
              "      <td>-0.292870</td>\n",
              "      <td>0.048005</td>\n",
              "      <td>-0.043180</td>\n",
              "      <td>-0.082096</td>\n",
              "      <td>0.047532</td>\n",
              "      <td>0.064221</td>\n",
              "      <td>0.000465</td>\n",
              "      <td>0.000033</td>\n",
              "      <td>0.000331</td>\n",
              "      <td>-0.000060</td>\n",
              "      <td>0</td>\n",
              "      <td>0</td>\n",
              "      <td>0</td>\n",
              "      <td>0</td>\n",
              "      <td>1</td>\n",
              "      <td>0</td>\n",
              "    </tr>\n",
              "    <tr>\n",
              "      <th>3193</th>\n",
              "      <td>-0.428792</td>\n",
              "      <td>0.163494</td>\n",
              "      <td>-0.293652</td>\n",
              "      <td>0.128429</td>\n",
              "      <td>-0.117472</td>\n",
              "      <td>-0.080430</td>\n",
              "      <td>-0.087458</td>\n",
              "      <td>0.313458</td>\n",
              "      <td>-0.066269</td>\n",
              "      <td>0.160822</td>\n",
              "      <td>-0.175195</td>\n",
              "      <td>-0.000756</td>\n",
              "      <td>0.000098</td>\n",
              "      <td>0.000166</td>\n",
              "      <td>-0.000010</td>\n",
              "      <td>0</td>\n",
              "      <td>0</td>\n",
              "      <td>0</td>\n",
              "      <td>0</td>\n",
              "      <td>0</td>\n",
              "      <td>1</td>\n",
              "    </tr>\n",
              "  </tbody>\n",
              "</table>\n",
              "</div>"
            ],
            "text/plain": [
              "      principal component 1  principal component 2  ...  cluster_3  cluster_4\n",
              "1427               0.332505               0.085923  ...          0          0\n",
              "1626               0.136343               0.356040  ...          0          0\n",
              "912               -0.233212              -0.125273  ...          1          0\n",
              "3193              -0.428792               0.163494  ...          0          1\n",
              "\n",
              "[4 rows x 21 columns]"
            ]
          },
          "metadata": {
            "tags": []
          },
          "execution_count": 584
        }
      ]
    },
    {
      "cell_type": "code",
      "metadata": {
        "colab_type": "code",
        "id": "u0giacx73lNk",
        "colab": {}
      },
      "source": [
        "pca_target = target"
      ],
      "execution_count": null,
      "outputs": []
    },
    {
      "cell_type": "code",
      "metadata": {
        "colab_type": "code",
        "id": "9f2y9BQSN27z",
        "colab": {
          "base_uri": "https://localhost:8080/",
          "height": 204
        },
        "outputId": "091411fe-8ea6-4a3a-9b49-7da159385175"
      },
      "source": [
        "pca_target.sample(5)"
      ],
      "execution_count": null,
      "outputs": [
        {
          "output_type": "execute_result",
          "data": {
            "text/html": [
              "<div>\n",
              "<style scoped>\n",
              "    .dataframe tbody tr th:only-of-type {\n",
              "        vertical-align: middle;\n",
              "    }\n",
              "\n",
              "    .dataframe tbody tr th {\n",
              "        vertical-align: top;\n",
              "    }\n",
              "\n",
              "    .dataframe thead th {\n",
              "        text-align: right;\n",
              "    }\n",
              "</style>\n",
              "<table border=\"1\" class=\"dataframe\">\n",
              "  <thead>\n",
              "    <tr style=\"text-align: right;\">\n",
              "      <th></th>\n",
              "      <th>churn</th>\n",
              "    </tr>\n",
              "  </thead>\n",
              "  <tbody>\n",
              "    <tr>\n",
              "      <th>1139</th>\n",
              "      <td>0</td>\n",
              "    </tr>\n",
              "    <tr>\n",
              "      <th>900</th>\n",
              "      <td>0</td>\n",
              "    </tr>\n",
              "    <tr>\n",
              "      <th>2105</th>\n",
              "      <td>0</td>\n",
              "    </tr>\n",
              "    <tr>\n",
              "      <th>87</th>\n",
              "      <td>0</td>\n",
              "    </tr>\n",
              "    <tr>\n",
              "      <th>1178</th>\n",
              "      <td>0</td>\n",
              "    </tr>\n",
              "  </tbody>\n",
              "</table>\n",
              "</div>"
            ],
            "text/plain": [
              "      churn\n",
              "1139      0\n",
              "900       0\n",
              "2105      0\n",
              "87        0\n",
              "1178      0"
            ]
          },
          "metadata": {
            "tags": []
          },
          "execution_count": 586
        }
      ]
    },
    {
      "cell_type": "code",
      "metadata": {
        "colab_type": "code",
        "id": "tdx80yHm2zbh",
        "colab": {}
      },
      "source": [
        "## Splitting X and Y dataframes into train, test sets using train_test_split\n",
        "pca_features_train, pca_features_test, pca_target_train, pca_target_test = train_test_split(pca_features,pca_target, test_size=0.30, random_state=42)"
      ],
      "execution_count": null,
      "outputs": []
    },
    {
      "cell_type": "markdown",
      "metadata": {
        "colab_type": "text",
        "id": "kV6gMz870d7a"
      },
      "source": [
        "Though PCA is meant for Dimensionality Reduction, I'm not really reducing the feature space by eliminating features or combining older onces to create fewer components. Generally we are supposed to drop new pca components which have lower impact on the dependent variable. But, i have decided not to alter the number of columns and created 15 new components using 15 older inputs columns which indeed gave me better predicitons than data with fewer pca components."
      ]
    },
    {
      "cell_type": "code",
      "metadata": {
        "colab_type": "code",
        "id": "hOY8gNzJ6OlS",
        "colab": {
          "base_uri": "https://localhost:8080/",
          "height": 238
        },
        "outputId": "502c9b96-176c-484b-ea6f-f4fd128e7376"
      },
      "source": [
        "importance = RFclf.feature_importances_\n",
        "# summarize feature importance\n",
        "x = []\n",
        "for i,v in enumerate(importance):\n",
        "\tprint('Feature: %0d, Score: %.5f' % (i,v*100))"
      ],
      "execution_count": null,
      "outputs": [
        {
          "output_type": "stream",
          "text": [
            "Feature: 0, Score: 2.86889\n",
            "Feature: 1, Score: 3.36371\n",
            "Feature: 2, Score: 3.00487\n",
            "Feature: 3, Score: 27.59983\n",
            "Feature: 4, Score: 2.54978\n",
            "Feature: 5, Score: 7.89916\n",
            "Feature: 6, Score: 2.93939\n",
            "Feature: 7, Score: 4.80679\n",
            "Feature: 8, Score: 3.31900\n",
            "Feature: 9, Score: 5.97216\n",
            "Feature: 10, Score: 18.66468\n",
            "Feature: 11, Score: 14.72940\n",
            "Feature: 12, Score: 2.28235\n"
          ],
          "name": "stdout"
        }
      ]
    },
    {
      "cell_type": "code",
      "metadata": {
        "colab_type": "code",
        "id": "EZzp0JtJ523Q",
        "colab": {
          "base_uri": "https://localhost:8080/",
          "height": 374
        },
        "outputId": "c61f1ace-3867-4f04-8fad-840763b7cca9"
      },
      "source": [
        "importance = rfclf.feature_importances_\n",
        "# summarize feature importance\n",
        "for i,v in enumerate(importance):\n",
        "\tprint('Feature: %0d, Score: %.5f' % (i,v*100))"
      ],
      "execution_count": null,
      "outputs": [
        {
          "output_type": "stream",
          "text": [
            "Feature: 0, Score: 23.52005\n",
            "Feature: 1, Score: 2.12697\n",
            "Feature: 2, Score: 2.80466\n",
            "Feature: 3, Score: 6.06059\n",
            "Feature: 4, Score: 9.43482\n",
            "Feature: 5, Score: 2.37889\n",
            "Feature: 6, Score: 18.65166\n",
            "Feature: 7, Score: 2.35064\n",
            "Feature: 8, Score: 3.83829\n",
            "Feature: 9, Score: 2.28727\n",
            "Feature: 10, Score: 1.86346\n",
            "Feature: 11, Score: 2.02063\n",
            "Feature: 12, Score: 2.36069\n",
            "Feature: 13, Score: 2.27999\n",
            "Feature: 14, Score: 3.09334\n",
            "Feature: 15, Score: 12.73489\n",
            "Feature: 16, Score: 1.64705\n",
            "Feature: 17, Score: 0.09374\n",
            "Feature: 18, Score: 0.16467\n",
            "Feature: 19, Score: 0.18506\n",
            "Feature: 20, Score: 0.10264\n"
          ],
          "name": "stdout"
        }
      ]
    },
    {
      "cell_type": "markdown",
      "metadata": {
        "colab_type": "text",
        "id": "BtHoUZzUsPBx"
      },
      "source": [
        "## RnadomForest+PCA+Cluster"
      ]
    },
    {
      "cell_type": "code",
      "metadata": {
        "colab_type": "code",
        "id": "a2_UNaCG9dhN",
        "colab": {}
      },
      "source": [
        "rfclf = RandomForestClassifier(n_estimators=300,max_depth=7,min_samples_leaf=5,class_weight='balanced',random_state=42)"
      ],
      "execution_count": null,
      "outputs": []
    },
    {
      "cell_type": "code",
      "metadata": {
        "colab_type": "code",
        "id": "rsgDv_583L_t",
        "colab": {
          "base_uri": "https://localhost:8080/",
          "height": 221
        },
        "outputId": "bb81ff15-5ed0-4897-9b09-7918cff4d42f"
      },
      "source": [
        "rfclf.fit(pca_features_train,pca_target_train)"
      ],
      "execution_count": null,
      "outputs": [
        {
          "output_type": "stream",
          "text": [
            "/usr/local/lib/python3.6/dist-packages/ipykernel_launcher.py:1: DataConversionWarning:\n",
            "\n",
            "A column-vector y was passed when a 1d array was expected. Please change the shape of y to (n_samples,), for example using ravel().\n",
            "\n"
          ],
          "name": "stderr"
        },
        {
          "output_type": "execute_result",
          "data": {
            "text/plain": [
              "RandomForestClassifier(bootstrap=True, ccp_alpha=0.0, class_weight='balanced',\n",
              "                       criterion='gini', max_depth=7, max_features='auto',\n",
              "                       max_leaf_nodes=None, max_samples=None,\n",
              "                       min_impurity_decrease=0.0, min_impurity_split=None,\n",
              "                       min_samples_leaf=5, min_samples_split=2,\n",
              "                       min_weight_fraction_leaf=0.0, n_estimators=300,\n",
              "                       n_jobs=None, oob_score=False, random_state=42, verbose=0,\n",
              "                       warm_start=False)"
            ]
          },
          "metadata": {
            "tags": []
          },
          "execution_count": 591
        }
      ]
    },
    {
      "cell_type": "code",
      "metadata": {
        "colab_type": "code",
        "id": "47LqthEM5Ctl",
        "colab": {}
      },
      "source": [
        "rfclf_Train_pred=rfclf.predict(pca_features_train)"
      ],
      "execution_count": null,
      "outputs": []
    },
    {
      "cell_type": "code",
      "metadata": {
        "colab_type": "code",
        "id": "5fIrB7Yp5HMV",
        "colab": {
          "base_uri": "https://localhost:8080/",
          "height": 170
        },
        "outputId": "dbff06e4-9a3d-4d1d-d6e4-8df089fbd2f9"
      },
      "source": [
        "print(classification_report(pca_target_train,rfclf_Train_pred))"
      ],
      "execution_count": null,
      "outputs": [
        {
          "output_type": "stream",
          "text": [
            "              precision    recall  f1-score   support\n",
            "\n",
            "           0       0.98      0.98      0.98      1993\n",
            "           1       0.89      0.85      0.87       340\n",
            "\n",
            "    accuracy                           0.96      2333\n",
            "   macro avg       0.93      0.92      0.92      2333\n",
            "weighted avg       0.96      0.96      0.96      2333\n",
            "\n"
          ],
          "name": "stdout"
        }
      ]
    },
    {
      "cell_type": "code",
      "metadata": {
        "colab_type": "code",
        "id": "vft6ZD-75K1V",
        "colab": {}
      },
      "source": [
        "rfclf_Test_pred=rfclf.predict(pca_features_test)"
      ],
      "execution_count": null,
      "outputs": []
    },
    {
      "cell_type": "code",
      "metadata": {
        "colab_type": "code",
        "id": "z0wWvuIK5RfS",
        "colab": {
          "base_uri": "https://localhost:8080/",
          "height": 170
        },
        "outputId": "f6194def-0c06-427d-f91c-310d7337b46c"
      },
      "source": [
        "print(classification_report(pca_target_test,rfclf_Test_pred))"
      ],
      "execution_count": null,
      "outputs": [
        {
          "output_type": "stream",
          "text": [
            "              precision    recall  f1-score   support\n",
            "\n",
            "           0       0.97      0.97      0.97       857\n",
            "           1       0.82      0.83      0.82       143\n",
            "\n",
            "    accuracy                           0.95      1000\n",
            "   macro avg       0.89      0.90      0.90      1000\n",
            "weighted avg       0.95      0.95      0.95      1000\n",
            "\n"
          ],
          "name": "stdout"
        }
      ]
    },
    {
      "cell_type": "markdown",
      "metadata": {
        "colab_type": "text",
        "id": "QCzHJa8crKoH"
      },
      "source": [
        "After all the hard work of creating clusters, PCA components and feeding it to RandomForest Classifier have resulted in 1% increase in accuracy on test data compared to that of simple RandomForest calssifier model. Though it's just 1%, model got better in predicting True churn data by 2% on testing data.\n",
        "\n",
        "Below are the accuracy comaprions of simple RF model and RandomForest model with PCA and Clusters on test data.\n",
        "\n",
        "\n"
      ]
    },
    {
      "cell_type": "code",
      "metadata": {
        "colab_type": "code",
        "id": "MsqvZQM9r253",
        "colab": {
          "base_uri": "https://localhost:8080/",
          "height": 323
        },
        "outputId": "6781d4ed-c5f1-4e75-9295-246a0851a3f5"
      },
      "source": [
        "print('calssification report of RandomForest Test Model',classification_report(target_test,RFclf_Test_pred))\n",
        "print('calssification report of CLuster+PCA+RandomForest Test Model',classification_report(pca_target_test,rfclf_Test_pred))"
      ],
      "execution_count": null,
      "outputs": [
        {
          "output_type": "stream",
          "text": [
            "calssification report of RandomForest Test Model               precision    recall  f1-score   support\n",
            "\n",
            "           0       0.97      0.96      0.97       857\n",
            "           1       0.78      0.83      0.80       143\n",
            "\n",
            "    accuracy                           0.94      1000\n",
            "   macro avg       0.87      0.89      0.88      1000\n",
            "weighted avg       0.94      0.94      0.94      1000\n",
            "\n",
            "calssification report of CLuster+PCA+RandomForest Test Model               precision    recall  f1-score   support\n",
            "\n",
            "           0       0.97      0.97      0.97       857\n",
            "           1       0.82      0.83      0.82       143\n",
            "\n",
            "    accuracy                           0.95      1000\n",
            "   macro avg       0.89      0.90      0.90      1000\n",
            "weighted avg       0.95      0.95      0.95      1000\n",
            "\n"
          ],
          "name": "stdout"
        }
      ]
    },
    {
      "cell_type": "code",
      "metadata": {
        "colab_type": "code",
        "id": "VUG7iUmlacHl",
        "colab": {}
      },
      "source": [
        "from sklearn.ensemble import BaggingClassifier"
      ],
      "execution_count": null,
      "outputs": []
    },
    {
      "cell_type": "code",
      "metadata": {
        "colab_type": "code",
        "id": "isYqP17CadO6",
        "colab": {}
      },
      "source": [
        "bag = BaggingClassifier(rfclf)"
      ],
      "execution_count": null,
      "outputs": []
    },
    {
      "cell_type": "code",
      "metadata": {
        "colab_type": "code",
        "id": "6uAEh42yadUC",
        "colab": {
          "base_uri": "https://localhost:8080/",
          "height": 476
        },
        "outputId": "9bec7baf-09ed-4089-c81d-bcdd2b3ab7df"
      },
      "source": [
        "bag.fit(pca_features_train,pca_target_train)"
      ],
      "execution_count": null,
      "outputs": [
        {
          "output_type": "stream",
          "text": [
            "/usr/local/lib/python3.6/dist-packages/sklearn/ensemble/_bagging.py:645: DataConversionWarning:\n",
            "\n",
            "A column-vector y was passed when a 1d array was expected. Please change the shape of y to (n_samples, ), for example using ravel().\n",
            "\n"
          ],
          "name": "stderr"
        },
        {
          "output_type": "execute_result",
          "data": {
            "text/plain": [
              "BaggingClassifier(base_estimator=RandomForestClassifier(bootstrap=True,\n",
              "                                                        ccp_alpha=0.0,\n",
              "                                                        class_weight='balanced',\n",
              "                                                        criterion='gini',\n",
              "                                                        max_depth=7,\n",
              "                                                        max_features='auto',\n",
              "                                                        max_leaf_nodes=None,\n",
              "                                                        max_samples=None,\n",
              "                                                        min_impurity_decrease=0.0,\n",
              "                                                        min_impurity_split=None,\n",
              "                                                        min_samples_leaf=5,\n",
              "                                                        min_samples_split=2,\n",
              "                                                        min_weight_fraction_leaf=0.0,\n",
              "                                                        n_estimators=300,\n",
              "                                                        n_jobs=None,\n",
              "                                                        oob_score=False,\n",
              "                                                        random_state=42,\n",
              "                                                        verbose=0,\n",
              "                                                        warm_start=False),\n",
              "                  bootstrap=True, bootstrap_features=False, max_features=1.0,\n",
              "                  max_samples=1.0, n_estimators=10, n_jobs=None,\n",
              "                  oob_score=False, random_state=None, verbose=0,\n",
              "                  warm_start=False)"
            ]
          },
          "metadata": {
            "tags": []
          },
          "execution_count": 599
        }
      ]
    },
    {
      "cell_type": "code",
      "metadata": {
        "colab_type": "code",
        "id": "G8pof863adX9",
        "colab": {}
      },
      "source": [
        "bag_Train_pred=bag.predict(pca_features_train)"
      ],
      "execution_count": null,
      "outputs": []
    },
    {
      "cell_type": "code",
      "metadata": {
        "colab_type": "code",
        "id": "eHIhNdvRadSQ",
        "colab": {
          "base_uri": "https://localhost:8080/",
          "height": 170
        },
        "outputId": "23a9cee9-6af4-47e7-9733-19099853cf55"
      },
      "source": [
        "print(classification_report(pca_target_train,bag_Train_pred))"
      ],
      "execution_count": null,
      "outputs": [
        {
          "output_type": "stream",
          "text": [
            "              precision    recall  f1-score   support\n",
            "\n",
            "           0       0.97      0.98      0.98      1993\n",
            "           1       0.89      0.84      0.87       340\n",
            "\n",
            "    accuracy                           0.96      2333\n",
            "   macro avg       0.93      0.91      0.92      2333\n",
            "weighted avg       0.96      0.96      0.96      2333\n",
            "\n"
          ],
          "name": "stdout"
        }
      ]
    },
    {
      "cell_type": "code",
      "metadata": {
        "colab_type": "code",
        "id": "ylZRmfx3adNG",
        "colab": {}
      },
      "source": [
        "bag_Test_pred=bag.predict(pca_features_test)"
      ],
      "execution_count": null,
      "outputs": []
    },
    {
      "cell_type": "code",
      "metadata": {
        "colab_type": "code",
        "id": "LZ9oNvYfbZb6",
        "colab": {
          "base_uri": "https://localhost:8080/",
          "height": 170
        },
        "outputId": "9c11bd43-4a3e-4c59-879a-51aa519bc887"
      },
      "source": [
        "print(classification_report(pca_target_test,bag_Test_pred))"
      ],
      "execution_count": null,
      "outputs": [
        {
          "output_type": "stream",
          "text": [
            "              precision    recall  f1-score   support\n",
            "\n",
            "           0       0.97      0.98      0.97       857\n",
            "           1       0.87      0.80      0.84       143\n",
            "\n",
            "    accuracy                           0.95      1000\n",
            "   macro avg       0.92      0.89      0.91      1000\n",
            "weighted avg       0.95      0.95      0.95      1000\n",
            "\n"
          ],
          "name": "stdout"
        }
      ]
    },
    {
      "cell_type": "markdown",
      "metadata": {
        "colab_type": "text",
        "id": "DdcPcvBzcKQ3"
      },
      "source": [
        "Here, we can observe that accuracy after applying bagging is 95% on test data which is similar to that of previous model.\n"
      ]
    },
    {
      "cell_type": "markdown",
      "metadata": {
        "colab_type": "text",
        "id": "_bd8qCsvcgBq"
      },
      "source": [
        "To evaluate the performance of the model, Learning curve is plotted."
      ]
    },
    {
      "cell_type": "code",
      "metadata": {
        "colab_type": "code",
        "id": "lsysaagzbZW8",
        "colab": {}
      },
      "source": [
        "from sklearn.model_selection import learning_curve"
      ],
      "execution_count": null,
      "outputs": []
    },
    {
      "cell_type": "code",
      "metadata": {
        "colab_type": "code",
        "id": "QVFWegl3faDJ",
        "colab": {}
      },
      "source": [
        "BAG = BaggingClassifier(rfclf)"
      ],
      "execution_count": null,
      "outputs": []
    },
    {
      "cell_type": "code",
      "metadata": {
        "colab_type": "code",
        "id": "tga9fMeBfBeN",
        "colab": {
          "base_uri": "https://localhost:8080/",
          "height": 1000
        },
        "outputId": "8de56733-64c6-4d99-df91-f3257dedd354"
      },
      "source": [
        "train_size, train_scores, test_scores = learning_curve(BAG, pca_features,pca_target,train_sizes=np.linspace(.1, 1.0, 5))"
      ],
      "execution_count": null,
      "outputs": [
        {
          "output_type": "stream",
          "text": [
            "/usr/local/lib/python3.6/dist-packages/sklearn/ensemble/_bagging.py:645: DataConversionWarning:\n",
            "\n",
            "A column-vector y was passed when a 1d array was expected. Please change the shape of y to (n_samples, ), for example using ravel().\n",
            "\n",
            "/usr/local/lib/python3.6/dist-packages/sklearn/ensemble/_bagging.py:645: DataConversionWarning:\n",
            "\n",
            "A column-vector y was passed when a 1d array was expected. Please change the shape of y to (n_samples, ), for example using ravel().\n",
            "\n",
            "/usr/local/lib/python3.6/dist-packages/sklearn/ensemble/_bagging.py:645: DataConversionWarning:\n",
            "\n",
            "A column-vector y was passed when a 1d array was expected. Please change the shape of y to (n_samples, ), for example using ravel().\n",
            "\n",
            "/usr/local/lib/python3.6/dist-packages/sklearn/ensemble/_bagging.py:645: DataConversionWarning:\n",
            "\n",
            "A column-vector y was passed when a 1d array was expected. Please change the shape of y to (n_samples, ), for example using ravel().\n",
            "\n",
            "/usr/local/lib/python3.6/dist-packages/sklearn/ensemble/_bagging.py:645: DataConversionWarning:\n",
            "\n",
            "A column-vector y was passed when a 1d array was expected. Please change the shape of y to (n_samples, ), for example using ravel().\n",
            "\n",
            "/usr/local/lib/python3.6/dist-packages/sklearn/ensemble/_bagging.py:645: DataConversionWarning:\n",
            "\n",
            "A column-vector y was passed when a 1d array was expected. Please change the shape of y to (n_samples, ), for example using ravel().\n",
            "\n",
            "/usr/local/lib/python3.6/dist-packages/sklearn/ensemble/_bagging.py:645: DataConversionWarning:\n",
            "\n",
            "A column-vector y was passed when a 1d array was expected. Please change the shape of y to (n_samples, ), for example using ravel().\n",
            "\n",
            "/usr/local/lib/python3.6/dist-packages/sklearn/ensemble/_bagging.py:645: DataConversionWarning:\n",
            "\n",
            "A column-vector y was passed when a 1d array was expected. Please change the shape of y to (n_samples, ), for example using ravel().\n",
            "\n",
            "/usr/local/lib/python3.6/dist-packages/sklearn/ensemble/_bagging.py:645: DataConversionWarning:\n",
            "\n",
            "A column-vector y was passed when a 1d array was expected. Please change the shape of y to (n_samples, ), for example using ravel().\n",
            "\n",
            "/usr/local/lib/python3.6/dist-packages/sklearn/ensemble/_bagging.py:645: DataConversionWarning:\n",
            "\n",
            "A column-vector y was passed when a 1d array was expected. Please change the shape of y to (n_samples, ), for example using ravel().\n",
            "\n",
            "/usr/local/lib/python3.6/dist-packages/sklearn/ensemble/_bagging.py:645: DataConversionWarning:\n",
            "\n",
            "A column-vector y was passed when a 1d array was expected. Please change the shape of y to (n_samples, ), for example using ravel().\n",
            "\n",
            "/usr/local/lib/python3.6/dist-packages/sklearn/ensemble/_bagging.py:645: DataConversionWarning:\n",
            "\n",
            "A column-vector y was passed when a 1d array was expected. Please change the shape of y to (n_samples, ), for example using ravel().\n",
            "\n",
            "/usr/local/lib/python3.6/dist-packages/sklearn/ensemble/_bagging.py:645: DataConversionWarning:\n",
            "\n",
            "A column-vector y was passed when a 1d array was expected. Please change the shape of y to (n_samples, ), for example using ravel().\n",
            "\n",
            "/usr/local/lib/python3.6/dist-packages/sklearn/ensemble/_bagging.py:645: DataConversionWarning:\n",
            "\n",
            "A column-vector y was passed when a 1d array was expected. Please change the shape of y to (n_samples, ), for example using ravel().\n",
            "\n",
            "/usr/local/lib/python3.6/dist-packages/sklearn/ensemble/_bagging.py:645: DataConversionWarning:\n",
            "\n",
            "A column-vector y was passed when a 1d array was expected. Please change the shape of y to (n_samples, ), for example using ravel().\n",
            "\n",
            "/usr/local/lib/python3.6/dist-packages/sklearn/ensemble/_bagging.py:645: DataConversionWarning:\n",
            "\n",
            "A column-vector y was passed when a 1d array was expected. Please change the shape of y to (n_samples, ), for example using ravel().\n",
            "\n",
            "/usr/local/lib/python3.6/dist-packages/sklearn/ensemble/_bagging.py:645: DataConversionWarning:\n",
            "\n",
            "A column-vector y was passed when a 1d array was expected. Please change the shape of y to (n_samples, ), for example using ravel().\n",
            "\n",
            "/usr/local/lib/python3.6/dist-packages/sklearn/ensemble/_bagging.py:645: DataConversionWarning:\n",
            "\n",
            "A column-vector y was passed when a 1d array was expected. Please change the shape of y to (n_samples, ), for example using ravel().\n",
            "\n",
            "/usr/local/lib/python3.6/dist-packages/sklearn/ensemble/_bagging.py:645: DataConversionWarning:\n",
            "\n",
            "A column-vector y was passed when a 1d array was expected. Please change the shape of y to (n_samples, ), for example using ravel().\n",
            "\n",
            "/usr/local/lib/python3.6/dist-packages/sklearn/ensemble/_bagging.py:645: DataConversionWarning:\n",
            "\n",
            "A column-vector y was passed when a 1d array was expected. Please change the shape of y to (n_samples, ), for example using ravel().\n",
            "\n",
            "/usr/local/lib/python3.6/dist-packages/sklearn/ensemble/_bagging.py:645: DataConversionWarning:\n",
            "\n",
            "A column-vector y was passed when a 1d array was expected. Please change the shape of y to (n_samples, ), for example using ravel().\n",
            "\n",
            "/usr/local/lib/python3.6/dist-packages/sklearn/ensemble/_bagging.py:645: DataConversionWarning:\n",
            "\n",
            "A column-vector y was passed when a 1d array was expected. Please change the shape of y to (n_samples, ), for example using ravel().\n",
            "\n",
            "/usr/local/lib/python3.6/dist-packages/sklearn/ensemble/_bagging.py:645: DataConversionWarning:\n",
            "\n",
            "A column-vector y was passed when a 1d array was expected. Please change the shape of y to (n_samples, ), for example using ravel().\n",
            "\n",
            "/usr/local/lib/python3.6/dist-packages/sklearn/ensemble/_bagging.py:645: DataConversionWarning:\n",
            "\n",
            "A column-vector y was passed when a 1d array was expected. Please change the shape of y to (n_samples, ), for example using ravel().\n",
            "\n",
            "/usr/local/lib/python3.6/dist-packages/sklearn/ensemble/_bagging.py:645: DataConversionWarning:\n",
            "\n",
            "A column-vector y was passed when a 1d array was expected. Please change the shape of y to (n_samples, ), for example using ravel().\n",
            "\n"
          ],
          "name": "stderr"
        }
      ]
    },
    {
      "cell_type": "code",
      "metadata": {
        "colab_type": "code",
        "id": "_pnKnBafjhb5",
        "colab": {
          "base_uri": "https://localhost:8080/",
          "height": 34
        },
        "outputId": "e6f4528e-41b1-4650-d2e2-ffbace8aca0b"
      },
      "source": [
        "train_size"
      ],
      "execution_count": null,
      "outputs": [
        {
          "output_type": "execute_result",
          "data": {
            "text/plain": [
              "array([ 266,  866, 1466, 2066, 2666])"
            ]
          },
          "metadata": {
            "tags": []
          },
          "execution_count": 607
        }
      ]
    },
    {
      "cell_type": "code",
      "metadata": {
        "colab_type": "code",
        "id": "NjTI2XeHfBi2",
        "colab": {
          "base_uri": "https://localhost:8080/",
          "height": 102
        },
        "outputId": "ec1b0dc9-e0d5-47c7-b7d2-97b1b90d7031"
      },
      "source": [
        "train_scores"
      ],
      "execution_count": null,
      "outputs": [
        {
          "output_type": "execute_result",
          "data": {
            "text/plain": [
              "array([[0.94736842, 0.94736842, 0.95488722, 0.92481203, 0.94360902],\n",
              "       [0.97459584, 0.97921478, 0.97806005, 0.97228637, 0.96997691],\n",
              "       [0.97135061, 0.97748977, 0.9638472 , 0.96930423, 0.96248295],\n",
              "       [0.96805421, 0.96999032, 0.96708616, 0.96660213, 0.96805421],\n",
              "       [0.96624156, 0.96774194, 0.96249062, 0.96586647, 0.96436609]])"
            ]
          },
          "metadata": {
            "tags": []
          },
          "execution_count": 608
        }
      ]
    },
    {
      "cell_type": "code",
      "metadata": {
        "colab_type": "code",
        "id": "XO1YzEIMfBmY",
        "colab": {
          "base_uri": "https://localhost:8080/",
          "height": 102
        },
        "outputId": "9a01acc9-7c52-447f-bbbd-5f50c99ba9a1"
      },
      "source": [
        "test_scores"
      ],
      "execution_count": null,
      "outputs": [
        {
          "output_type": "execute_result",
          "data": {
            "text/plain": [
              "array([[0.85457271, 0.86206897, 0.85457271, 0.85735736, 0.86186186],\n",
              "       [0.89655172, 0.89205397, 0.90254873, 0.9039039 , 0.90690691],\n",
              "       [0.91754123, 0.92953523, 0.91454273, 0.92942943, 0.92792793],\n",
              "       [0.92503748, 0.92653673, 0.94152924, 0.92792793, 0.94294294],\n",
              "       [0.92503748, 0.92353823, 0.94602699, 0.94144144, 0.95645646]])"
            ]
          },
          "metadata": {
            "tags": []
          },
          "execution_count": 609
        }
      ]
    },
    {
      "cell_type": "code",
      "metadata": {
        "colab_type": "code",
        "id": "hVj8RYbFfBhX",
        "colab": {}
      },
      "source": [
        "def plot_learning_curve(train_sizes, train_scores, test_scores, title, alpha=0.1):\n",
        "    train_mean = np.mean(train_scores, axis=1)\n",
        "    train_std = np.std(train_scores, axis=1)\n",
        "    test_mean = np.mean(test_scores, axis=1)\n",
        "    test_std = np.std(test_scores, axis=1)\n",
        "    plt.plot(train_sizes, train_mean, label='train score', color='blue', marker='o')\n",
        "    plt.fill_between(train_sizes, train_mean + train_std,\n",
        "                     train_mean - train_std, color='blue', alpha=alpha)\n",
        "    plt.plot(train_sizes, test_mean, label='test score', color='red', marker='o')\n",
        "\n",
        "    plt.fill_between(train_sizes, test_mean + test_std, test_mean - test_std, color='red', alpha=alpha)\n",
        "    plt.title(title)\n",
        "    plt.xlabel('Number of training points')\n",
        "    plt.ylabel('f1-score')\n",
        "    plt.grid(ls='--')\n",
        "    plt.legend(loc='best')\n",
        "    plt.show()"
      ],
      "execution_count": null,
      "outputs": []
    },
    {
      "cell_type": "code",
      "metadata": {
        "colab_type": "code",
        "id": "F84-XrzwkQq-",
        "colab": {}
      },
      "source": [
        "title= 'Performance Learning-Curve RandomForest Bagging Classifier'"
      ],
      "execution_count": null,
      "outputs": []
    },
    {
      "cell_type": "code",
      "metadata": {
        "colab_type": "code",
        "id": "1Rpz3ViLfBcI",
        "colab": {
          "base_uri": "https://localhost:8080/",
          "height": 295
        },
        "outputId": "6de6e3ea-488f-4b9c-877e-b304e4da4544"
      },
      "source": [
        "plot_learning_curve(train_size, train_scores, test_scores, title, alpha=0.1)"
      ],
      "execution_count": null,
      "outputs": [
        {
          "output_type": "display_data",
          "data": {
            "image/png": "[encoded data removed]",
            "text/plain": [
              "<Figure size 432x288 with 1 Axes>"
            ]
          },
          "metadata": {
            "tags": [],
            "needs_background": "light"
          }
        }
      ]
    },
    {
      "cell_type": "markdown",
      "metadata": {
        "colab_type": "text",
        "id": "b9NBczNoCWJQ"
      },
      "source": [
        "\n",
        "\n",
        "A model of a given complexity will overfit a small dataset: this means the training score will be relatively high, while the validation score will be relatively low.\n",
        "\n",
        "The notable feature of the learning curve is the convergence to a particular score as the number of training samples grows. In particular, once you have enough points that a particular model has converged, adding more training data will not help you! The only way to increase model performance in this case is to use another (often more complex) model."
      ]
    },
    {
      "cell_type": "code",
      "metadata": {
        "colab_type": "code",
        "id": "kXqxeBrQBuvP",
        "colab": {}
      },
      "source": [
        "from sklearn.model_selection import GridSearchCV\n",
        "param_grid = {\n",
        "    'bootstrap': [True],\n",
        "    'max_depth': [80, 90, 100, 110],\n",
        "    'max_features': [2, 3],\n",
        "    'min_samples_leaf': [3, 4, 5],\n",
        "    'min_samples_split': [8, 10, 12],\n",
        "    'n_estimators': [100, 200, 300, 1000]\n",
        "}\n",
        "\n",
        "# Instantiate the grid search model\n",
        "grid_search = GridSearchCV(estimator = rfclf, param_grid = param_grid, \n",
        "                          cv = 10, n_jobs = -1, verbose = 2)"
      ],
      "execution_count": null,
      "outputs": []
    },
    {
      "cell_type": "code",
      "metadata": {
        "colab_type": "code",
        "id": "9xLxcdrUCiyr",
        "colab": {
          "base_uri": "https://localhost:8080/",
          "height": 646
        },
        "outputId": "a82b5d34-dea1-4447-933e-6226338ece89"
      },
      "source": [
        "grid_search.fit(pca_features_train,pca_target_train)"
      ],
      "execution_count": null,
      "outputs": [
        {
          "output_type": "stream",
          "text": [
            "Fitting 10 folds for each of 288 candidates, totalling 2880 fits\n"
          ],
          "name": "stdout"
        },
        {
          "output_type": "stream",
          "text": [
            "[Parallel(n_jobs=-1)]: Using backend LokyBackend with 2 concurrent workers.\n",
            "[Parallel(n_jobs=-1)]: Done  37 tasks      | elapsed:   43.5s\n",
            "[Parallel(n_jobs=-1)]: Done 158 tasks      | elapsed:  3.1min\n",
            "[Parallel(n_jobs=-1)]: Done 361 tasks      | elapsed:  7.1min\n",
            "[Parallel(n_jobs=-1)]: Done 644 tasks      | elapsed: 13.8min\n",
            "[Parallel(n_jobs=-1)]: Done 1009 tasks      | elapsed: 21.2min\n",
            "[Parallel(n_jobs=-1)]: Done 1454 tasks      | elapsed: 31.3min\n",
            "[Parallel(n_jobs=-1)]: Done 1981 tasks      | elapsed: 42.3min\n",
            "[Parallel(n_jobs=-1)]: Done 2588 tasks      | elapsed: 55.1min\n",
            "[Parallel(n_jobs=-1)]: Done 2880 out of 2880 | elapsed: 62.2min finished\n",
            "/usr/local/lib/python3.6/dist-packages/sklearn/model_selection/_search.py:739: DataConversionWarning:\n",
            "\n",
            "A column-vector y was passed when a 1d array was expected. Please change the shape of y to (n_samples,), for example using ravel().\n",
            "\n"
          ],
          "name": "stderr"
        },
        {
          "output_type": "execute_result",
          "data": {
            "text/plain": [
              "GridSearchCV(cv=10, error_score=nan,\n",
              "             estimator=RandomForestClassifier(bootstrap=True, ccp_alpha=0.0,\n",
              "                                              class_weight='balanced',\n",
              "                                              criterion='gini', max_depth=7,\n",
              "                                              max_features='auto',\n",
              "                                              max_leaf_nodes=None,\n",
              "                                              max_samples=None,\n",
              "                                              min_impurity_decrease=0.0,\n",
              "                                              min_impurity_split=None,\n",
              "                                              min_samples_leaf=5,\n",
              "                                              min_samples_split=2,\n",
              "                                              min_weight_fraction_leaf=0.0,\n",
              "                                              n_estimators=300, n_jobs=None,\n",
              "                                              oob_score=False, random_state=42,\n",
              "                                              verbose=0, warm_start=False),\n",
              "             iid='deprecated', n_jobs=-1,\n",
              "             param_grid={'bootstrap': [True], 'max_depth': [80, 90, 100, 110],\n",
              "                         'max_features': [2, 3], 'min_samples_leaf': [3, 4, 5],\n",
              "                         'min_samples_split': [8, 10, 12],\n",
              "                         'n_estimators': [100, 200, 300, 1000]},\n",
              "             pre_dispatch='2*n_jobs', refit=True, return_train_score=False,\n",
              "             scoring=None, verbose=2)"
            ]
          },
          "metadata": {
            "tags": []
          },
          "execution_count": 614
        }
      ]
    },
    {
      "cell_type": "code",
      "metadata": {
        "colab_type": "code",
        "id": "B1TZh0WlUQ9h",
        "colab": {
          "base_uri": "https://localhost:8080/",
          "height": 34
        },
        "outputId": "16467b8b-ab20-42ee-a2d5-85784035623e"
      },
      "source": [
        "grid_search.score(pca_features_train,pca_target_train)"
      ],
      "execution_count": null,
      "outputs": [
        {
          "output_type": "execute_result",
          "data": {
            "text/plain": [
              "0.9892841834547793"
            ]
          },
          "metadata": {
            "tags": []
          },
          "execution_count": 615
        }
      ]
    },
    {
      "cell_type": "code",
      "metadata": {
        "colab_type": "code",
        "id": "v21Z3ZRhVlir",
        "colab": {
          "base_uri": "https://localhost:8080/",
          "height": 34
        },
        "outputId": "4640d463-3f4c-48b1-ba8f-ca29b567e19e"
      },
      "source": [
        "grid_search.score(pca_features_test,pca_target_test)"
      ],
      "execution_count": null,
      "outputs": [
        {
          "output_type": "execute_result",
          "data": {
            "text/plain": [
              "0.959"
            ]
          },
          "metadata": {
            "tags": []
          },
          "execution_count": 616
        }
      ]
    },
    {
      "cell_type": "markdown",
      "metadata": {
        "colab_type": "text",
        "id": "J4CqApBDcyIp"
      },
      "source": [
        "With Grid Search, after tuning hyper parameters the accuracy is recorded as 96% i.e increased by 2%.\n"
      ]
    }
  ]
}